{
 "cells": [
  {
   "cell_type": "code",
   "execution_count": 59,
   "metadata": {},
   "outputs": [],
   "source": [
    "import pyforest\n",
    "import numpy as np\n",
    "import pandas as pd\n",
    "import os\n",
    "from matplotlib import pyplot as plt\n",
    "from tqdm import tqdm\n",
    "from pprint import pprint\n",
    "from time import sleep\n",
    "import time\n",
    "import seaborn as sns\n",
    "from sklearn.metrics import roc_auc_score\n",
    "from sklearn.metrics import RocCurveDisplay\n",
    "import inspect\n",
    "\n",
    "from turtle import forward\n",
    "import torch.nn as nn\n",
    "import torch.nn.functional as F\n",
    "import math\n",
    "import torch\n",
    "from torch.nn.parameter import Parameter\n",
    "from torch.nn.modules.module import Module\n",
    "from torch.utils.data import DataLoader, TensorDataset\n",
    "\n",
    "import models\n",
    "from models import get_accuracy"
   ]
  },
  {
   "cell_type": "markdown",
   "metadata": {},
   "source": [
    "#### **Load and process dataset**"
   ]
  },
  {
   "cell_type": "code",
   "execution_count": 60,
   "metadata": {},
   "outputs": [
    {
     "name": "stdout",
     "output_type": "stream",
     "text": [
      "n_users: 943\n",
      "n_items: 1682\n",
      "n_samples_train: 159619\n",
      "n_samples_test: 40381\n"
     ]
    }
   ],
   "source": [
    "dataset = 'movielens'\n",
    "use_gpu = 6\n",
    "\n",
    "train_edges = np.load('data/' + dataset + '/train_edges.npy')\n",
    "test_edges = np.load('data/' + dataset + '/test_edges.npy')\n",
    "\n",
    "user_list_train = train_edges[:, 0]\n",
    "user_list_test = test_edges[:, 0]\n",
    "item_list_train = train_edges[:, 1]\n",
    "item_list_test = test_edges[:, 1]\n",
    "rating_list_train = train_edges[:, 2].astype('float32')\n",
    "rating_list_test = test_edges[:, 2].astype('float32')\n",
    "\n",
    "n_users = max(user_list_train.max(), user_list_test.max()) + 1 \n",
    "n_items = max(item_list_train.max(), item_list_test.max()) + 1\n",
    "n_samples_train = len(rating_list_train)\n",
    "n_samples_test = len(rating_list_test)\n",
    "\n",
    "print('n_users:', n_users)\n",
    "print('n_items:', n_items)\n",
    "print('n_samples_train:', n_samples_train)\n",
    "print('n_samples_test:', n_samples_test)\n",
    "\n",
    "if use_gpu == -1:\n",
    "    device = 'cpu'\n",
    "else:\n",
    "    device = torch.device('cuda:{}'.format(str(use_gpu)) if torch.cuda.is_available() else 'cpu')\n",
    "\n",
    "users = torch.tensor(user_list_train, device = device)\n",
    "items = torch.tensor(item_list_train, device = device)\n",
    "ratings = torch.tensor(rating_list_train, device = device, requires_grad = True)\n",
    "\n",
    "users_test = torch.tensor(user_list_test, device = device)\n",
    "items_test = torch.tensor(item_list_test, device = device)\n",
    "ratings_test = torch.tensor(rating_list_test, device = device)\n",
    "\n",
    "ratings_np = ratings.detach().to('cpu').int().numpy()\n",
    "ratings_test_np = ratings_test.detach().to('cpu').int().numpy()"
   ]
  },
  {
   "cell_type": "markdown",
   "metadata": {},
   "source": [
    "#### **Function to test any model**"
   ]
  },
  {
   "cell_type": "code",
   "execution_count": 24,
   "metadata": {},
   "outputs": [],
   "source": [
    "def test_model(algorithm, n_users, n_items, n_factors=16, T = 50, optim = 'adam', lr = 0.1, seed = 0, device = 'cpu'):\n",
    "    \n",
    "    torch.manual_seed(seed)\n",
    "    model = getattr(models, algorithm)(n_users, n_items, n_factors).to(device)\n",
    "    \n",
    "    if optim == 'adam':\n",
    "        optimizer = torch.optim.Adam(model.parameters(), lr = lr)\n",
    "    elif optim == 'sgd':\n",
    "        optimizer = torch.optim.SGD(model.parameters(), lr = lr)\n",
    "    else:\n",
    "        raise ValueError('optimizer must be adam or sgd')\n",
    "\n",
    "    loss_fn = torch.nn.BCELoss(reduction = 'mean')\n",
    "    \n",
    "    train_auc = []\n",
    "    valid_auc = []\n",
    "\n",
    "    for _ in tqdm(range(T)):\n",
    "        model.eval()\n",
    "        with torch.no_grad():\n",
    "            y_hat = model(users, items).detach().to('cpu').numpy()\n",
    "            y_hat_test = model(users_test, items_test).detach().to('cpu').numpy()\n",
    "            train_auc.append(roc_auc_score(ratings_np, y_hat))\n",
    "            valid_auc.append(roc_auc_score(ratings_test_np, y_hat_test))\n",
    "        \n",
    "        model.train()\n",
    "        y_hat = model(users, items)\n",
    "        loss = loss_fn(y_hat, ratings)\n",
    "        optimizer.zero_grad()\n",
    "        loss.backward(retain_graph = True)\n",
    "        optimizer.step()\n",
    "    \n",
    "    model.eval()\n",
    "    loss = loss_fn(y_hat, ratings)\n",
    "    meta_grad = torch.autograd.grad(loss, ratings)[0]\n",
    "    print('max meta grad: ', meta_grad.max().item())\n",
    "    print('min meta grad: ', meta_grad.min().item())\n",
    "\n",
    "    with torch.no_grad():\n",
    "        y_hat = model(users, items)\n",
    "        y_hat_test = model(users_test, items_test)\n",
    "        print('Training accuracy: ', get_accuracy(y_hat, ratings))\n",
    "        print('Training AUC: ', roc_auc_score(ratings_np, y_hat.detach().to('cpu').numpy()))\n",
    "        print('Validation accuracy: ', get_accuracy(y_hat_test, ratings_test))\n",
    "        print('Validation AUC: ', roc_auc_score(ratings_test_np, y_hat_test.detach().to('cpu').numpy()))\n",
    "        print('Max validatio accuracy: ', max(valid_auc))\n",
    "        print('Max validation AUC: ', max(valid_auc))\n",
    "\n",
    "    plt.plot(train_auc, label = 'Training AUC')\n",
    "    plt.plot(valid_auc, label = 'Validation AUC')\n",
    "    plt.legend()\n",
    "    plt.xlabel('Epoch')\n",
    "    plt.ylabel('AUROC')\n",
    "    plt.title('AUROC vs epochs for {} algorithm'.format(algorithm))\n",
    "    plt.show()"
   ]
  },
  {
   "cell_type": "markdown",
   "metadata": {},
   "source": [
    "#### **Check available models**"
   ]
  },
  {
   "cell_type": "code",
   "execution_count": 32,
   "metadata": {},
   "outputs": [
    {
     "data": {
      "text/plain": [
       "['CF', 'CFD', 'GMF', 'GMFB', 'GMFD', 'MLP']"
      ]
     },
     "execution_count": 32,
     "metadata": {},
     "output_type": "execute_result"
    }
   ],
   "source": [
    "[m[0] for m in inspect.getmembers(models, inspect.isclass) if m[1].__module__ == 'models']"
   ]
  },
  {
   "cell_type": "code",
   "execution_count": 69,
   "metadata": {},
   "outputs": [
    {
     "data": {
      "text/plain": [
       "torch.Size([159619, 1])"
      ]
     },
     "execution_count": 69,
     "metadata": {},
     "output_type": "execute_result"
    }
   ],
   "source": [
    "model = getattr(models, 'GMF')(n_users, n_items, n_factors).to(device)\n",
    "model(users, items).shape"
   ]
  },
  {
   "cell_type": "markdown",
   "metadata": {},
   "source": [
    "#### **MLP algorithm**"
   ]
  },
  {
   "cell_type": "code",
   "execution_count": 39,
   "metadata": {},
   "outputs": [
    {
     "name": "stderr",
     "output_type": "stream",
     "text": [
      "  0%|          | 0/100 [00:00<?, ?it/s]\n"
     ]
    },
    {
     "ename": "ValueError",
     "evalue": "Using a target size (torch.Size([159619])) that is different to the input size (torch.Size([159619, 1])) is deprecated. Please ensure they have the same size.",
     "output_type": "error",
     "traceback": [
      "\u001b[0;31m---------------------------------------------------------------------------\u001b[0m",
      "\u001b[0;31mValueError\u001b[0m                                Traceback (most recent call last)",
      "\u001b[0;32m/tmp/ipykernel_2485729/3654773756.py\u001b[0m in \u001b[0;36m<module>\u001b[0;34m\u001b[0m\n\u001b[0;32m----> 1\u001b[0;31m \u001b[0mtest_model\u001b[0m\u001b[0;34m(\u001b[0m\u001b[0;34m'MLP'\u001b[0m\u001b[0;34m,\u001b[0m \u001b[0mn_users\u001b[0m\u001b[0;34m,\u001b[0m \u001b[0mn_items\u001b[0m\u001b[0;34m,\u001b[0m \u001b[0mn_factors\u001b[0m \u001b[0;34m=\u001b[0m \u001b[0;36m16\u001b[0m\u001b[0;34m,\u001b[0m \u001b[0mT\u001b[0m \u001b[0;34m=\u001b[0m \u001b[0;36m100\u001b[0m\u001b[0;34m,\u001b[0m \u001b[0moptim\u001b[0m \u001b[0;34m=\u001b[0m \u001b[0;34m'adam'\u001b[0m\u001b[0;34m,\u001b[0m \u001b[0mlr\u001b[0m \u001b[0;34m=\u001b[0m \u001b[0;36m0.1\u001b[0m\u001b[0;34m,\u001b[0m \u001b[0mseed\u001b[0m \u001b[0;34m=\u001b[0m \u001b[0;36m0\u001b[0m\u001b[0;34m,\u001b[0m \u001b[0mdevice\u001b[0m \u001b[0;34m=\u001b[0m \u001b[0mdevice\u001b[0m\u001b[0;34m)\u001b[0m\u001b[0;34m\u001b[0m\u001b[0;34m\u001b[0m\u001b[0m\n\u001b[0m",
      "\u001b[0;32m/tmp/ipykernel_2485729/1780496438.py\u001b[0m in \u001b[0;36mtest_model\u001b[0;34m(algorithm, n_users, n_items, n_factors, T, optim, lr, seed, device)\u001b[0m\n\u001b[1;32m     26\u001b[0m         \u001b[0mmodel\u001b[0m\u001b[0;34m.\u001b[0m\u001b[0mtrain\u001b[0m\u001b[0;34m(\u001b[0m\u001b[0;34m)\u001b[0m\u001b[0;34m\u001b[0m\u001b[0;34m\u001b[0m\u001b[0m\n\u001b[1;32m     27\u001b[0m         \u001b[0my_hat\u001b[0m \u001b[0;34m=\u001b[0m \u001b[0mmodel\u001b[0m\u001b[0;34m(\u001b[0m\u001b[0musers\u001b[0m\u001b[0;34m,\u001b[0m \u001b[0mitems\u001b[0m\u001b[0;34m)\u001b[0m\u001b[0;34m\u001b[0m\u001b[0;34m\u001b[0m\u001b[0m\n\u001b[0;32m---> 28\u001b[0;31m         \u001b[0mloss\u001b[0m \u001b[0;34m=\u001b[0m \u001b[0mloss_fn\u001b[0m\u001b[0;34m(\u001b[0m\u001b[0my_hat\u001b[0m\u001b[0;34m,\u001b[0m \u001b[0mratings\u001b[0m\u001b[0;34m)\u001b[0m\u001b[0;34m\u001b[0m\u001b[0;34m\u001b[0m\u001b[0m\n\u001b[0m\u001b[1;32m     29\u001b[0m         \u001b[0moptimizer\u001b[0m\u001b[0;34m.\u001b[0m\u001b[0mzero_grad\u001b[0m\u001b[0;34m(\u001b[0m\u001b[0;34m)\u001b[0m\u001b[0;34m\u001b[0m\u001b[0;34m\u001b[0m\u001b[0m\n\u001b[1;32m     30\u001b[0m         \u001b[0mloss\u001b[0m\u001b[0;34m.\u001b[0m\u001b[0mbackward\u001b[0m\u001b[0;34m(\u001b[0m\u001b[0mretain_graph\u001b[0m \u001b[0;34m=\u001b[0m \u001b[0;32mTrue\u001b[0m\u001b[0;34m)\u001b[0m\u001b[0;34m\u001b[0m\u001b[0;34m\u001b[0m\u001b[0m\n",
      "\u001b[0;32m~/anaconda3/envs/PyG/lib/python3.7/site-packages/torch/nn/modules/module.py\u001b[0m in \u001b[0;36m_call_impl\u001b[0;34m(self, *input, **kwargs)\u001b[0m\n\u001b[1;32m   1100\u001b[0m         if not (self._backward_hooks or self._forward_hooks or self._forward_pre_hooks or _global_backward_hooks\n\u001b[1;32m   1101\u001b[0m                 or _global_forward_hooks or _global_forward_pre_hooks):\n\u001b[0;32m-> 1102\u001b[0;31m             \u001b[0;32mreturn\u001b[0m \u001b[0mforward_call\u001b[0m\u001b[0;34m(\u001b[0m\u001b[0;34m*\u001b[0m\u001b[0minput\u001b[0m\u001b[0;34m,\u001b[0m \u001b[0;34m**\u001b[0m\u001b[0mkwargs\u001b[0m\u001b[0;34m)\u001b[0m\u001b[0;34m\u001b[0m\u001b[0;34m\u001b[0m\u001b[0m\n\u001b[0m\u001b[1;32m   1103\u001b[0m         \u001b[0;31m# Do not call functions when jit is used\u001b[0m\u001b[0;34m\u001b[0m\u001b[0;34m\u001b[0m\u001b[0;34m\u001b[0m\u001b[0m\n\u001b[1;32m   1104\u001b[0m         \u001b[0mfull_backward_hooks\u001b[0m\u001b[0;34m,\u001b[0m \u001b[0mnon_full_backward_hooks\u001b[0m \u001b[0;34m=\u001b[0m \u001b[0;34m[\u001b[0m\u001b[0;34m]\u001b[0m\u001b[0;34m,\u001b[0m \u001b[0;34m[\u001b[0m\u001b[0;34m]\u001b[0m\u001b[0;34m\u001b[0m\u001b[0;34m\u001b[0m\u001b[0m\n",
      "\u001b[0;32m~/anaconda3/envs/PyG/lib/python3.7/site-packages/torch/nn/modules/loss.py\u001b[0m in \u001b[0;36mforward\u001b[0;34m(self, input, target)\u001b[0m\n\u001b[1;32m    601\u001b[0m \u001b[0;34m\u001b[0m\u001b[0m\n\u001b[1;32m    602\u001b[0m     \u001b[0;32mdef\u001b[0m \u001b[0mforward\u001b[0m\u001b[0;34m(\u001b[0m\u001b[0mself\u001b[0m\u001b[0;34m,\u001b[0m \u001b[0minput\u001b[0m\u001b[0;34m:\u001b[0m \u001b[0mTensor\u001b[0m\u001b[0;34m,\u001b[0m \u001b[0mtarget\u001b[0m\u001b[0;34m:\u001b[0m \u001b[0mTensor\u001b[0m\u001b[0;34m)\u001b[0m \u001b[0;34m->\u001b[0m \u001b[0mTensor\u001b[0m\u001b[0;34m:\u001b[0m\u001b[0;34m\u001b[0m\u001b[0;34m\u001b[0m\u001b[0m\n\u001b[0;32m--> 603\u001b[0;31m         \u001b[0;32mreturn\u001b[0m \u001b[0mF\u001b[0m\u001b[0;34m.\u001b[0m\u001b[0mbinary_cross_entropy\u001b[0m\u001b[0;34m(\u001b[0m\u001b[0minput\u001b[0m\u001b[0;34m,\u001b[0m \u001b[0mtarget\u001b[0m\u001b[0;34m,\u001b[0m \u001b[0mweight\u001b[0m\u001b[0;34m=\u001b[0m\u001b[0mself\u001b[0m\u001b[0;34m.\u001b[0m\u001b[0mweight\u001b[0m\u001b[0;34m,\u001b[0m \u001b[0mreduction\u001b[0m\u001b[0;34m=\u001b[0m\u001b[0mself\u001b[0m\u001b[0;34m.\u001b[0m\u001b[0mreduction\u001b[0m\u001b[0;34m)\u001b[0m\u001b[0;34m\u001b[0m\u001b[0;34m\u001b[0m\u001b[0m\n\u001b[0m\u001b[1;32m    604\u001b[0m \u001b[0;34m\u001b[0m\u001b[0m\n\u001b[1;32m    605\u001b[0m \u001b[0;34m\u001b[0m\u001b[0m\n",
      "\u001b[0;32m~/anaconda3/envs/PyG/lib/python3.7/site-packages/torch/nn/functional.py\u001b[0m in \u001b[0;36mbinary_cross_entropy\u001b[0;34m(input, target, weight, size_average, reduce, reduction)\u001b[0m\n\u001b[1;32m   2906\u001b[0m         raise ValueError(\n\u001b[1;32m   2907\u001b[0m             \u001b[0;34m\"Using a target size ({}) that is different to the input size ({}) is deprecated. \"\u001b[0m\u001b[0;34m\u001b[0m\u001b[0;34m\u001b[0m\u001b[0m\n\u001b[0;32m-> 2908\u001b[0;31m             \u001b[0;34m\"Please ensure they have the same size.\"\u001b[0m\u001b[0;34m.\u001b[0m\u001b[0mformat\u001b[0m\u001b[0;34m(\u001b[0m\u001b[0mtarget\u001b[0m\u001b[0;34m.\u001b[0m\u001b[0msize\u001b[0m\u001b[0;34m(\u001b[0m\u001b[0;34m)\u001b[0m\u001b[0;34m,\u001b[0m \u001b[0minput\u001b[0m\u001b[0;34m.\u001b[0m\u001b[0msize\u001b[0m\u001b[0;34m(\u001b[0m\u001b[0;34m)\u001b[0m\u001b[0;34m)\u001b[0m\u001b[0;34m\u001b[0m\u001b[0;34m\u001b[0m\u001b[0m\n\u001b[0m\u001b[1;32m   2909\u001b[0m         )\n\u001b[1;32m   2910\u001b[0m \u001b[0;34m\u001b[0m\u001b[0m\n",
      "\u001b[0;31mValueError\u001b[0m: Using a target size (torch.Size([159619])) that is different to the input size (torch.Size([159619, 1])) is deprecated. Please ensure they have the same size."
     ]
    }
   ],
   "source": [
    "test_model('MLP', n_users, n_items, n_factors = 16, T = 100, optim = 'adam', lr = 0.1, seed = 0, device = device)"
   ]
  },
  {
   "cell_type": "markdown",
   "metadata": {},
   "source": [
    "#### **GMF algorithm with user-item bias**"
   ]
  },
  {
   "cell_type": "code",
   "execution_count": 26,
   "metadata": {},
   "outputs": [
    {
     "name": "stderr",
     "output_type": "stream",
     "text": [
      "100%|██████████| 200/200 [00:12<00:00, 15.71it/s]\n"
     ]
    },
    {
     "name": "stdout",
     "output_type": "stream",
     "text": [
      "max meta grad:  0.0002295246667927131\n",
      "min meta grad:  -inf\n",
      "Training accuracy:  0.8737744092941284\n",
      "Training AUC:  0.9485473606331404\n",
      "Validation accuracy:  0.8142938613891602\n",
      "Validation AUC:  0.8965669103576861\n",
      "Max validatio accuracy:  0.8982597149305726\n",
      "Max validation AUC:  0.8982597149305726\n"
     ]
    },
    {
     "data": {
      "image/png": "[encoded data removed]",
      "text/plain": [
       "<Figure size 432x288 with 1 Axes>"
      ]
     },
     "metadata": {
      "needs_background": "light"
     },
     "output_type": "display_data"
    }
   ],
   "source": [
    "test_model('GMFB', n_users, n_items, n_factors = 8, T = 200, optim = 'adam', lr = 0.1, seed = 0, device = device)"
   ]
  },
  {
   "cell_type": "markdown",
   "metadata": {},
   "source": [
    "#### **Test the model**"
   ]
  },
  {
   "cell_type": "code",
   "execution_count": 6,
   "metadata": {},
   "outputs": [],
   "source": []
  },
  {
   "cell_type": "markdown",
   "metadata": {},
   "source": [
    "#### **Test GMFD**"
   ]
  },
  {
   "cell_type": "code",
   "execution_count": 31,
   "metadata": {},
   "outputs": [
    {
     "name": "stdout",
     "output_type": "stream",
     "text": [
      "max meta grad:  0.00016304224845953286\n",
      "min meta grad:  -inf\n",
      "Training accuracy:  0.8734987378120422\n",
      "Training AUC:  0.9473852879023851\n",
      "Validation accuracy:  0.812684178352356\n",
      "Validation AUC:  0.8909770460232569\n"
     ]
    },
    {
     "data": {
      "image/png": "[encoded data removed]",
      "text/plain": [
       "<Figure size 432x288 with 1 Axes>"
      ]
     },
     "metadata": {
      "needs_background": "light"
     },
     "output_type": "display_data"
    }
   ],
   "source": [
    "n_factors = 16\n",
    "T = 30\n",
    "seed = 50\n",
    "lr = 0.5\n",
    "\n",
    "torch.manual_seed(seed)\n",
    "model = GMFD(n_users, n_items, n_factors)\n",
    "model.to(device)\n",
    "\n",
    "optimizer = torch.optim.Adam(model.parameters(), lr = 0.5)\n",
    "loss_fn = torch.nn.BCELoss(reduction = 'mean')\n",
    "\n",
    "train_auc = []\n",
    "valid_auc = []\n",
    "\n",
    "model.train()\n",
    "for t in list(range(T)):\n",
    "    with torch.no_grad():\n",
    "        y_hat = model(users, items).detach().to('cpu').numpy()\n",
    "        y_hat_test = model(users_test, items_test).detach().to('cpu').numpy()\n",
    "        train_auc.append(roc_auc_score(ratings_np, y_hat))\n",
    "        valid_auc.append(roc_auc_score(ratings_test_np, y_hat_test))\n",
    "\n",
    "    y_hat = model(users, items)\n",
    "    loss = loss_fn(y_hat, ratings)\n",
    "    optimizer.zero_grad()\n",
    "    loss.backward(retain_graph = True)\n",
    "    optimizer.step()\n",
    "\n",
    "model.eval()\n",
    "loss = loss_fn(y_hat, ratings)\n",
    "meta_grad = torch.autograd.grad(loss, ratings)[0]\n",
    "print('max meta grad: ', meta_grad.max().item())\n",
    "print('min meta grad: ', meta_grad.min().item())\n",
    "\n",
    "with torch.no_grad():\n",
    "    y_hat = model(users, items)\n",
    "    y_hat_test = model(users_test, items_test)\n",
    "    print('Training accuracy: ', get_accuracy(y_hat, ratings))\n",
    "    print('Training AUC: ', roc_auc_score(ratings_np, y_hat.detach().to('cpu').numpy()))\n",
    "    print('Validation accuracy: ', get_accuracy(y_hat_test, ratings_test))\n",
    "    print('Validation AUC: ', roc_auc_score(ratings_test_np, y_hat_test.detach().to('cpu').numpy()))\n",
    "\n",
    "plt.plot(train_auc, label = 'Training AUC')\n",
    "plt.plot(valid_auc, label = 'Validation AUC')\n",
    "plt.show()"
   ]
  },
  {
   "cell_type": "markdown",
   "metadata": {},
   "source": [
    "#### **Testing GMF**"
   ]
  },
  {
   "cell_type": "code",
   "execution_count": 32,
   "metadata": {},
   "outputs": [
    {
     "name": "stdout",
     "output_type": "stream",
     "text": [
      "max meta grad:  0.0003827007603831589\n",
      "min meta grad:  -inf\n",
      "Training accuracy:  0.9159999489784241\n",
      "Training AUC:  0.9753514114878358\n",
      "Validation accuracy:  0.7791040539741516\n",
      "Validation AUC:  0.8561287338697806\n"
     ]
    },
    {
     "data": {
      "image/png": "[encoded data removed]",
      "text/plain": [
       "<Figure size 432x288 with 1 Axes>"
      ]
     },
     "metadata": {
      "needs_background": "light"
     },
     "output_type": "display_data"
    }
   ],
   "source": [
    "n_factors = 16\n",
    "T = 30\n",
    "seed = 50\n",
    "lr = 0.5\n",
    "\n",
    "torch.manual_seed(seed)\n",
    "model = GMF(n_users, n_items, n_factors)\n",
    "model.to(device)\n",
    "\n",
    "optimizer = torch.optim.Adam(model.parameters(), lr = 0.5)\n",
    "loss_fn = torch.nn.BCELoss(reduction = 'mean')\n",
    "\n",
    "train_auc = []\n",
    "valid_auc = []\n",
    "\n",
    "model.train()\n",
    "for t in list(range(T)):\n",
    "    with torch.no_grad():\n",
    "        y_hat = model(users, items).detach().to('cpu').numpy()\n",
    "        y_hat_test = model(users_test, items_test).detach().to('cpu').numpy()\n",
    "        train_auc.append(roc_auc_score(ratings_np, y_hat))\n",
    "        valid_auc.append(roc_auc_score(ratings_test_np, y_hat_test))\n",
    "\n",
    "    y_hat = model(users, items)\n",
    "    loss = loss_fn(y_hat, ratings)\n",
    "    optimizer.zero_grad()\n",
    "    loss.backward(retain_graph = True)\n",
    "    optimizer.step()\n",
    "\n",
    "model.eval()\n",
    "loss = loss_fn(y_hat, ratings)\n",
    "meta_grad = torch.autograd.grad(loss, ratings)[0]\n",
    "print('max meta grad: ', meta_grad.max().item())\n",
    "print('min meta grad: ', meta_grad.min().item())\n",
    "\n",
    "with torch.no_grad():\n",
    "    y_hat = model(users, items)\n",
    "    y_hat_test = model(users_test, items_test)\n",
    "    print('Training accuracy: ', get_accuracy(y_hat, ratings))\n",
    "    print('Training AUC: ', roc_auc_score(ratings_np, y_hat.detach().to('cpu').numpy()))\n",
    "    print('Validation accuracy: ', get_accuracy(y_hat_test, ratings_test))\n",
    "    print('Validation AUC: ', roc_auc_score(ratings_test_np, y_hat_test.detach().to('cpu').numpy()))\n",
    "\n",
    "plt.plot(train_auc, label = 'Training AUC')\n",
    "plt.plot(valid_auc, label = 'Validation AUC')\n",
    "plt.show()"
   ]
  },
  {
   "cell_type": "markdown",
   "metadata": {},
   "source": [
    "#### **Testing CFD**"
   ]
  },
  {
   "cell_type": "code",
   "execution_count": 15,
   "metadata": {},
   "outputs": [
    {
     "name": "stdout",
     "output_type": "stream",
     "text": [
      "max meta grad:  0.00024571456015110016\n",
      "min meta grad:  -inf\n",
      "Training accuracy:  0.8331401348114014\n",
      "Training AUC:  0.9145737757319232\n",
      "Validation accuracy:  0.7985934019088745\n",
      "Validation AUC:  0.8782287424562092\n"
     ]
    },
    {
     "data": {
      "image/png": "[encoded data removed]",
      "text/plain": [
       "<Figure size 432x288 with 1 Axes>"
      ]
     },
     "metadata": {
      "needs_background": "light"
     },
     "output_type": "display_data"
    }
   ],
   "source": [
    "n_factors = 16\n",
    "T = 20\n",
    "seed = 50\n",
    "lr = 0.3\n",
    "\n",
    "torch.manual_seed(seed)\n",
    "model = CFD(n_users, n_items, n_factors)\n",
    "model.to(device)\n",
    "\n",
    "optimizer = torch.optim.Adam(model.parameters(), lr = lr)\n",
    "loss_fn = torch.nn.BCELoss(reduction = 'mean')\n",
    "\n",
    "train_auc = []\n",
    "valid_auc = []\n",
    "\n",
    "model.train()\n",
    "for t in list(range(T)):\n",
    "    with torch.no_grad():\n",
    "        y_hat = model(users, items).reshape(ratings.shape).detach().to('cpu').numpy()\n",
    "        y_hat_test = model(users_test, items_test).reshape(ratings_test.shape).detach().to('cpu').numpy()\n",
    "        train_auc.append(roc_auc_score(ratings_np, y_hat))\n",
    "        valid_auc.append(roc_auc_score(ratings_test_np, y_hat_test))\n",
    "\n",
    "    y_hat = model(users, items).reshape(ratings.shape)\n",
    "    loss = loss_fn(y_hat, ratings)\n",
    "    optimizer.zero_grad()\n",
    "    loss.backward(retain_graph = True)\n",
    "    optimizer.step()\n",
    "\n",
    "model.eval()\n",
    "loss = loss_fn(y_hat, ratings)\n",
    "meta_grad = torch.autograd.grad(loss, ratings)[0]\n",
    "print('max meta grad: ', meta_grad.max().item())\n",
    "print('min meta grad: ', meta_grad.min().item())\n",
    "\n",
    "with torch.no_grad():\n",
    "    y_hat = model(users, items).reshape(ratings.shape)\n",
    "    y_hat_test = model(users_test, items_test).reshape(ratings_test.shape)\n",
    "    print('Training accuracy: ', get_accuracy(y_hat, ratings))\n",
    "    print('Training AUC: ', roc_auc_score(ratings_np, y_hat.detach().to('cpu').numpy()))\n",
    "    print('Validation accuracy: ', get_accuracy(y_hat_test, ratings_test))\n",
    "    print('Validation AUC: ', roc_auc_score(ratings_test_np, y_hat_test.detach().to('cpu').numpy()))\n",
    "\n",
    "plt.plot(train_auc, label = 'Training AUC')\n",
    "plt.plot(valid_auc, label = 'Validation AUC')\n",
    "plt.show()"
   ]
  },
  {
   "cell_type": "markdown",
   "metadata": {},
   "source": [
    "#### **Testing CF**"
   ]
  },
  {
   "cell_type": "code",
   "execution_count": 36,
   "metadata": {},
   "outputs": [
    {
     "name": "stdout",
     "output_type": "stream",
     "text": [
      "max meta grad:  inf\n",
      "min meta grad:  -inf\n",
      "Training accuracy:  0.9508579969406128\n",
      "Training AUC:  0.9899306658900513\n",
      "Validation accuracy:  0.769842267036438\n",
      "Validation AUC:  0.8300272594573377\n"
     ]
    },
    {
     "data": {
      "image/png": "[encoded data removed]",
      "text/plain": [
       "<Figure size 432x288 with 1 Axes>"
      ]
     },
     "metadata": {
      "needs_background": "light"
     },
     "output_type": "display_data"
    }
   ],
   "source": [
    "n_factors = 16\n",
    "T = 50\n",
    "seed = 50\n",
    "lr = 0.5\n",
    "\n",
    "torch.manual_seed(seed)\n",
    "model = CF(n_users, n_items, n_factors)\n",
    "model.to(device)\n",
    "\n",
    "optimizer = torch.optim.Adam(model.parameters(), lr = 0.5)\n",
    "loss_fn = torch.nn.BCELoss(reduction = 'mean')\n",
    "\n",
    "train_auc = []\n",
    "valid_auc = []\n",
    "\n",
    "model.train()\n",
    "for t in list(range(T)):\n",
    "    with torch.no_grad():\n",
    "        y_hat = model(users, items).detach().to('cpu').numpy()\n",
    "        y_hat_test = model(users_test, items_test).detach().to('cpu').numpy()\n",
    "        train_auc.append(roc_auc_score(ratings_np, y_hat))\n",
    "        valid_auc.append(roc_auc_score(ratings_test_np, y_hat_test))\n",
    "\n",
    "    y_hat = model(users, items)\n",
    "    loss = loss_fn(y_hat, ratings)\n",
    "    optimizer.zero_grad()\n",
    "    loss.backward(retain_graph = True)\n",
    "    optimizer.step()\n",
    "\n",
    "model.eval()\n",
    "loss = loss_fn(y_hat, ratings)\n",
    "meta_grad = torch.autograd.grad(loss, ratings)[0]\n",
    "print('max meta grad: ', meta_grad.max().item())\n",
    "print('min meta grad: ', meta_grad.min().item())\n",
    "\n",
    "with torch.no_grad():\n",
    "    y_hat = model(users, items)\n",
    "    y_hat_test = model(users_test, items_test)\n",
    "    print('Training accuracy: ', get_accuracy(y_hat, ratings))\n",
    "    print('Training AUC: ', roc_auc_score(ratings_np, y_hat.detach().to('cpu').numpy()))\n",
    "    print('Validation accuracy: ', get_accuracy(y_hat_test, ratings_test))\n",
    "    print('Validation AUC: ', roc_auc_score(ratings_test_np, y_hat_test.detach().to('cpu').numpy()))\n",
    "\n",
    "plt.plot(train_auc, label = 'Training AUC')\n",
    "plt.plot(valid_auc, label = 'Validation AUC')\n",
    "plt.show()"
   ]
  },
  {
   "cell_type": "markdown",
   "metadata": {},
   "source": [
    "#### **Testing MLP**"
   ]
  },
  {
   "cell_type": "code",
   "execution_count": 34,
   "metadata": {},
   "outputs": [
    {
     "name": "stdout",
     "output_type": "stream",
     "text": [
      "max meta grad:  8.789499406702816e-05\n",
      "min meta grad:  -5.762612636317499e-05\n",
      "Training accuracy:  0.8600855469703674\n",
      "Training AUC:  0.9366130102425301\n",
      "Validation accuracy:  0.8025308847427368\n",
      "Validation AUC:  0.8832110593199547\n"
     ]
    },
    {
     "data": {
      "image/png": "[encoded data removed]",
      "text/plain": [
       "<Figure size 432x288 with 1 Axes>"
      ]
     },
     "metadata": {
      "needs_background": "light"
     },
     "output_type": "display_data"
    },
    {
     "data": {
      "image/png": "[encoded data removed]",
      "text/plain": [
       "<Figure size 432x288 with 1 Axes>"
      ]
     },
     "metadata": {
      "needs_background": "light"
     },
     "output_type": "display_data"
    }
   ],
   "source": [
    "n_factors = 16\n",
    "T = 100\n",
    "seed = 50\n",
    "lr = 0.05\n",
    "\n",
    "torch.manual_seed(seed)\n",
    "model = MLP(n_users, n_items, n_factors)\n",
    "model.to(device)\n",
    "\n",
    "optimizer = torch.optim.Adam(model.parameters(), lr = lr)\n",
    "loss_fn = torch.nn.BCELoss(reduction = 'mean')\n",
    "\n",
    "train_auc = []\n",
    "valid_auc = []\n",
    "\n",
    "for t in list(range(T)):\n",
    "    model.eval()\n",
    "    with torch.no_grad():\n",
    "        y_hat = model(users, items).reshape(ratings.shape).detach().to('cpu').numpy()\n",
    "        y_hat_test = model(users_test, items_test).reshape(ratings_test.shape).detach().to('cpu').numpy()\n",
    "        train_auc.append(roc_auc_score(ratings_np, y_hat))\n",
    "        valid_auc.append(roc_auc_score(ratings_test_np, y_hat_test))\n",
    "\n",
    "    model.train()\n",
    "    y_hat = model(users, items).reshape(ratings.shape)\n",
    "    loss = loss_fn(y_hat, ratings)\n",
    "    optimizer.zero_grad()\n",
    "    loss.backward(retain_graph = True)\n",
    "    optimizer.step()\n",
    "\n",
    "model.eval()\n",
    "loss = loss_fn(y_hat, ratings)\n",
    "meta_grad = torch.autograd.grad(loss, ratings)[0]\n",
    "print('max meta grad: ', meta_grad.max().item())\n",
    "print('min meta grad: ', meta_grad.min().item())\n",
    "\n",
    "with torch.no_grad():\n",
    "    y_hat = model(users, items).reshape(ratings.shape)\n",
    "    y_hat_test = model(users_test, items_test).reshape(ratings_test.shape)\n",
    "    print('Training accuracy: ', get_accuracy(y_hat, ratings))\n",
    "    print('Training AUC: ', roc_auc_score(ratings_np, y_hat.detach().to('cpu').numpy()))\n",
    "    print('Validation accuracy: ', get_accuracy(y_hat_test, ratings_test))\n",
    "    print('Validation AUC: ', roc_auc_score(ratings_test_np, y_hat_test.detach().to('cpu').numpy()))\n",
    "\n",
    "plt.plot(train_auc, label = 'Training AUC')\n",
    "plt.plot(valid_auc, label = 'Validation AUC')\n",
    "plt.show()\n",
    "RocCurveDisplay.from_predictions(ratings_test_np, y_hat_test.detach().to('cpu').numpy())\n",
    "plt.show()"
   ]
  },
  {
   "cell_type": "markdown",
   "metadata": {},
   "source": [
    "#### **Testing GMFB**"
   ]
  },
  {
   "cell_type": "code",
   "execution_count": 7,
   "metadata": {},
   "outputs": [
    {
     "name": "stderr",
     "output_type": "stream",
     "text": [
      "100%|██████████| 200/200 [00:12<00:00, 16.41it/s]\n"
     ]
    },
    {
     "name": "stdout",
     "output_type": "stream",
     "text": [
      "max meta grad:  0.0002259853936266154\n",
      "min meta grad:  -inf\n",
      "Training accuracy:  0.8838233351707458\n",
      "Training AUC:  0.9561807178562906\n",
      "Validation accuracy:  0.8176617622375488\n",
      "Validation AUC:  0.8969587225847603\n",
      "Max validatio accuracy:  0.897947497669398\n",
      "Max validation AUC:  0.897947497669398\n"
     ]
    },
    {
     "data": {
      "image/png": "[encoded data removed]",
      "text/plain": [
       "<Figure size 432x288 with 1 Axes>"
      ]
     },
     "metadata": {
      "needs_background": "light"
     },
     "output_type": "display_data"
    }
   ],
   "source": [
    "n_factors = 10\n",
    "T = 200\n",
    "seed = 50\n",
    "lr = 0.1\n",
    "\n",
    "torch.manual_seed(seed)\n",
    "model = GMFB(n_users, n_items, n_factors)\n",
    "model.to(device)\n",
    "\n",
    "optimizer = torch.optim.Adam(model.parameters(), lr = lr)\n",
    "loss_fn = torch.nn.BCELoss(reduction = 'mean')\n",
    "\n",
    "train_auc = []\n",
    "valid_auc = []\n",
    "\n",
    "for _ in tqdm(range(T)):\n",
    "    model.eval()\n",
    "    with torch.no_grad():\n",
    "        y_hat = model(users, items).detach().to('cpu').numpy()\n",
    "        y_hat_test = model(users_test, items_test).detach().to('cpu').numpy()\n",
    "        train_auc.append(roc_auc_score(ratings_np, y_hat))\n",
    "        valid_auc.append(roc_auc_score(ratings_test_np, y_hat_test))\n",
    "    model.train()\n",
    "    y_hat = model(users, items)\n",
    "    loss = loss_fn(y_hat, ratings)\n",
    "    optimizer.zero_grad()\n",
    "    loss.backward(retain_graph = True)\n",
    "    optimizer.step()\n",
    "\n",
    "model.eval()\n",
    "loss = loss_fn(y_hat, ratings)\n",
    "meta_grad = torch.autograd.grad(loss, ratings)[0]\n",
    "print('max meta grad: ', meta_grad.max().item())\n",
    "print('min meta grad: ', meta_grad.min().item())\n",
    "\n",
    "with torch.no_grad():\n",
    "    y_hat = model(users, items)\n",
    "    y_hat_test = model(users_test, items_test)\n",
    "    print('Training accuracy: ', get_accuracy(y_hat, ratings))\n",
    "    print('Training AUC: ', roc_auc_score(ratings_np, y_hat.detach().to('cpu').numpy()))\n",
    "    print('Validation accuracy: ', get_accuracy(y_hat_test, ratings_test))\n",
    "    print('Validation AUC: ', roc_auc_score(ratings_test_np, y_hat_test.detach().to('cpu').numpy()))\n",
    "    print('Max validatio accuracy: ', max(valid_auc))\n",
    "    print('Max validation AUC: ', max(valid_auc))\n",
    "\n",
    "plt.plot(train_auc, label = 'Training AUC')\n",
    "plt.plot(valid_auc, label = 'Validation AUC')\n",
    "plt.show()\n",
    "\n",
    "# y_hat = model(users, items)\n",
    "# print(y_hat.shape)"
   ]
  }
 ],
 "metadata": {
  "interpreter": {
   "hash": "6f38835821387ecea7238337192aa99e87ed1a9c9c1fa6562e207de7e0c31193"
  },
  "kernelspec": {
   "display_name": "Python 3.7.11 ('PyG': conda)",
   "language": "python",
   "name": "python3"
  },
  "language_info": {
   "codemirror_mode": {
    "name": "ipython",
    "version": 3
   },
   "file_extension": ".py",
   "mimetype": "text/x-python",
   "name": "python",
   "nbconvert_exporter": "python",
   "pygments_lexer": "ipython3",
   "version": "3.7.11"
  },
  "orig_nbformat": 4
 },
 "nbformat": 4,
 "nbformat_minor": 2
}
