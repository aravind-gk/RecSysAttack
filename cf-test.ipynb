{
 "cells": [
  {
   "cell_type": "code",
   "execution_count": 1,
   "metadata": {},
   "outputs": [],
   "source": [
    "# Library imports\n",
    "import pyforest\n",
    "import numpy as np\n",
    "import pandas as pd\n",
    "import os\n",
    "from matplotlib import pyplot as plt\n",
    "from tqdm import tqdm\n",
    "from pprint import pprint\n",
    "from time import sleep\n",
    "import time\n",
    "import seaborn as sns\n",
    "from sklearn.metrics import roc_auc_score\n",
    "\n",
    "from turtle import forward\n",
    "import torch.nn as nn\n",
    "import torch.nn.functional as F\n",
    "import math\n",
    "import torch\n",
    "from torch.nn.parameter import Parameter\n",
    "from torch.nn.modules.module import Module\n",
    "from torch.utils.data import DataLoader, TensorDataset"
   ]
  },
  {
   "cell_type": "markdown",
   "metadata": {},
   "source": [
    "#### **Load dataset**"
   ]
  },
  {
   "cell_type": "code",
   "execution_count": 2,
   "metadata": {},
   "outputs": [
    {
     "data": {
      "text/plain": [
       "(943, 1682, 159619, 40381)"
      ]
     },
     "execution_count": 2,
     "metadata": {},
     "output_type": "execute_result"
    }
   ],
   "source": [
    "dataset = 'movielens'\n",
    "\n",
    "train_edges = np.load('data/' + dataset + '/train_edges.npy')\n",
    "test_edges = np.load('data/' + dataset + '/test_edges.npy')\n",
    "\n",
    "user_list_train = train_edges[:, 0]\n",
    "user_list_test = test_edges[:, 0]\n",
    "item_list_train = train_edges[:, 1]\n",
    "item_list_test = test_edges[:, 1]\n",
    "rating_list_train = train_edges[:, 2].astype('float32')\n",
    "rating_list_test = test_edges[:, 2].astype('float32')\n",
    "\n",
    "n_users = max(user_list_train.max(), user_list_test.max()) + 1 \n",
    "n_items = max(item_list_train.max(), item_list_test.max()) + 1\n",
    "n_samples_train = len(rating_list_train)\n",
    "n_samples_test = len(rating_list_test)\n",
    "\n",
    "n_users, n_items, n_samples_train, n_samples_test"
   ]
  },
  {
   "cell_type": "markdown",
   "metadata": {},
   "source": [
    "#### **Defining collaborative filtering**"
   ]
  },
  {
   "cell_type": "code",
   "execution_count": 3,
   "metadata": {},
   "outputs": [],
   "source": [
    "class CF(Module):\n",
    "    def __init__(self, n_users, n_items, n_factors):\n",
    "        super(CF, self).__init__()\n",
    "        self.user_emb = nn.Embedding(n_users, n_factors)\n",
    "        self.item_emb = nn.Embedding(n_items, n_factors)\n",
    "\n",
    "    def forward(self, user, item):\n",
    "        u = self.user_emb(user)\n",
    "        i = self.item_emb(item)\n",
    "        dot = (u * i).sum(1)\n",
    "        return torch.sigmoid(dot)\n",
    "\n",
    "class CFD(Module):\n",
    "    def __init__(self, n_users, n_items, n_factors):\n",
    "        super(CFD, self).__init__()\n",
    "        self.user_emb = nn.Embedding(n_users, n_factors)\n",
    "        self.item_emb = nn.Embedding(n_items, n_factors)\n",
    "        self.drop_u = nn.Dropout(p = 0.3)\n",
    "        self.drop_i = nn.Dropout(p = 0.3)\n",
    "\n",
    "    def forward(self, user, item):\n",
    "        u = self.user_emb(user)\n",
    "        i = self.item_emb(item)\n",
    "        u = self.drop_u(u)\n",
    "        i = self.drop_i(i)\n",
    "        dot = (u * i).sum(1)\n",
    "        return torch.sigmoid(dot)\n",
    "\n",
    "class GMF(Module):\n",
    "    def __init__(self, n_users, n_items, n_factors):\n",
    "        super(GMF, self).__init__()\n",
    "        self.user_emb = nn.Embedding(n_users, n_factors)\n",
    "        self.item_emb = nn.Embedding(n_items, n_factors)\n",
    "        self.h = nn.Linear(n_factors, 1)\n",
    "\n",
    "    def forward(self, user, item):\n",
    "        u = self.user_emb(user)\n",
    "        i = self.item_emb(item)\n",
    "        dot = (u * i)\n",
    "        x = self.h(dot)\n",
    "        return torch.sigmoid(x)\n",
    "\n",
    "class GMFD(Module):\n",
    "    def __init__(self, n_users, n_items, n_factors):\n",
    "        super(GMFD, self).__init__()\n",
    "        self.user_emb = nn.Embedding(n_users, n_factors)\n",
    "        self.item_emb = nn.Embedding(n_items, n_factors)\n",
    "        self.h = nn.Linear(n_factors, 1)\n",
    "        self.drop_u = nn.Dropout(p = 0.2)\n",
    "        self.drop_i = nn.Dropout(p = 0.2)\n",
    "\n",
    "    def forward(self, user, item):\n",
    "        u = self.user_emb(user)\n",
    "        i = self.item_emb(item)\n",
    "        u = self.drop_u(u)\n",
    "        i = self.drop_i(i)\n",
    "        dot = (u * i)\n",
    "        x = self.h(dot)\n",
    "        return torch.sigmoid(x)\n",
    "\n",
    "def get_accuracy(y_hat, y):\n",
    "    y = y.clone().int()\n",
    "    y_hat = (y_hat.clone() > 0.5).int()\n",
    "    accuracy = (y == y_hat).sum() / len(y)\n",
    "    return accuracy.item()"
   ]
  },
  {
   "cell_type": "markdown",
   "metadata": {},
   "source": [
    "#### **Test the model**"
   ]
  },
  {
   "cell_type": "code",
   "execution_count": 4,
   "metadata": {},
   "outputs": [],
   "source": [
    "use_gpu = 6\n",
    "if use_gpu == -1:\n",
    "    device = 'cpu'\n",
    "else:\n",
    "    device = torch.device('cuda:{}'.format(str(use_gpu)) if torch.cuda.is_available() else 'cpu')\n",
    "\n",
    "users = torch.tensor(user_list_train, device = device)\n",
    "items = torch.tensor(item_list_train, device = device)\n",
    "ratings = torch.tensor(rating_list_train, device = device, requires_grad = True)\n",
    "\n",
    "users_test = torch.tensor(user_list_test, device = device)\n",
    "items_test = torch.tensor(item_list_test, device = device)\n",
    "ratings_test = torch.tensor(rating_list_test, device = device)\n",
    "\n",
    "ratings_np = ratings.detach().to('cpu').int().numpy()\n",
    "ratings_test_np = ratings_test.detach().to('cpu').int().numpy()"
   ]
  },
  {
   "cell_type": "markdown",
   "metadata": {},
   "source": [
    "#### **Test GMFD**"
   ]
  },
  {
   "cell_type": "code",
   "execution_count": 31,
   "metadata": {},
   "outputs": [
    {
     "name": "stdout",
     "output_type": "stream",
     "text": [
      "max meta grad:  0.00016304224845953286\n",
      "min meta grad:  -inf\n",
      "Training accuracy:  0.8734987378120422\n",
      "Training AUC:  0.9473852879023851\n",
      "Validation accuracy:  0.812684178352356\n",
      "Validation AUC:  0.8909770460232569\n"
     ]
    },
    {
     "data": {
      "image/png": "[encoded data removed]",
      "text/plain": [
       "<Figure size 432x288 with 1 Axes>"
      ]
     },
     "metadata": {
      "needs_background": "light"
     },
     "output_type": "display_data"
    }
   ],
   "source": [
    "n_factors = 16\n",
    "T = 30\n",
    "seed = 50\n",
    "lr = 0.5\n",
    "\n",
    "torch.manual_seed(seed)\n",
    "model = GMFD(n_users, n_items, n_factors)\n",
    "model.to(device)\n",
    "\n",
    "optimizer = torch.optim.Adam(model.parameters(), lr = 0.5)\n",
    "loss_fn = torch.nn.BCELoss(reduction = 'mean')\n",
    "\n",
    "train_auc = []\n",
    "valid_auc = []\n",
    "\n",
    "model.train()\n",
    "for t in list(range(T)):\n",
    "    with torch.no_grad():\n",
    "        y_hat = model(users, items).detach().to('cpu').numpy()\n",
    "        y_hat_test = model(users_test, items_test).detach().to('cpu').numpy()\n",
    "        train_auc.append(roc_auc_score(ratings_np, y_hat))\n",
    "        valid_auc.append(roc_auc_score(ratings_test_np, y_hat_test))\n",
    "\n",
    "    y_hat = model(users, items)\n",
    "    loss = loss_fn(y_hat, ratings)\n",
    "    optimizer.zero_grad()\n",
    "    loss.backward(retain_graph = True)\n",
    "    optimizer.step()\n",
    "\n",
    "model.eval()\n",
    "loss = loss_fn(y_hat, ratings)\n",
    "meta_grad = torch.autograd.grad(loss, ratings)[0]\n",
    "print('max meta grad: ', meta_grad.max().item())\n",
    "print('min meta grad: ', meta_grad.min().item())\n",
    "\n",
    "with torch.no_grad():\n",
    "    y_hat = model(users, items)\n",
    "    y_hat_test = model(users_test, items_test)\n",
    "    print('Training accuracy: ', get_accuracy(y_hat, ratings))\n",
    "    print('Training AUC: ', roc_auc_score(ratings_np, y_hat.detach().to('cpu').numpy()))\n",
    "    print('Validation accuracy: ', get_accuracy(y_hat_test, ratings_test))\n",
    "    print('Validation AUC: ', roc_auc_score(ratings_test_np, y_hat_test.detach().to('cpu').numpy()))\n",
    "\n",
    "plt.plot(train_auc, label = 'Training AUC')\n",
    "plt.plot(valid_auc, label = 'Validation AUC')\n",
    "plt.show()"
   ]
  },
  {
   "cell_type": "markdown",
   "metadata": {},
   "source": [
    "#### **Testing GMF**"
   ]
  },
  {
   "cell_type": "code",
   "execution_count": 32,
   "metadata": {},
   "outputs": [
    {
     "name": "stdout",
     "output_type": "stream",
     "text": [
      "max meta grad:  0.0003827007603831589\n",
      "min meta grad:  -inf\n",
      "Training accuracy:  0.9159999489784241\n",
      "Training AUC:  0.9753514114878358\n",
      "Validation accuracy:  0.7791040539741516\n",
      "Validation AUC:  0.8561287338697806\n"
     ]
    },
    {
     "data": {
      "image/png": "[encoded data removed]",
      "text/plain": [
       "<Figure size 432x288 with 1 Axes>"
      ]
     },
     "metadata": {
      "needs_background": "light"
     },
     "output_type": "display_data"
    }
   ],
   "source": [
    "n_factors = 16\n",
    "T = 30\n",
    "seed = 50\n",
    "lr = 0.5\n",
    "\n",
    "torch.manual_seed(seed)\n",
    "model = GMF(n_users, n_items, n_factors)\n",
    "model.to(device)\n",
    "\n",
    "optimizer = torch.optim.Adam(model.parameters(), lr = 0.5)\n",
    "loss_fn = torch.nn.BCELoss(reduction = 'mean')\n",
    "\n",
    "train_auc = []\n",
    "valid_auc = []\n",
    "\n",
    "model.train()\n",
    "for t in list(range(T)):\n",
    "    with torch.no_grad():\n",
    "        y_hat = model(users, items).detach().to('cpu').numpy()\n",
    "        y_hat_test = model(users_test, items_test).detach().to('cpu').numpy()\n",
    "        train_auc.append(roc_auc_score(ratings_np, y_hat))\n",
    "        valid_auc.append(roc_auc_score(ratings_test_np, y_hat_test))\n",
    "\n",
    "    y_hat = model(users, items)\n",
    "    loss = loss_fn(y_hat, ratings)\n",
    "    optimizer.zero_grad()\n",
    "    loss.backward(retain_graph = True)\n",
    "    optimizer.step()\n",
    "\n",
    "model.eval()\n",
    "loss = loss_fn(y_hat, ratings)\n",
    "meta_grad = torch.autograd.grad(loss, ratings)[0]\n",
    "print('max meta grad: ', meta_grad.max().item())\n",
    "print('min meta grad: ', meta_grad.min().item())\n",
    "\n",
    "with torch.no_grad():\n",
    "    y_hat = model(users, items)\n",
    "    y_hat_test = model(users_test, items_test)\n",
    "    print('Training accuracy: ', get_accuracy(y_hat, ratings))\n",
    "    print('Training AUC: ', roc_auc_score(ratings_np, y_hat.detach().to('cpu').numpy()))\n",
    "    print('Validation accuracy: ', get_accuracy(y_hat_test, ratings_test))\n",
    "    print('Validation AUC: ', roc_auc_score(ratings_test_np, y_hat_test.detach().to('cpu').numpy()))\n",
    "\n",
    "plt.plot(train_auc, label = 'Training AUC')\n",
    "plt.plot(valid_auc, label = 'Validation AUC')\n",
    "plt.show()"
   ]
  },
  {
   "cell_type": "markdown",
   "metadata": {},
   "source": [
    "#### **Testing CFD**"
   ]
  },
  {
   "cell_type": "code",
   "execution_count": 15,
   "metadata": {},
   "outputs": [
    {
     "name": "stdout",
     "output_type": "stream",
     "text": [
      "max meta grad:  0.00024571456015110016\n",
      "min meta grad:  -inf\n",
      "Training accuracy:  0.8331401348114014\n",
      "Training AUC:  0.9145737757319232\n",
      "Validation accuracy:  0.7985934019088745\n",
      "Validation AUC:  0.8782287424562092\n"
     ]
    },
    {
     "data": {
      "image/png": "[encoded data removed]",
      "text/plain": [
       "<Figure size 432x288 with 1 Axes>"
      ]
     },
     "metadata": {
      "needs_background": "light"
     },
     "output_type": "display_data"
    }
   ],
   "source": [
    "n_factors = 16\n",
    "T = 20\n",
    "seed = 50\n",
    "lr = 0.3\n",
    "\n",
    "torch.manual_seed(seed)\n",
    "model = CFD(n_users, n_items, n_factors)\n",
    "model.to(device)\n",
    "\n",
    "optimizer = torch.optim.Adam(model.parameters(), lr = lr)\n",
    "loss_fn = torch.nn.BCELoss(reduction = 'mean')\n",
    "\n",
    "train_auc = []\n",
    "valid_auc = []\n",
    "\n",
    "model.train()\n",
    "for t in list(range(T)):\n",
    "    with torch.no_grad():\n",
    "        y_hat = model(users, items).reshape(ratings.shape).detach().to('cpu').numpy()\n",
    "        y_hat_test = model(users_test, items_test).reshape(ratings_test.shape).detach().to('cpu').numpy()\n",
    "        train_auc.append(roc_auc_score(ratings_np, y_hat))\n",
    "        valid_auc.append(roc_auc_score(ratings_test_np, y_hat_test))\n",
    "\n",
    "    y_hat = model(users, items).reshape(ratings.shape)\n",
    "    loss = loss_fn(y_hat, ratings)\n",
    "    optimizer.zero_grad()\n",
    "    loss.backward(retain_graph = True)\n",
    "    optimizer.step()\n",
    "\n",
    "model.eval()\n",
    "loss = loss_fn(y_hat, ratings)\n",
    "meta_grad = torch.autograd.grad(loss, ratings)[0]\n",
    "print('max meta grad: ', meta_grad.max().item())\n",
    "print('min meta grad: ', meta_grad.min().item())\n",
    "\n",
    "with torch.no_grad():\n",
    "    y_hat = model(users, items).reshape(ratings.shape)\n",
    "    y_hat_test = model(users_test, items_test).reshape(ratings_test.shape)\n",
    "    print('Training accuracy: ', get_accuracy(y_hat, ratings))\n",
    "    print('Training AUC: ', roc_auc_score(ratings_np, y_hat.detach().to('cpu').numpy()))\n",
    "    print('Validation accuracy: ', get_accuracy(y_hat_test, ratings_test))\n",
    "    print('Validation AUC: ', roc_auc_score(ratings_test_np, y_hat_test.detach().to('cpu').numpy()))\n",
    "\n",
    "plt.plot(train_auc, label = 'Training AUC')\n",
    "plt.plot(valid_auc, label = 'Validation AUC')\n",
    "plt.show()"
   ]
  },
  {
   "cell_type": "markdown",
   "metadata": {},
   "source": [
    "#### **Testing CF**"
   ]
  },
  {
   "cell_type": "code",
   "execution_count": 36,
   "metadata": {},
   "outputs": [
    {
     "name": "stdout",
     "output_type": "stream",
     "text": [
      "max meta grad:  inf\n",
      "min meta grad:  -inf\n",
      "Training accuracy:  0.9508579969406128\n",
      "Training AUC:  0.9899306658900513\n",
      "Validation accuracy:  0.769842267036438\n",
      "Validation AUC:  0.8300272594573377\n"
     ]
    },
    {
     "data": {
      "image/png": "[encoded data removed]",
      "text/plain": [
       "<Figure size 432x288 with 1 Axes>"
      ]
     },
     "metadata": {
      "needs_background": "light"
     },
     "output_type": "display_data"
    }
   ],
   "source": [
    "n_factors = 16\n",
    "T = 50\n",
    "seed = 50\n",
    "lr = 0.5\n",
    "\n",
    "torch.manual_seed(seed)\n",
    "model = CF(n_users, n_items, n_factors)\n",
    "model.to(device)\n",
    "\n",
    "optimizer = torch.optim.Adam(model.parameters(), lr = 0.5)\n",
    "loss_fn = torch.nn.BCELoss(reduction = 'mean')\n",
    "\n",
    "train_auc = []\n",
    "valid_auc = []\n",
    "\n",
    "model.train()\n",
    "for t in list(range(T)):\n",
    "    with torch.no_grad():\n",
    "        y_hat = model(users, items).detach().to('cpu').numpy()\n",
    "        y_hat_test = model(users_test, items_test).detach().to('cpu').numpy()\n",
    "        train_auc.append(roc_auc_score(ratings_np, y_hat))\n",
    "        valid_auc.append(roc_auc_score(ratings_test_np, y_hat_test))\n",
    "\n",
    "    y_hat = model(users, items)\n",
    "    loss = loss_fn(y_hat, ratings)\n",
    "    optimizer.zero_grad()\n",
    "    loss.backward(retain_graph = True)\n",
    "    optimizer.step()\n",
    "\n",
    "model.eval()\n",
    "loss = loss_fn(y_hat, ratings)\n",
    "meta_grad = torch.autograd.grad(loss, ratings)[0]\n",
    "print('max meta grad: ', meta_grad.max().item())\n",
    "print('min meta grad: ', meta_grad.min().item())\n",
    "\n",
    "with torch.no_grad():\n",
    "    y_hat = model(users, items)\n",
    "    y_hat_test = model(users_test, items_test)\n",
    "    print('Training accuracy: ', get_accuracy(y_hat, ratings))\n",
    "    print('Training AUC: ', roc_auc_score(ratings_np, y_hat.detach().to('cpu').numpy()))\n",
    "    print('Validation accuracy: ', get_accuracy(y_hat_test, ratings_test))\n",
    "    print('Validation AUC: ', roc_auc_score(ratings_test_np, y_hat_test.detach().to('cpu').numpy()))\n",
    "\n",
    "plt.plot(train_auc, label = 'Training AUC')\n",
    "plt.plot(valid_auc, label = 'Validation AUC')\n",
    "plt.show()"
   ]
  }
 ],
 "metadata": {
  "interpreter": {
   "hash": "6f38835821387ecea7238337192aa99e87ed1a9c9c1fa6562e207de7e0c31193"
  },
  "kernelspec": {
   "display_name": "Python 3.7.11 ('PyG': conda)",
   "language": "python",
   "name": "python3"
  },
  "language_info": {
   "codemirror_mode": {
    "name": "ipython",
    "version": 3
   },
   "file_extension": ".py",
   "mimetype": "text/x-python",
   "name": "python",
   "nbconvert_exporter": "python",
   "pygments_lexer": "ipython3",
   "version": "3.7.11"
  },
  "orig_nbformat": 4
 },
 "nbformat": 4,
 "nbformat_minor": 2
}
