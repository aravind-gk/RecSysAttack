{
 "cells": [
  {
   "cell_type": "markdown",
   "metadata": {},
   "source": [
    "#### **Library imports**"
   ]
  },
  {
   "cell_type": "code",
   "execution_count": 1,
   "metadata": {},
   "outputs": [],
   "source": [
    "# Library imports\n",
    "import pyforest\n",
    "import numpy as np\n",
    "import pandas as pd\n",
    "import os\n",
    "from matplotlib import pyplot as plt\n",
    "from tqdm import tqdm\n",
    "from pprint import pprint\n",
    "from time import sleep\n",
    "import time\n",
    "\n",
    "from turtle import forward\n",
    "import torch.nn as nn\n",
    "import torch.nn.functional as F\n",
    "import math\n",
    "import torch\n",
    "from torch.nn.parameter import Parameter\n",
    "from torch.nn.modules.module import Module\n",
    "from torch.utils.data import DataLoader, TensorDataset"
   ]
  },
  {
   "cell_type": "markdown",
   "metadata": {},
   "source": [
    "#### **Hyperparams and loading data**"
   ]
  },
  {
   "cell_type": "code",
   "execution_count": 3,
   "metadata": {},
   "outputs": [],
   "source": [
    "train_edges = np.load('data/train_edges.npy')\n",
    "user_list = train_edges[:, 0]\n",
    "item_list = train_edges[:, 1]\n",
    "rating_list = train_edges[:, 2].astype('float32')\n",
    "\n",
    "n_users = 943 \n",
    "n_items = 1682\n",
    "n_samples = len(rating_list)"
   ]
  },
  {
   "cell_type": "markdown",
   "metadata": {},
   "source": [
    "#### **Defining collaborative filtering**"
   ]
  },
  {
   "cell_type": "code",
   "execution_count": 30,
   "metadata": {},
   "outputs": [],
   "source": [
    "class CollaborativeFiltering(Module):\n",
    "    def __init__(self, n_users, n_items, n_factors):\n",
    "        super(CollaborativeFiltering, self).__init__()\n",
    "        self.user_emb = nn.Embedding(n_users, n_factors)\n",
    "        self.item_emb = nn.Embedding(n_items, n_factors)\n",
    "\n",
    "    def forward(self, user, item):\n",
    "        u = self.user_emb(user)\n",
    "        i = self.item_emb(item)\n",
    "        dot = (u * i).sum(1)\n",
    "        return torch.sigmoid(dot)"
   ]
  },
  {
   "cell_type": "markdown",
   "metadata": {},
   "source": [
    "#### **Code for meta attack**"
   ]
  },
  {
   "cell_type": "code",
   "execution_count": 177,
   "metadata": {},
   "outputs": [
    {
     "name": "stdout",
     "output_type": "stream",
     "text": [
      "-> Learning rate:  1\n",
      "-> T:  10\n",
      "-> Delta:  10\n",
      "-> Embedding size:  64\n",
      "-> Device:  cuda:0\n",
      "-> Execution time: 00h 00m 00s\n"
     ]
    }
   ],
   "source": [
    "# start execution\n",
    "start_time = time.time()\n",
    "\n",
    "# GPU settings (set use_gpu = -1 if you want to use CPU)\n",
    "use_gpu = 0\n",
    "if use_gpu == -1:\n",
    "    device = 'cpu'\n",
    "else:\n",
    "    device = torch.device('cuda:{}'.format(str(use_gpu)) if torch.cuda.is_available() else 'cpu')\n",
    "\n",
    "# some hyperparams\n",
    "lr = 1\n",
    "T = 10\n",
    "Delta = 10\n",
    "n_factors = 64\n",
    "save_results = True\n",
    "\n",
    "# store loss results in this list and later convert to dataframe \n",
    "results = []\n",
    "\n",
    "# list of perturbations\n",
    "perturbations = dict()\n",
    "perturbations['edges'] = []\n",
    "perturbations['metagrad'] = []\n",
    "\n",
    "# print hyperparam config\n",
    "print('-> Learning rate: ', lr)\n",
    "print('-> T: ', T)\n",
    "print('-> Delta: ', Delta)\n",
    "print('-> Embedding size: ', n_factors)\n",
    "print('-> Device: ', device)\n",
    "\n",
    "# load users, items and ratings as tensors\n",
    "users = torch.tensor(user_list, device = device)\n",
    "items = torch.tensor(item_list, device = device)\n",
    "ratings = torch.tensor(rating_list, device = device, requires_grad = True)\n",
    "\n",
    "# define model and it's parameters\n",
    "model = CollaborativeFiltering(n_users, n_items, n_factors)\n",
    "model.to(device)\n",
    "p1, p2 = model.parameters()\n",
    "\n",
    "# for each perturbation do the following\n",
    "for delta in range(Delta):\n",
    "\n",
    "    # makes loss reproducible for each iteration in Delta\n",
    "    torch.manual_seed(0)\n",
    "\n",
    "    # reset model paramters \n",
    "    for layer in model.children():\n",
    "        layer.reset_parameters()\n",
    "    \n",
    "    # define loss function\n",
    "    loss_fn = nn.BCELoss(reduction = 'mean')\n",
    "\n",
    "    model.train()\n",
    "\n",
    "    # inner loop training process\n",
    "    for i in range(T):\n",
    "        y_hat = model(users, items)\n",
    "        loss = loss_fn(y_hat, ratings)\n",
    "        results.append([delta, i, loss.item()])\n",
    "        \n",
    "        # compute inner parameter gradients\n",
    "        p1_grad = torch.autograd.grad(loss, p1, create_graph=True)\n",
    "        p2_grad = torch.autograd.grad(loss, p2, create_graph=True)\n",
    "\n",
    "        # update inner parameters\n",
    "        with torch.no_grad():\n",
    "            p1_new = p1 - lr * p1_grad[0]\n",
    "            p2_new = p2 - lr * p2_grad[0]\n",
    "            p1.copy_(p1_new)\n",
    "            p2.copy_(p2_new)\n",
    "    \n",
    "    # compute meta gradient\n",
    "    meta_grad = torch.autograd.grad(loss, ratings)[0]\n",
    "\n",
    "    # select best edge and perform perturbation\n",
    "    with torch.no_grad():\n",
    "        mask = ratings.detach().int()\n",
    "        meta_grad[mask == 1] = 0\n",
    "        best_edge = meta_grad.argmax().item()\n",
    "        ratings[best_edge] = 1\n",
    "\n",
    "        # keep track of perturbations\n",
    "        perturbations['edges'].append(best_edge)\n",
    "        perturbations['metagrad'].append(meta_grad[best_edge].item())\n",
    "\n",
    "\n",
    "# compute execution time\n",
    "exec_time = int(time.time() - start_time)\n",
    "exec_time = time.strftime(\"%Hh %Mm %Ss\", time.gmtime(exec_time))\n",
    "print('-> Execution time: {}'.format(exec_time))\n",
    "\n",
    "# convert results to dataframes for visualisation\n",
    "results = pd.DataFrame(results, columns = ['perturbs', 'iters', 'loss'])\n",
    "perturbations = pd.DataFrame(perturbations)\n",
    "\n",
    "# save results in CSV format\n",
    "if save_results:\n",
    "    results.to_csv('results/losses_Delta={}_T={}_LR={}_Factors={}'.format(Delta, T, lr, n_factors))\n",
    "    perturbations.to_csv('results/perturbations_Delta={}_T={}_LR={}_Factors={}'.format(Delta, T, lr, n_factors))"
   ]
  }
 ],
 "metadata": {
  "interpreter": {
   "hash": "6f38835821387ecea7238337192aa99e87ed1a9c9c1fa6562e207de7e0c31193"
  },
  "kernelspec": {
   "display_name": "Python 3.7.11 ('PyG': conda)",
   "language": "python",
   "name": "python3"
  },
  "language_info": {
   "codemirror_mode": {
    "name": "ipython",
    "version": 3
   },
   "file_extension": ".py",
   "mimetype": "text/x-python",
   "name": "python",
   "nbconvert_exporter": "python",
   "pygments_lexer": "ipython3",
   "version": "3.7.11"
  },
  "orig_nbformat": 4
 },
 "nbformat": 4,
 "nbformat_minor": 2
}
