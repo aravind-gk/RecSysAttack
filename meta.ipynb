{
 "cells": [
  {
   "cell_type": "markdown",
   "metadata": {},
   "source": [
    "#### **Library imports**"
   ]
  },
  {
   "cell_type": "code",
   "execution_count": 3,
   "metadata": {},
   "outputs": [],
   "source": [
    "# Library imports\n",
    "import pyforest\n",
    "import numpy as np\n",
    "import pandas as pd\n",
    "import os\n",
    "from matplotlib import pyplot as plt\n",
    "from tqdm import tqdm\n",
    "from pprint import pprint\n",
    "from time import sleep\n",
    "import time\n",
    "\n",
    "from turtle import forward\n",
    "import torch.nn as nn\n",
    "import torch.nn.functional as F\n",
    "import math\n",
    "import torch\n",
    "from torch.nn.parameter import Parameter\n",
    "from torch.nn.modules.module import Module\n",
    "from torch.utils.data import DataLoader, TensorDataset"
   ]
  },
  {
   "cell_type": "markdown",
   "metadata": {},
   "source": [
    "#### **Hyperparams and loading data**"
   ]
  },
  {
   "cell_type": "code",
   "execution_count": 78,
   "metadata": {},
   "outputs": [],
   "source": [
    "train_edges = np.load('data/train_edges.npy')\n",
    "# users = torch.LongTensor(train_edges[:, 0])\n",
    "# items = torch.LongTensor(train_edges[:, 1])\n",
    "# ratings = torch.FloatTensor(train_edges[:, 2])\n",
    "user_list = train_edges[:, 0]\n",
    "item_list = train_edges[:, 1]\n",
    "rating_list = train_edges[:, 2].astype('float32')\n",
    "\n",
    "n_users = 943 \n",
    "n_items = 1682\n",
    "n_samples = len(ratings)"
   ]
  },
  {
   "cell_type": "markdown",
   "metadata": {},
   "source": [
    "#### **Defining collaborative filtering**"
   ]
  },
  {
   "cell_type": "code",
   "execution_count": 5,
   "metadata": {},
   "outputs": [],
   "source": [
    "class CollaborativeFiltering(Module):\n",
    "    def __init__(self, n_users, n_items, n_factors):\n",
    "        super(CollaborativeFiltering, self).__init__()\n",
    "        self.user_emb = nn.Embedding(n_users, n_factors)\n",
    "        self.item_emb = nn.Embedding(n_items, n_factors)\n",
    "\n",
    "    def forward(self, user, item):\n",
    "        u = self.user_emb(user)\n",
    "        i = self.item_emb(item)\n",
    "        dot = (u * i).sum(1)\n",
    "        return torch.sigmoid(dot)"
   ]
  },
  {
   "cell_type": "markdown",
   "metadata": {},
   "source": [
    "#### **Code for meta attack**"
   ]
  },
  {
   "cell_type": "code",
   "execution_count": 23,
   "metadata": {},
   "outputs": [
    {
     "name": "stdout",
     "output_type": "stream",
     "text": [
      "-> Learning rate:  1\n",
      "-> T:  10\n",
      "-> Delta:  10\n",
      "-> Embedding size:  64\n",
      "-> Execution time: 00h 00m 20s\n"
     ]
    }
   ],
   "source": [
    "# start execution\n",
    "start_time = time.time()\n",
    "\n",
    "# some hyperparams\n",
    "lr = 1\n",
    "T = 10\n",
    "Delta = 10\n",
    "n_factors = 64\n",
    "\n",
    "# store loss results in this list and later convert to dataframe \n",
    "results = []\n",
    "\n",
    "# list of perturbations\n",
    "perturbations = dict()\n",
    "perturbations['edges'] = []\n",
    "perturbations['metagrad'] = []\n",
    "\n",
    "# print hyperparam config\n",
    "print('-> Learning rate: ', lr)\n",
    "print('-> T: ', T)\n",
    "print('-> Delta: ', Delta)\n",
    "print('-> Embedding size: ', n_factors)\n",
    "\n",
    "for delta in range(Delta):\n",
    "    # reload the users, items and ratings tensors\n",
    "    users = torch.LongTensor(train_edges[:, 0])\n",
    "    items = torch.LongTensor(train_edges[:, 1])\n",
    "    ratings = torch.FloatTensor(train_edges[:, 2])\n",
    "\n",
    "    # add those perturbations to \"ratings\"\n",
    "    for index in perturbations['edges']:\n",
    "        ratings[index] = 1\n",
    "\n",
    "    # set requires_grad for ratings, to compute meta gradients\n",
    "    ratings.requires_grad_()\n",
    "\n",
    "    # makes code reproducible\n",
    "    torch.manual_seed(0)\n",
    "\n",
    "    # define model and loss\n",
    "    model = CollaborativeFiltering(n_users, n_items, n_factors)\n",
    "    p1, p2 = model.parameters()\n",
    "    loss_fn = nn.BCELoss(reduction = 'mean')\n",
    "    model.train()\n",
    "\n",
    "    # inner loop training process\n",
    "    for i in range(T):\n",
    "        y_hat = model(users, items)\n",
    "        loss = loss_fn(y_hat, ratings)\n",
    "        results.append([delta, i, loss.item()])\n",
    "        \n",
    "        p1_grad = torch.autograd.grad(loss, p1, create_graph=True)\n",
    "        p2_grad = torch.autograd.grad(loss, p2, create_graph=True)\n",
    "\n",
    "        # compute inner parameter gradients\n",
    "        with torch.no_grad():\n",
    "            p1_new = p1 - lr * p1_grad[0]\n",
    "            p2_new = p2 - lr * p2_grad[0]\n",
    "            p1.copy_(p1_new)\n",
    "            p2.copy_(p2_new)\n",
    "    \n",
    "    # compute meta gradient\n",
    "    meta_grad = torch.autograd.grad(loss, ratings)[0]\n",
    "\n",
    "    # select best edge to perturb\n",
    "    max_meta_grad = -math.inf\n",
    "    edge_to_add = -1\n",
    "    for i in range(n_samples):\n",
    "        if ratings[i] == 0: # search over only negative edges\n",
    "            if meta_grad[i] > max_meta_grad:\n",
    "                max_meta_grad = meta_grad[i]\n",
    "                edge_to_add = i \n",
    "\n",
    "    perturbations['edges'].append(edge_to_add)\n",
    "    perturbations['metagrad'].append(max_meta_grad.item())\n",
    "\n",
    "# compute execution time\n",
    "exec_time = int(time.time() - start_time)\n",
    "exec_time = time.strftime(\"%Hh %Mm %Ss\", time.gmtime(exec_time))\n",
    "print('-> Execution time: {}'.format(exec_time))\n",
    "\n",
    "# store results in CSV files\n",
    "results = pd.DataFrame(results, columns = ['perturbs', 'iters', 'loss'])\n",
    "results.to_csv('results/losses_Delta={}_T={}_LR={}_Factors={}'.format(Delta, T, lr, n_factors))\n",
    "\n",
    "perturbations = pd.DataFrame(perturbations)\n",
    "perturbations.to_csv('results/perturbations_Delta={}_T={}_LR={}_Factors={}'.format(Delta, T, lr, n_factors))"
   ]
  },
  {
   "cell_type": "markdown",
   "metadata": {},
   "source": [
    "#### **Checking stored results**"
   ]
  },
  {
   "cell_type": "code",
   "execution_count": 28,
   "metadata": {},
   "outputs": [
    {
     "data": {
      "text/html": [
       "<div>\n",
       "<style scoped>\n",
       "    .dataframe tbody tr th:only-of-type {\n",
       "        vertical-align: middle;\n",
       "    }\n",
       "\n",
       "    .dataframe tbody tr th {\n",
       "        vertical-align: top;\n",
       "    }\n",
       "\n",
       "    .dataframe thead th {\n",
       "        text-align: right;\n",
       "    }\n",
       "</style>\n",
       "<table border=\"1\" class=\"dataframe\">\n",
       "  <thead>\n",
       "    <tr style=\"text-align: right;\">\n",
       "      <th></th>\n",
       "      <th>edges</th>\n",
       "      <th>metagrad</th>\n",
       "    </tr>\n",
       "  </thead>\n",
       "  <tbody>\n",
       "    <tr>\n",
       "      <th>0</th>\n",
       "      <td>141472</td>\n",
       "      <td>0.000193</td>\n",
       "    </tr>\n",
       "    <tr>\n",
       "      <th>1</th>\n",
       "      <td>152311</td>\n",
       "      <td>0.000175</td>\n",
       "    </tr>\n",
       "    <tr>\n",
       "      <th>2</th>\n",
       "      <td>173390</td>\n",
       "      <td>0.000174</td>\n",
       "    </tr>\n",
       "    <tr>\n",
       "      <th>3</th>\n",
       "      <td>5665</td>\n",
       "      <td>0.000164</td>\n",
       "    </tr>\n",
       "    <tr>\n",
       "      <th>4</th>\n",
       "      <td>112886</td>\n",
       "      <td>0.000164</td>\n",
       "    </tr>\n",
       "  </tbody>\n",
       "</table>\n",
       "</div>"
      ],
      "text/plain": [
       "    edges  metagrad\n",
       "0  141472  0.000193\n",
       "1  152311  0.000175\n",
       "2  173390  0.000174\n",
       "3    5665  0.000164\n",
       "4  112886  0.000164"
      ]
     },
     "execution_count": 28,
     "metadata": {},
     "output_type": "execute_result"
    }
   ],
   "source": [
    "perturbations.head()"
   ]
  },
  {
   "cell_type": "code",
   "execution_count": 29,
   "metadata": {},
   "outputs": [
    {
     "data": {
      "text/html": [
       "<div>\n",
       "<style scoped>\n",
       "    .dataframe tbody tr th:only-of-type {\n",
       "        vertical-align: middle;\n",
       "    }\n",
       "\n",
       "    .dataframe tbody tr th {\n",
       "        vertical-align: top;\n",
       "    }\n",
       "\n",
       "    .dataframe thead th {\n",
       "        text-align: right;\n",
       "    }\n",
       "</style>\n",
       "<table border=\"1\" class=\"dataframe\">\n",
       "  <thead>\n",
       "    <tr style=\"text-align: right;\">\n",
       "      <th></th>\n",
       "      <th>perturbs</th>\n",
       "      <th>iters</th>\n",
       "      <th>loss</th>\n",
       "    </tr>\n",
       "  </thead>\n",
       "  <tbody>\n",
       "    <tr>\n",
       "      <th>0</th>\n",
       "      <td>0</td>\n",
       "      <td>0</td>\n",
       "      <td>4.066596</td>\n",
       "    </tr>\n",
       "    <tr>\n",
       "      <th>1</th>\n",
       "      <td>0</td>\n",
       "      <td>1</td>\n",
       "      <td>4.065507</td>\n",
       "    </tr>\n",
       "    <tr>\n",
       "      <th>2</th>\n",
       "      <td>0</td>\n",
       "      <td>2</td>\n",
       "      <td>4.064427</td>\n",
       "    </tr>\n",
       "    <tr>\n",
       "      <th>3</th>\n",
       "      <td>0</td>\n",
       "      <td>3</td>\n",
       "      <td>4.062918</td>\n",
       "    </tr>\n",
       "    <tr>\n",
       "      <th>4</th>\n",
       "      <td>0</td>\n",
       "      <td>4</td>\n",
       "      <td>4.061419</td>\n",
       "    </tr>\n",
       "  </tbody>\n",
       "</table>\n",
       "</div>"
      ],
      "text/plain": [
       "   perturbs  iters      loss\n",
       "0         0      0  4.066596\n",
       "1         0      1  4.065507\n",
       "2         0      2  4.064427\n",
       "3         0      3  4.062918\n",
       "4         0      4  4.061419"
      ]
     },
     "execution_count": 29,
     "metadata": {},
     "output_type": "execute_result"
    }
   ],
   "source": [
    "results.head()"
   ]
  },
  {
   "cell_type": "code",
   "execution_count": 1,
   "metadata": {},
   "outputs": [
    {
     "data": {
      "application/javascript": "\n        if (window._pyforest_update_imports_cell) { window._pyforest_update_imports_cell('import torch'); }\n    ",
      "text/plain": [
       "<IPython.core.display.Javascript object>"
      ]
     },
     "metadata": {},
     "output_type": "display_data"
    },
    {
     "data": {
      "text/plain": [
       "True"
      ]
     },
     "execution_count": 1,
     "metadata": {},
     "output_type": "execute_result"
    }
   ],
   "source": [
    "torch.cuda.is_available()"
   ]
  },
  {
   "cell_type": "markdown",
   "metadata": {},
   "source": [
    "#### **Code for meta attack in GPU**"
   ]
  },
  {
   "cell_type": "code",
   "execution_count": 84,
   "metadata": {},
   "outputs": [
    {
     "name": "stdout",
     "output_type": "stream",
     "text": [
      "-> Learning rate:  1\n",
      "-> T:  10\n",
      "-> Delta:  10\n",
      "-> Embedding size:  64\n",
      "-> Device:  cuda:0\n",
      "-> Execution time: 00h 01m 22s\n"
     ]
    }
   ],
   "source": [
    "# start execution\n",
    "start_time = time.time()\n",
    "\n",
    "# GPU settings (set use_gpu = -1 if you want to use CPU)\n",
    "use_gpu = 0\n",
    "if use_gpu == -1:\n",
    "    device = 'cpu'\n",
    "else:\n",
    "    device = torch.device('cuda:{}'.format(str(use_gpu)) if torch.cuda.is_available() else 'cpu')\n",
    "\n",
    "# some hyperparams\n",
    "lr = 1\n",
    "T = 10\n",
    "Delta = 10\n",
    "n_factors = 64\n",
    "\n",
    "# store loss results in this list and later convert to dataframe \n",
    "results = []\n",
    "\n",
    "# list of perturbations\n",
    "perturbations = dict()\n",
    "perturbations['edges'] = []\n",
    "perturbations['metagrad'] = []\n",
    "\n",
    "# print hyperparam config\n",
    "print('-> Learning rate: ', lr)\n",
    "print('-> T: ', T)\n",
    "print('-> Delta: ', Delta)\n",
    "print('-> Embedding size: ', n_factors)\n",
    "print('-> Device: ', device)\n",
    "\n",
    "# Load users and items data as tensors\n",
    "users = torch.tensor(user_list, device = device)\n",
    "items = torch.tensor(item_list, device = device)\n",
    "\n",
    "for delta in range(Delta):\n",
    "    # reload the ratings tensor\n",
    "    ratings = torch.tensor(rating_list, device = device)\n",
    "\n",
    "    # add those perturbations to \"ratings\" (think of a more efficient way to do this)\n",
    "    for index in perturbations['edges']:\n",
    "        ratings[index] = 1\n",
    "\n",
    "    # set requires_grad for ratings, to compute meta gradients\n",
    "    ratings.requires_grad_()\n",
    "\n",
    "    # makes code reproducible\n",
    "    torch.manual_seed(0)\n",
    "\n",
    "    # define model and loss\n",
    "    model = CollaborativeFiltering(n_users, n_items, n_factors)\n",
    "    model.to(device)\n",
    "    p1, p2 = model.parameters()\n",
    "    loss_fn = nn.BCELoss(reduction = 'mean')\n",
    "    model.train()\n",
    "\n",
    "    # inner loop training process\n",
    "    for i in range(T):\n",
    "        y_hat = model(users, items)\n",
    "        loss = loss_fn(y_hat, ratings)\n",
    "        results.append([delta, i, loss.item()])\n",
    "        \n",
    "        p1_grad = torch.autograd.grad(loss, p1, create_graph=True)\n",
    "        p2_grad = torch.autograd.grad(loss, p2, create_graph=True)\n",
    "\n",
    "        # compute inner parameter gradients\n",
    "        with torch.no_grad():\n",
    "            p1_new = p1 - lr * p1_grad[0]\n",
    "            p2_new = p2 - lr * p2_grad[0]\n",
    "            p1.copy_(p1_new)\n",
    "            p2.copy_(p2_new)\n",
    "    \n",
    "    # compute meta gradient\n",
    "    meta_grad = torch.autograd.grad(loss, ratings)[0]\n",
    "\n",
    "    # select best edge to perturb\n",
    "    max_meta_grad = -math.inf\n",
    "    edge_to_add = -1\n",
    "    for i in range(n_samples):\n",
    "        if ratings[i] == 0: # search over only negative edges\n",
    "            if meta_grad[i] > max_meta_grad:\n",
    "                max_meta_grad = meta_grad[i]\n",
    "                edge_to_add = i \n",
    "\n",
    "    perturbations['edges'].append(edge_to_add)\n",
    "    perturbations['metagrad'].append(max_meta_grad.item())\n",
    "\n",
    "# compute execution time\n",
    "exec_time = int(time.time() - start_time)\n",
    "exec_time = time.strftime(\"%Hh %Mm %Ss\", time.gmtime(exec_time))\n",
    "print('-> Execution time: {}'.format(exec_time))\n",
    "\n",
    "# store results in CSV files\n",
    "results = pd.DataFrame(results, columns = ['perturbs', 'iters', 'loss'])\n",
    "results.to_csv('results/losses_Delta={}_T={}_LR={}_Factors={}'.format(Delta, T, lr, n_factors))\n",
    "\n",
    "perturbations = pd.DataFrame(perturbations)\n",
    "perturbations.to_csv('results/perturbations_Delta={}_T={}_LR={}_Factors={}'.format(Delta, T, lr, n_factors))"
   ]
  },
  {
   "cell_type": "code",
   "execution_count": 11,
   "metadata": {},
   "outputs": [
    {
     "name": "stdout",
     "output_type": "stream",
     "text": [
      "#GPUs:  8\n"
     ]
    }
   ],
   "source": [
    "# check available devices\n",
    "print('#GPUs: ', torch.cuda.device_count())"
   ]
  },
  {
   "cell_type": "markdown",
   "metadata": {},
   "source": [
    "#### **Some experiments**"
   ]
  },
  {
   "cell_type": "code",
   "execution_count": 85,
   "metadata": {},
   "outputs": [
    {
     "name": "stdout",
     "output_type": "stream",
     "text": [
      "current device:  cuda:0\n",
      "model params in gpu:  True\n",
      "users in gpu:  True\n",
      "items in gpu:  True\n",
      "ratings in gpu:  True\n",
      "p1 in gpu:  True\n",
      "y hat:  tensor([9.9797e-01, 1.4224e-04, 1.0000e+00,  ..., 9.8270e-03, 7.5457e-01,\n",
      "        9.9830e-01], device='cuda:0', grad_fn=<SigmoidBackward0>)\n",
      "y hat in gpu:  True\n",
      "tensor([1., 1., 0.,  ..., 1., 1., 0.], device='cuda:0')\n",
      "torch.float32\n",
      "torch.float32\n",
      "loss:  tensor(4.0545, device='cuda:0', grad_fn=<BinaryCrossEntropyBackward0>)\n"
     ]
    }
   ],
   "source": [
    "use_gpu = 0\n",
    "if use_gpu == -1:\n",
    "    device = 'cpu'\n",
    "else:\n",
    "    device = torch.device('cuda:{}'.format(str(use_gpu)) if torch.cuda.is_available() else 'cpu')\n",
    "print('current device: ', device)\n",
    "\n",
    "model = CollaborativeFiltering(n_users, n_items, n_factors)\n",
    "model.to(device)\n",
    "print('model params in gpu: ', next(model.parameters()).is_cuda)\n",
    "\n",
    "users = torch.tensor(user_list, device = device)\n",
    "items = torch.tensor(item_list, device = device)\n",
    "ratings = torch.tensor(rating_list, device = device)\n",
    "print('users in gpu: ', users.is_cuda)\n",
    "print('items in gpu: ', items.is_cuda)\n",
    "print('ratings in gpu: ', ratings.is_cuda)\n",
    "\n",
    "p1, p2 = model.parameters()\n",
    "# print(type(p1))\n",
    "print('p1 in gpu: ', p1.is_cuda)\n",
    "# print(p2.is_cuda)\n",
    "\n",
    "model.train()\n",
    "y_hat = model(users, items)\n",
    "print('y hat: ', y_hat)\n",
    "print('y hat in gpu: ', y_hat.is_cuda)\n",
    "\n",
    "print(ratings)\n",
    "print(y_hat.dtype)\n",
    "print(ratings.dtype)\n",
    "\n",
    "loss = loss_fn(y_hat, ratings)\n",
    "print('loss: ', loss)\n",
    "\n",
    "p1_grad = torch.autograd.grad(loss, p1, create_graph=True)\n",
    "# print('p1 grad: ', p1_grad)\n"
   ]
  }
 ],
 "metadata": {
  "interpreter": {
   "hash": "6f38835821387ecea7238337192aa99e87ed1a9c9c1fa6562e207de7e0c31193"
  },
  "kernelspec": {
   "display_name": "Python 3.7.11 ('PyG': conda)",
   "language": "python",
   "name": "python3"
  },
  "language_info": {
   "codemirror_mode": {
    "name": "ipython",
    "version": 3
   },
   "file_extension": ".py",
   "mimetype": "text/x-python",
   "name": "python",
   "nbconvert_exporter": "python",
   "pygments_lexer": "ipython3",
   "version": "3.7.11"
  },
  "orig_nbformat": 4
 },
 "nbformat": 4,
 "nbformat_minor": 2
}
