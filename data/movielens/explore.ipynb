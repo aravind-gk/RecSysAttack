{
 "cells": [
  {
   "cell_type": "markdown",
   "metadata": {},
   "source": [
    "#### **Library imports**"
   ]
  },
  {
   "cell_type": "code",
   "execution_count": 1,
   "metadata": {},
   "outputs": [],
   "source": [
    "import numpy as np\n",
    "import pandas as pd\n",
    "from matplotlib import pyplot as plt\n",
    "from tqdm import tqdm\n",
    "from random import shuffle\n",
    "import random\n",
    "import math"
   ]
  },
  {
   "cell_type": "markdown",
   "metadata": {},
   "source": [
    "#### **Explore the data files**"
   ]
  },
  {
   "cell_type": "code",
   "execution_count": 12,
   "metadata": {},
   "outputs": [],
   "source": [
    "column_names = ['user', 'item', 'rating', 'timestamp']"
   ]
  },
  {
   "cell_type": "code",
   "execution_count": 24,
   "metadata": {},
   "outputs": [
    {
     "name": "stdout",
     "output_type": "stream",
     "text": [
      "(100000, 4)\n",
      "943\n",
      "1682\n"
     ]
    },
    {
     "data": {
      "text/html": [
       "<div>\n",
       "<style scoped>\n",
       "    .dataframe tbody tr th:only-of-type {\n",
       "        vertical-align: middle;\n",
       "    }\n",
       "\n",
       "    .dataframe tbody tr th {\n",
       "        vertical-align: top;\n",
       "    }\n",
       "\n",
       "    .dataframe thead th {\n",
       "        text-align: right;\n",
       "    }\n",
       "</style>\n",
       "<table border=\"1\" class=\"dataframe\">\n",
       "  <thead>\n",
       "    <tr style=\"text-align: right;\">\n",
       "      <th></th>\n",
       "      <th>user</th>\n",
       "      <th>item</th>\n",
       "      <th>rating</th>\n",
       "      <th>timestamp</th>\n",
       "    </tr>\n",
       "  </thead>\n",
       "  <tbody>\n",
       "    <tr>\n",
       "      <th>0</th>\n",
       "      <td>196</td>\n",
       "      <td>242</td>\n",
       "      <td>3</td>\n",
       "      <td>881250949</td>\n",
       "    </tr>\n",
       "    <tr>\n",
       "      <th>1</th>\n",
       "      <td>186</td>\n",
       "      <td>302</td>\n",
       "      <td>3</td>\n",
       "      <td>891717742</td>\n",
       "    </tr>\n",
       "    <tr>\n",
       "      <th>2</th>\n",
       "      <td>22</td>\n",
       "      <td>377</td>\n",
       "      <td>1</td>\n",
       "      <td>878887116</td>\n",
       "    </tr>\n",
       "    <tr>\n",
       "      <th>3</th>\n",
       "      <td>244</td>\n",
       "      <td>51</td>\n",
       "      <td>2</td>\n",
       "      <td>880606923</td>\n",
       "    </tr>\n",
       "    <tr>\n",
       "      <th>4</th>\n",
       "      <td>166</td>\n",
       "      <td>346</td>\n",
       "      <td>1</td>\n",
       "      <td>886397596</td>\n",
       "    </tr>\n",
       "  </tbody>\n",
       "</table>\n",
       "</div>"
      ],
      "text/plain": [
       "   user  item  rating  timestamp\n",
       "0   196   242       3  881250949\n",
       "1   186   302       3  891717742\n",
       "2    22   377       1  878887116\n",
       "3   244    51       2  880606923\n",
       "4   166   346       1  886397596"
      ]
     },
     "execution_count": 24,
     "metadata": {},
     "output_type": "execute_result"
    }
   ],
   "source": [
    "data = pd.read_csv('files/u.data', sep='\\t', names = column_names)\n",
    "print(data.shape)\n",
    "print(data.user.nunique())\n",
    "print(data.item.nunique())\n",
    "data.head()"
   ]
  },
  {
   "cell_type": "code",
   "execution_count": 14,
   "metadata": {},
   "outputs": [
    {
     "name": "stdout",
     "output_type": "stream",
     "text": [
      "(80000, 4)\n"
     ]
    },
    {
     "data": {
      "text/html": [
       "<div>\n",
       "<style scoped>\n",
       "    .dataframe tbody tr th:only-of-type {\n",
       "        vertical-align: middle;\n",
       "    }\n",
       "\n",
       "    .dataframe tbody tr th {\n",
       "        vertical-align: top;\n",
       "    }\n",
       "\n",
       "    .dataframe thead th {\n",
       "        text-align: right;\n",
       "    }\n",
       "</style>\n",
       "<table border=\"1\" class=\"dataframe\">\n",
       "  <thead>\n",
       "    <tr style=\"text-align: right;\">\n",
       "      <th></th>\n",
       "      <th>user</th>\n",
       "      <th>item</th>\n",
       "      <th>rating</th>\n",
       "      <th>timestamp</th>\n",
       "    </tr>\n",
       "  </thead>\n",
       "  <tbody>\n",
       "    <tr>\n",
       "      <th>0</th>\n",
       "      <td>1</td>\n",
       "      <td>1</td>\n",
       "      <td>5</td>\n",
       "      <td>874965758</td>\n",
       "    </tr>\n",
       "    <tr>\n",
       "      <th>1</th>\n",
       "      <td>1</td>\n",
       "      <td>2</td>\n",
       "      <td>3</td>\n",
       "      <td>876893171</td>\n",
       "    </tr>\n",
       "    <tr>\n",
       "      <th>2</th>\n",
       "      <td>1</td>\n",
       "      <td>3</td>\n",
       "      <td>4</td>\n",
       "      <td>878542960</td>\n",
       "    </tr>\n",
       "    <tr>\n",
       "      <th>3</th>\n",
       "      <td>1</td>\n",
       "      <td>4</td>\n",
       "      <td>3</td>\n",
       "      <td>876893119</td>\n",
       "    </tr>\n",
       "    <tr>\n",
       "      <th>4</th>\n",
       "      <td>1</td>\n",
       "      <td>5</td>\n",
       "      <td>3</td>\n",
       "      <td>889751712</td>\n",
       "    </tr>\n",
       "  </tbody>\n",
       "</table>\n",
       "</div>"
      ],
      "text/plain": [
       "   user  item  rating  timestamp\n",
       "0     1     1       5  874965758\n",
       "1     1     2       3  876893171\n",
       "2     1     3       4  878542960\n",
       "3     1     4       3  876893119\n",
       "4     1     5       3  889751712"
      ]
     },
     "execution_count": 14,
     "metadata": {},
     "output_type": "execute_result"
    }
   ],
   "source": [
    "data = pd.read_csv('files/u1.base', sep='\\t', names = column_names)\n",
    "print(data.shape)\n",
    "data.head()"
   ]
  },
  {
   "cell_type": "code",
   "execution_count": 15,
   "metadata": {},
   "outputs": [
    {
     "name": "stdout",
     "output_type": "stream",
     "text": [
      "(20000, 4)\n"
     ]
    },
    {
     "data": {
      "text/html": [
       "<div>\n",
       "<style scoped>\n",
       "    .dataframe tbody tr th:only-of-type {\n",
       "        vertical-align: middle;\n",
       "    }\n",
       "\n",
       "    .dataframe tbody tr th {\n",
       "        vertical-align: top;\n",
       "    }\n",
       "\n",
       "    .dataframe thead th {\n",
       "        text-align: right;\n",
       "    }\n",
       "</style>\n",
       "<table border=\"1\" class=\"dataframe\">\n",
       "  <thead>\n",
       "    <tr style=\"text-align: right;\">\n",
       "      <th></th>\n",
       "      <th>user</th>\n",
       "      <th>item</th>\n",
       "      <th>rating</th>\n",
       "      <th>timestamp</th>\n",
       "    </tr>\n",
       "  </thead>\n",
       "  <tbody>\n",
       "    <tr>\n",
       "      <th>0</th>\n",
       "      <td>1</td>\n",
       "      <td>6</td>\n",
       "      <td>5</td>\n",
       "      <td>887431973</td>\n",
       "    </tr>\n",
       "    <tr>\n",
       "      <th>1</th>\n",
       "      <td>1</td>\n",
       "      <td>10</td>\n",
       "      <td>3</td>\n",
       "      <td>875693118</td>\n",
       "    </tr>\n",
       "    <tr>\n",
       "      <th>2</th>\n",
       "      <td>1</td>\n",
       "      <td>12</td>\n",
       "      <td>5</td>\n",
       "      <td>878542960</td>\n",
       "    </tr>\n",
       "    <tr>\n",
       "      <th>3</th>\n",
       "      <td>1</td>\n",
       "      <td>14</td>\n",
       "      <td>5</td>\n",
       "      <td>874965706</td>\n",
       "    </tr>\n",
       "    <tr>\n",
       "      <th>4</th>\n",
       "      <td>1</td>\n",
       "      <td>17</td>\n",
       "      <td>3</td>\n",
       "      <td>875073198</td>\n",
       "    </tr>\n",
       "  </tbody>\n",
       "</table>\n",
       "</div>"
      ],
      "text/plain": [
       "   user  item  rating  timestamp\n",
       "0     1     6       5  887431973\n",
       "1     1    10       3  875693118\n",
       "2     1    12       5  878542960\n",
       "3     1    14       5  874965706\n",
       "4     1    17       3  875073198"
      ]
     },
     "execution_count": 15,
     "metadata": {},
     "output_type": "execute_result"
    }
   ],
   "source": [
    "data = pd.read_csv('files/u1.test', sep='\\t', names = column_names)\n",
    "print(data.shape)\n",
    "data.head()"
   ]
  },
  {
   "cell_type": "code",
   "execution_count": 26,
   "metadata": {},
   "outputs": [
    {
     "name": "stdout",
     "output_type": "stream",
     "text": [
      "file #1\n",
      "Train data:\n",
      "Unique users: 943\n",
      "Unique items: 1650\n",
      "Test data:\n",
      "Unique users: 459\n",
      "Unique items: 1410\n",
      "\n",
      "file #2\n",
      "Train data:\n",
      "Unique users: 943\n",
      "Unique items: 1648\n",
      "Test data:\n",
      "Unique users: 653\n",
      "Unique items: 1420\n",
      "\n",
      "file #3\n",
      "Train data:\n",
      "Unique users: 943\n",
      "Unique items: 1650\n",
      "Test data:\n",
      "Unique users: 869\n",
      "Unique items: 1423\n",
      "\n",
      "file #4\n",
      "Train data:\n",
      "Unique users: 943\n",
      "Unique items: 1660\n",
      "Test data:\n",
      "Unique users: 923\n",
      "Unique items: 1394\n",
      "\n",
      "file #5\n",
      "Train data:\n",
      "Unique users: 943\n",
      "Unique items: 1650\n",
      "Test data:\n",
      "Unique users: 927\n",
      "Unique items: 1407\n",
      "\n"
     ]
    }
   ],
   "source": [
    "for index in list(range(1, 6)):\n",
    "    data_train = pd.read_csv('files/u{}.base'.format(index), sep='\\t', names = column_names)\n",
    "    data_test = pd.read_csv('files/u{}.test'.format(index), sep='\\t', names = column_names)\n",
    "    print('file #{}'.format(index))\n",
    "    print('Train data:')\n",
    "    print('Unique users: {}'.format(data_train.user.nunique()))\n",
    "    print('Unique items: {}'.format(data_train.item.nunique()))\n",
    "    print('Test data:')\n",
    "    print('Unique users: {}'.format(data_test.user.nunique()))\n",
    "    print('Unique items: {}'.format(data_test.item.nunique()))\n",
    "    print()\n",
    "# based on results of this cell, file #5 is the most complete"
   ]
  },
  {
   "cell_type": "markdown",
   "metadata": {},
   "source": [
    "#### **Generate train and test edges from file #5**"
   ]
  },
  {
   "cell_type": "code",
   "execution_count": 64,
   "metadata": {},
   "outputs": [],
   "source": [
    "data_train = pd.read_csv('files/u5.base', sep='\\t', names = column_names)\n",
    "data_test = pd.read_csv('files/u5.test', sep='\\t', names = column_names)\n",
    "data_full = pd.read_csv('files/u.data', sep='\\t', names = column_names)\n",
    "\n",
    "data_train = data_train[['user', 'item']]\n",
    "data_test = data_test[['user', 'item']]\n",
    "data_full = data_full[['user', 'item']]\n",
    "\n",
    "data_full['user'] = data_full['user'] - 1\n",
    "data_full['item'] = data_full['item'] - 1\n",
    "\n",
    "data_train['user'] = data_train['user'] - 1\n",
    "data_train['item'] = data_train['item'] - 1\n",
    "\n",
    "data_test['user'] = data_test['user'] - 1\n",
    "data_test['item'] = data_test['item'] - 1"
   ]
  },
  {
   "cell_type": "code",
   "execution_count": 65,
   "metadata": {},
   "outputs": [
    {
     "name": "stdout",
     "output_type": "stream",
     "text": [
      "n_users: 943, n_items: 1682, n_samples: 100000\n",
      "n_users_train: 943, n_items_train: 1650, n_samples_train: 80000\n",
      "n_users_test: 927, n_items_test: 1407, n_samples_test: 20000\n"
     ]
    }
   ],
   "source": [
    "n_users, n_items, n_samples = data_full.user.nunique(), data_full.item.nunique(), data_full.shape[0]\n",
    "n_users_train, n_items_train, n_samples_train = data_train.user.nunique(), data_train.item.nunique(), data_train.shape[0]\n",
    "n_users_test, n_items_test, n_samples_test = data_test.user.nunique(), data_test.item.nunique(), data_test.shape[0]\n",
    "\n",
    "print('n_users: {}, n_items: {}, n_samples: {}'.format(n_users, n_items, n_samples))\n",
    "print('n_users_train: {}, n_items_train: {}, n_samples_train: {}'.format(n_users_train, n_items_train, n_samples_train))\n",
    "print('n_users_test: {}, n_items_test: {}, n_samples_test: {}'.format(n_users_test, n_items_test, n_samples_test))"
   ]
  },
  {
   "cell_type": "markdown",
   "metadata": {},
   "source": [
    "##### **Generate negative edges using full data**"
   ]
  },
  {
   "cell_type": "code",
   "execution_count": 66,
   "metadata": {},
   "outputs": [
    {
     "name": "stderr",
     "output_type": "stream",
     "text": [
      "100%|██████████| 943/943 [00:00<00:00, 2511.78it/s]\n",
      "100%|██████████| 943/943 [00:00<00:00, 6430.93it/s]\n",
      "100%|██████████| 943/943 [00:00<00:00, 12995.74it/s]\n"
     ]
    }
   ],
   "source": [
    "random.seed(0)\n",
    "\n",
    "pos_edges = dict()\n",
    "neg_edges = dict()\n",
    "\n",
    "for u in range(n_users):\n",
    "    pos_edges[u] = set()\n",
    "    neg_edges[u] = set()\n",
    "\n",
    "# create sets of positive edges for each user\n",
    "for _, row in data_full.iterrows():\n",
    "    u = row['user']\n",
    "    i = row['item']\n",
    "    pos_edges[u].add(i)\n",
    "\n",
    "# create sets of negative edges for each user\n",
    "for u in tqdm(range(n_users)):\n",
    "    for i in range(n_items):\n",
    "        if i not in pos_edges[u]:\n",
    "            neg_edges[u].add(i)\n",
    "\n",
    "for u in range(n_users):\n",
    "    pos_edges[u] = list(pos_edges[u])\n",
    "    neg_edges[u] = list(neg_edges[u])\n",
    "\n",
    "# sample negative edges for each user as neg_edges_sampled \n",
    "neg_edges_sampled = dict()\n",
    "for u in tqdm(range(n_users)):\n",
    "    neg_edges_all = neg_edges[u]\n",
    "    # sample same number of negative edges as positive edges for each user \n",
    "    n_sampled_edges = len(pos_edges[u])\n",
    "    neg_edges_sampled[u] = np.random.choice(neg_edges_all, size = n_sampled_edges, replace = False)\n",
    "\n",
    "# divide neg_edges[u] into neg_train[u], neg_test[u] for each user\n",
    "fraction = 0.2\n",
    "\n",
    "neg_train = dict()\n",
    "neg_test = dict()\n",
    "\n",
    "for u in tqdm(range(n_users)):\n",
    "    assert len(pos_edges[u]) == len(neg_edges_sampled[u])\n",
    "    shuffle(neg_edges_sampled[u])\n",
    "\n",
    "    n_neg = len(neg_edges_sampled[u])\n",
    "    n_test = math.ceil(n_neg * fraction)\n",
    "    n_train = n_neg - n_test\n",
    "\n",
    "    neg_train[u] = neg_edges_sampled[u][:n_train]\n",
    "    neg_test[u] = neg_edges_sampled[u][n_train:]"
   ]
  },
  {
   "cell_type": "markdown",
   "metadata": {},
   "source": [
    "##### **Generate positive edges from data_train and data_test**"
   ]
  },
  {
   "cell_type": "code",
   "execution_count": 69,
   "metadata": {},
   "outputs": [],
   "source": [
    "pos_train = dict()\n",
    "pos_test = dict()\n",
    "\n",
    "for u in range(n_users):\n",
    "    pos_train[u] = set()\n",
    "    pos_test[u] = set()\n",
    "\n",
    "for _, row in data_train.iterrows():\n",
    "    u = row['user']\n",
    "    i = row['item']\n",
    "    pos_train[u].add(i)\n",
    "\n",
    "for _, row in data_test.iterrows():\n",
    "    u = row['user']\n",
    "    i = row['item']\n",
    "    pos_test[u].add(i)\n",
    "\n",
    "for u in range(n_users):\n",
    "    pos_train[u] = np.array(list(pos_train[u]))\n",
    "    pos_test[u] = np.array(list(pos_test[u]))"
   ]
  },
  {
   "cell_type": "markdown",
   "metadata": {},
   "source": [
    "#### **Merge positive and negative edges to form train and test sets**"
   ]
  },
  {
   "cell_type": "code",
   "execution_count": 80,
   "metadata": {},
   "outputs": [
    {
     "name": "stderr",
     "output_type": "stream",
     "text": [
      "100%|██████████| 943/943 [00:00<00:00, 13268.88it/s]\n"
     ]
    }
   ],
   "source": [
    "# merge positive and negative edges as train_edges and test_edges, which are dict()\n",
    "train_edges = []\n",
    "test_edges = []\n",
    "\n",
    "for u in tqdm(range(n_users)):\n",
    "    for i in pos_train[u]:\n",
    "        train_edges.append((u, i, 1))\n",
    "    for i in neg_train[u]:\n",
    "        train_edges.append((u, i, 0))\n",
    "        \n",
    "    for i in pos_test[u]:\n",
    "        test_edges.append((u, i, 1))\n",
    "    for i in neg_test[u]:\n",
    "        test_edges.append((u, i, 0))\n",
    "\n",
    "# shuffle train_edges to mix +ve and -ve edges\n",
    "np.random.shuffle(train_edges)\n",
    "np.random.shuffle(test_edges)"
   ]
  },
  {
   "cell_type": "code",
   "execution_count": 81,
   "metadata": {},
   "outputs": [
    {
     "name": "stdout",
     "output_type": "stream",
     "text": [
      "Training edges:  159619\n",
      "Unseen edges:  40381\n"
     ]
    }
   ],
   "source": [
    "print('Training edges: ', len(train_edges))\n",
    "print('Unseen edges: ', len(test_edges))"
   ]
  },
  {
   "cell_type": "code",
   "execution_count": 82,
   "metadata": {},
   "outputs": [
    {
     "name": "stdout",
     "output_type": "stream",
     "text": [
      "Positive training edges:  80000\n",
      "Negative training edges:  79619\n",
      "Positive unseen edges:  20000\n",
      "Negative unseen edges:  20381\n"
     ]
    }
   ],
   "source": [
    "print('Positive training edges: ', sum([len(x) for x in pos_train.values()]))\n",
    "print('Negative training edges: ', sum([len(x) for x in neg_train.values()]))\n",
    "\n",
    "print('Positive unseen edges: ', sum([len(x) for x in pos_test.values()]))\n",
    "print('Negative unseen edges: ', sum([len(x) for x in neg_test.values()]))"
   ]
  },
  {
   "cell_type": "code",
   "execution_count": 85,
   "metadata": {},
   "outputs": [],
   "source": [
    "# make train edges as 2d-array from list of tuples\n",
    "train_edges_np = np.zeros(shape = (len(train_edges), 3), dtype = np.int32)\n",
    "for i in range(len(train_edges)):\n",
    "    user = train_edges[i][0]\n",
    "    item = train_edges[i][1]\n",
    "    rating = train_edges[i][2]\n",
    "    train_edges_np[i] = np.array([user, item, rating])\n",
    "\n",
    "# save the training edges\n",
    "np.save('train_edges.npy', train_edges_np)\n",
    "\n",
    "# make test edges as 2d-array from list of tuples\n",
    "test_edges_np = np.zeros(shape = (len(test_edges), 3), dtype = np.int32)\n",
    "for i in range(len(test_edges)):\n",
    "    user = test_edges[i][0]\n",
    "    item = test_edges[i][1]\n",
    "    rating = test_edges[i][2]\n",
    "    test_edges_np[i] = np.array([user, item, rating])\n",
    "\n",
    "np.save('test_edges.npy', test_edges_np)"
   ]
  },
  {
   "cell_type": "code",
   "execution_count": 86,
   "metadata": {},
   "outputs": [
    {
     "name": "stdout",
     "output_type": "stream",
     "text": [
      "adj.npy   all_edges.npy  files\t\t  test_edges.npy   u.data\n",
      "adjr.npy  explore.ipynb  movielens.ipynb  train_edges.npy\n"
     ]
    }
   ],
   "source": [
    "!ls"
   ]
  }
 ],
 "metadata": {
  "interpreter": {
   "hash": "6f38835821387ecea7238337192aa99e87ed1a9c9c1fa6562e207de7e0c31193"
  },
  "kernelspec": {
   "display_name": "Python 3.7.11 ('PyG': conda)",
   "language": "python",
   "name": "python3"
  },
  "language_info": {
   "codemirror_mode": {
    "name": "ipython",
    "version": 3
   },
   "file_extension": ".py",
   "mimetype": "text/x-python",
   "name": "python",
   "nbconvert_exporter": "python",
   "pygments_lexer": "ipython3",
   "version": "3.7.11"
  },
  "orig_nbformat": 4
 },
 "nbformat": 4,
 "nbformat_minor": 2
}
