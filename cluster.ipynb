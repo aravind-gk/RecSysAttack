{
 "cells": [
  {
   "cell_type": "markdown",
   "metadata": {},
   "source": [
    "#### **Library imports**"
   ]
  },
  {
   "cell_type": "code",
   "execution_count": 1,
   "metadata": {},
   "outputs": [],
   "source": [
    "# Library imports\n",
    "import pyforest\n",
    "import numpy as np\n",
    "import pandas as pd\n",
    "import os\n",
    "from matplotlib import pyplot as plt\n",
    "from tqdm import tqdm\n",
    "from pprint import pprint\n",
    "from time import sleep\n",
    "import time\n",
    "import seaborn as sns\n",
    "from sklearn.metrics import roc_auc_score\n",
    "\n",
    "from turtle import forward\n",
    "import torch.nn as nn\n",
    "import torch.nn.functional as F\n",
    "import math\n",
    "import torch\n",
    "from torch.nn.parameter import Parameter\n",
    "from torch.nn.modules.module import Module\n",
    "from torch.utils.data import DataLoader, TensorDataset\n",
    "\n",
    "import models \n",
    "from models import get_accuracy\n",
    "import inspect"
   ]
  },
  {
   "cell_type": "markdown",
   "metadata": {},
   "source": [
    "#### **Load dataset**"
   ]
  },
  {
   "cell_type": "code",
   "execution_count": 4,
   "metadata": {},
   "outputs": [
    {
     "name": "stdout",
     "output_type": "stream",
     "text": [
      "n_users: 943\n",
      "n_items: 1682\n",
      "n_samples_train: 159619\n",
      "n_samples_test: 40381\n"
     ]
    }
   ],
   "source": [
    "dataset = 'movielens'\n",
    "use_gpu = 1\n",
    "\n",
    "train_edges = np.load('data/' + dataset + '/train_edges.npy')\n",
    "test_edges = np.load('data/' + dataset + '/test_edges.npy')\n",
    "\n",
    "user_list_train = train_edges[:, 0]\n",
    "user_list_test = test_edges[:, 0]\n",
    "item_list_train = train_edges[:, 1]\n",
    "item_list_test = test_edges[:, 1]\n",
    "rating_list_train = train_edges[:, 2].astype('float32')\n",
    "rating_list_test = test_edges[:, 2].astype('float32')\n",
    "\n",
    "n_users = max(user_list_train.max(), user_list_test.max()) + 1 \n",
    "n_items = max(item_list_train.max(), item_list_test.max()) + 1\n",
    "n_samples_train = len(rating_list_train)\n",
    "n_samples_test = len(rating_list_test)\n",
    "\n",
    "print('n_users:', n_users)\n",
    "print('n_items:', n_items)\n",
    "print('n_samples_train:', n_samples_train)\n",
    "print('n_samples_test:', n_samples_test)\n",
    "\n",
    "if use_gpu == -1:\n",
    "    device = 'cpu'\n",
    "else:\n",
    "    device = torch.device('cuda:{}'.format(str(use_gpu)) if torch.cuda.is_available() else 'cpu')\n",
    "\n",
    "users = torch.tensor(user_list_train, device = device)\n",
    "items = torch.tensor(item_list_train, device = device)\n",
    "ratings = torch.tensor(rating_list_train, device = device, requires_grad = True)\n",
    "\n",
    "users_test = torch.tensor(user_list_test, device = device)\n",
    "items_test = torch.tensor(item_list_test, device = device)\n",
    "ratings_test = torch.tensor(rating_list_test, device = device)\n",
    "\n",
    "ratings_np = ratings.detach().to('cpu').int().numpy()\n",
    "ratings_test_np = ratings_test.detach().to('cpu').int().numpy()"
   ]
  },
  {
   "cell_type": "markdown",
   "metadata": {},
   "source": [
    "#### **Check available models**"
   ]
  },
  {
   "cell_type": "code",
   "execution_count": 3,
   "metadata": {},
   "outputs": [
    {
     "data": {
      "text/plain": [
       "['CF', 'CFD', 'GMF', 'GMFB', 'GMFD', 'MLP', 'NeuMF']"
      ]
     },
     "execution_count": 3,
     "metadata": {},
     "output_type": "execute_result"
    }
   ],
   "source": [
    "[m[0] for m in inspect.getmembers(models, inspect.isclass) if m[1].__module__ == 'models']"
   ]
  },
  {
   "cell_type": "markdown",
   "metadata": {},
   "source": [
    "#### **Train CF model**"
   ]
  },
  {
   "cell_type": "code",
   "execution_count": 11,
   "metadata": {},
   "outputs": [
    {
     "data": {
      "text/plain": [
       "device(type='cuda', index=1)"
      ]
     },
     "execution_count": 11,
     "metadata": {},
     "output_type": "execute_result"
    }
   ],
   "source": [
    "device"
   ]
  },
  {
   "cell_type": "code",
   "execution_count": 12,
   "metadata": {},
   "outputs": [
    {
     "name": "stderr",
     "output_type": "stream",
     "text": [
      "100%|██████████| 100/100 [00:05<00:00, 17.78it/s]\n"
     ]
    },
    {
     "name": "stdout",
     "output_type": "stream",
     "text": [
      "max meta grad:  0.00022516837634611875\n",
      "min meta grad:  -inf\n",
      "Training accuracy:  0.8831467628479004\n",
      "Training AUC:  0.9546998077563144\n",
      "Validation accuracy:  0.8224660158157349\n",
      "Validation AUC:  0.900886888523625\n",
      "Max validation accuracy:  0.9009098952455719\n",
      "Max validation AUC:  0.9009098952455719\n",
      "Execution time: 00h 00m 05s\n"
     ]
    },
    {
     "data": {
      "image/png": "[encoded data removed]",
      "text/plain": [
       "<Figure size 432x288 with 1 Axes>"
      ]
     },
     "metadata": {
      "needs_background": "light"
     },
     "output_type": "display_data"
    }
   ],
   "source": [
    "seed = 0\n",
    "start_time = time.time()\n",
    "torch.manual_seed(seed)\n",
    "\n",
    "# architecture\n",
    "algorithm = 'CFD'\n",
    "n_factors = 16\n",
    "\n",
    "# hyperparameters\n",
    "dropout = 0.3 \n",
    "lr = 0.1\n",
    "T = 100\n",
    "\n",
    "if dropout == None:\n",
    "    model = getattr(models, algorithm)(n_users, n_items, n_factors).to(device)\n",
    "else:\n",
    "    model = getattr(models, algorithm)(n_users, n_items, n_factors, dropout).to(device)\n",
    "    \n",
    "optimizer = torch.optim.Adam(model.parameters(), lr = lr)\n",
    "loss_fn = torch.nn.BCELoss(reduction = 'mean')\n",
    "\n",
    "train_auc = []\n",
    "valid_auc = []\n",
    "\n",
    "for _ in tqdm(range(T)):\n",
    "    model.eval()\n",
    "    with torch.no_grad():\n",
    "        y_hat = model(users, items).detach().to('cpu').numpy()\n",
    "        y_hat_test = model(users_test, items_test).detach().to('cpu').numpy()\n",
    "        train_auc.append(roc_auc_score(ratings_np, y_hat))\n",
    "        valid_auc.append(roc_auc_score(ratings_test_np, y_hat_test))\n",
    "    \n",
    "    model.train()\n",
    "    y_hat = model(users, items)\n",
    "    loss = loss_fn(y_hat, ratings)\n",
    "    optimizer.zero_grad()\n",
    "    loss.backward(retain_graph = True)\n",
    "    optimizer.step()\n",
    "\n",
    "model.eval()\n",
    "loss = loss_fn(y_hat, ratings)\n",
    "meta_grad = torch.autograd.grad(loss, ratings)[0]\n",
    "print('max meta grad: ', meta_grad.max().item())\n",
    "print('min meta grad: ', meta_grad.min().item())\n",
    "\n",
    "with torch.no_grad():\n",
    "    y_hat = model(users, items)\n",
    "    y_hat_test = model(users_test, items_test)\n",
    "    print('Training accuracy: ', get_accuracy(y_hat, ratings))\n",
    "    print('Training AUC: ', roc_auc_score(ratings_np, y_hat.detach().to('cpu').numpy()))\n",
    "    print('Validation accuracy: ', get_accuracy(y_hat_test, ratings_test))\n",
    "    print('Validation AUC: ', roc_auc_score(ratings_test_np, y_hat_test.detach().to('cpu').numpy()))\n",
    "    print('Max validation accuracy: ', max(valid_auc))\n",
    "    print('Max validation AUC: ', max(valid_auc))\n",
    "\n",
    "# compute execution time\n",
    "exec_time = int(time.time() - start_time)\n",
    "exec_time = time.strftime(\"%Hh %Mm %Ss\", time.gmtime(exec_time))\n",
    "print('Execution time: {}'.format(exec_time))\n",
    "\n",
    "plt.plot(train_auc, label = 'Training AUC')\n",
    "plt.plot(valid_auc, label = 'Validation AUC')\n",
    "plt.legend()\n",
    "plt.xlabel('Epoch')\n",
    "plt.ylabel('AUROC')\n",
    "plt.title('AUROC vs epochs for {} algorithm'.format(algorithm))\n",
    "plt.show()"
   ]
  }
 ],
 "metadata": {
  "interpreter": {
   "hash": "6f38835821387ecea7238337192aa99e87ed1a9c9c1fa6562e207de7e0c31193"
  },
  "kernelspec": {
   "display_name": "Python 3.7.11 ('PyG': conda)",
   "language": "python",
   "name": "python3"
  },
  "language_info": {
   "codemirror_mode": {
    "name": "ipython",
    "version": 3
   },
   "file_extension": ".py",
   "mimetype": "text/x-python",
   "name": "python",
   "nbconvert_exporter": "python",
   "pygments_lexer": "ipython3",
   "version": "3.7.11"
  },
  "orig_nbformat": 4
 },
 "nbformat": 4,
 "nbformat_minor": 2
}
