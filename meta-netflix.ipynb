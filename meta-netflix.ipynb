{
 "cells": [
  {
   "cell_type": "markdown",
   "metadata": {},
   "source": [
    "#### **Library imports**"
   ]
  },
  {
   "cell_type": "code",
   "execution_count": 2,
   "metadata": {},
   "outputs": [],
   "source": [
    "# Library imports\n",
    "import pyforest\n",
    "import numpy as np\n",
    "import pandas as pd\n",
    "import os\n",
    "from matplotlib import pyplot as plt\n",
    "from tqdm import tqdm\n",
    "from pprint import pprint\n",
    "from time import sleep\n",
    "import time\n",
    "import seaborn as sns\n",
    "\n",
    "from turtle import forward\n",
    "import torch.nn as nn\n",
    "import torch.nn.functional as F\n",
    "import math\n",
    "import torch\n",
    "from torch.nn.parameter import Parameter\n",
    "from torch.nn.modules.module import Module\n",
    "from torch.utils.data import DataLoader, TensorDataset"
   ]
  },
  {
   "cell_type": "markdown",
   "metadata": {},
   "source": [
    "#### **Hyperparams and loading data**"
   ]
  },
  {
   "cell_type": "code",
   "execution_count": 3,
   "metadata": {},
   "outputs": [],
   "source": [
    "train_edges = np.load('netflix/train_edges.npy')\n",
    "user_list = train_edges[:, 0]\n",
    "item_list = train_edges[:, 1]\n",
    "rating_list = train_edges[:, 2].astype('float32')\n",
    "\n",
    "n_users = user_list.max() + 1 \n",
    "n_items = item_list.max() + 1\n",
    "n_samples = len(rating_list)"
   ]
  },
  {
   "cell_type": "code",
   "execution_count": 4,
   "metadata": {},
   "outputs": [
    {
     "data": {
      "text/plain": [
       "(8138, 1503, 3317230)"
      ]
     },
     "execution_count": 4,
     "metadata": {},
     "output_type": "execute_result"
    }
   ],
   "source": [
    "n_users, n_items, n_samples"
   ]
  },
  {
   "cell_type": "markdown",
   "metadata": {},
   "source": [
    "#### **Defining collaborative filtering**"
   ]
  },
  {
   "cell_type": "code",
   "execution_count": 5,
   "metadata": {},
   "outputs": [],
   "source": [
    "class CollaborativeFiltering(Module):\n",
    "    def __init__(self, n_users, n_items, n_factors):\n",
    "        super(CollaborativeFiltering, self).__init__()\n",
    "        self.user_emb = nn.Embedding(n_users, n_factors)\n",
    "        self.item_emb = nn.Embedding(n_items, n_factors)\n",
    "\n",
    "    def forward(self, user, item):\n",
    "        u = self.user_emb(user)\n",
    "        i = self.item_emb(item)\n",
    "        dot = (u * i).sum(1)\n",
    "        return torch.sigmoid(dot)"
   ]
  },
  {
   "cell_type": "code",
   "execution_count": 7,
   "metadata": {},
   "outputs": [],
   "source": [
    "def get_accuracy(y_hat, y):\n",
    "    y = y.clone().int()\n",
    "    y_hat = (y_hat.clone() > 0.5).int()\n",
    "    accuracy = (y == y_hat).sum() / len(y)\n",
    "    return accuracy.item()"
   ]
  },
  {
   "cell_type": "markdown",
   "metadata": {},
   "source": [
    "#### **Code for meta attack**"
   ]
  },
  {
   "cell_type": "code",
   "execution_count": 47,
   "metadata": {},
   "outputs": [
    {
     "name": "stdout",
     "output_type": "stream",
     "text": [
      "-> Learning rate:  10000\n",
      "-> T:  100\n",
      "-> Delta: 2000 (0.06%)\n",
      "-> Embedding size:  64\n",
      "-> Device:  cuda:6\n",
      "-> Manual gradients:  True\n",
      "-> Retain graph:  True\n",
      "-> Create graph:  False\n",
      "-> Save results:  True\n"
     ]
    },
    {
     "name": "stderr",
     "output_type": "stream",
     "text": [
      "-> Perturbations:   5%|▍         | 95/2000 [04:42<1:30:31,  2.85s/it]"
     ]
    }
   ],
   "source": [
    "# start execution\n",
    "start_time = time.time()\n",
    "\n",
    "# GPU settings (set use_gpu = -1 if you want to use CPU)\n",
    "use_gpu = 6\n",
    "if use_gpu == -1:\n",
    "    device = 'cpu'\n",
    "else:\n",
    "    device = torch.device('cuda:{}'.format(str(use_gpu)) if torch.cuda.is_available() else 'cpu')\n",
    "\n",
    "# some hyperparams\n",
    "lr = 10000\n",
    "T = 100\n",
    "Delta = 2000\n",
    "n_factors = 64\n",
    "save_results = True\n",
    "manual_gradients = True\n",
    "retain_graph = True \n",
    "create_graph = False\n",
    "\n",
    "# store loss results in this list and later convert to dataframe \n",
    "results = []\n",
    "\n",
    "# list of perturbations\n",
    "perturbations = dict()\n",
    "perturbations['edges'] = []\n",
    "perturbations['metagrad'] = []\n",
    "# perturbations['accuracy'] = []\n",
    "perturbations['accuracy_before'] = []\n",
    "perturbations['accuracy_after'] = []\n",
    "perturbations['loss_before'] = []\n",
    "perturbations['loss_after'] = []\n",
    "\n",
    "# print hyperparam config\n",
    "print('-> Learning rate: ', lr)\n",
    "print('-> T: ', T)\n",
    "print('-> Delta: {} ({}%)'.format(Delta, round(Delta * 100 / n_samples, 2)))\n",
    "print('-> Embedding size: ', n_factors)\n",
    "print('-> Device: ', device)\n",
    "print('-> Manual gradients: ', manual_gradients)\n",
    "print('-> Retain graph: ', retain_graph)\n",
    "print('-> Create graph: ', create_graph)\n",
    "print('-> Save results: ', save_results)\n",
    "\n",
    "# load users, items and ratings as tensors\n",
    "users = torch.tensor(user_list, device = device)\n",
    "items = torch.tensor(item_list, device = device)\n",
    "ratings = torch.tensor(rating_list, device = device, requires_grad = True)\n",
    "perturbs = torch.ones_like(ratings).bool()\n",
    "\n",
    "# define model and it's parameters\n",
    "model = CollaborativeFiltering(n_users, n_items, n_factors)\n",
    "model.to(device)\n",
    "\n",
    "if manual_gradients == True:\n",
    "    p1, p2 = model.parameters()\n",
    "else:\n",
    "    optimizer = torch.optim.SGD(model.parameters(), lr = 100)\n",
    "\n",
    "# for each perturbation do the following\n",
    "for delta in tqdm(range(Delta), desc='-> Perturbations'):\n",
    "\n",
    "    # makes loss reproducible for each iteration in Delta\n",
    "    torch.manual_seed(0)\n",
    "\n",
    "    # reset model paramters \n",
    "    for layer in model.children():\n",
    "        layer.reset_parameters()\n",
    "    \n",
    "    # define loss function\n",
    "    loss_fn = nn.BCELoss(reduction = 'mean')\n",
    "\n",
    "    model.train()\n",
    "\n",
    "    # inner loop training process\n",
    "    if manual_gradients == True:\n",
    "        for i in range(T):\n",
    "            y_hat = model(users, items)\n",
    "            loss = loss_fn(y_hat, ratings)\n",
    "            results.append([delta, i, loss.item()])\n",
    "\n",
    "            # compute inner parameter gradients\n",
    "            p1_grad = torch.autograd.grad(loss, p1, retain_graph=retain_graph, create_graph=create_graph)\n",
    "            p2_grad = torch.autograd.grad(loss, p2, retain_graph=retain_graph, create_graph=create_graph)\n",
    "\n",
    "            # update inner parameters\n",
    "            with torch.no_grad():\n",
    "                p1_new = p1 - lr * p1_grad[0]\n",
    "                p2_new = p2 - lr * p2_grad[0]\n",
    "                p1.copy_(p1_new)\n",
    "                p2.copy_(p2_new)\n",
    "    else:\n",
    "        for i in range(T):\n",
    "            y_hat = model(users, items)\n",
    "            loss = loss_fn(y_hat, ratings)\n",
    "            results.append([delta, i, loss.item()])\n",
    "\n",
    "            # use torch.optim optimizer to compute gradients\n",
    "            optimizer.zero_grad()\n",
    "            loss.backward(retain_graph=retain_graph, create_graph=create_graph)\n",
    "            optimizer.step()\n",
    "\n",
    "    # compute and store accuracy of model after T training steps\n",
    "    with torch.no_grad():\n",
    "        # compute training accuracy and loss including perturbed edges\n",
    "        y_hat = model(users, items)\n",
    "        perturbations['accuracy_before'].append(get_accuracy(y_hat, ratings))\n",
    "        perturbations['loss_before'].append(loss_fn(y_hat, ratings).item())\n",
    "\n",
    "        # compute training accuracy and loss excluding perturbed edges\n",
    "        y_hat_masked = torch.masked_select(y_hat, perturbs)\n",
    "        ratings_masked = torch.masked_select(ratings, perturbs)\n",
    "        perturbations['accuracy_after'].append(get_accuracy(y_hat_masked, ratings_masked))\n",
    "        perturbations['loss_after'].append(loss_fn(y_hat_masked, ratings_masked).item())\n",
    "    \n",
    "    # compute meta gradient\n",
    "    meta_grad = torch.autograd.grad(loss, ratings)[0]\n",
    "\n",
    "    # select best edge and perform perturbation\n",
    "    with torch.no_grad():\n",
    "        mask = ratings.detach().int()\n",
    "        meta_grad[mask == 1] = 0\n",
    "        best_edge = meta_grad.argmax().item()\n",
    "        ratings[best_edge] = 1\n",
    "        perturbs[best_edge] = False\n",
    "\n",
    "        # keep track of perturbations and accuracy\n",
    "        perturbations['edges'].append(best_edge)\n",
    "        perturbations['metagrad'].append(meta_grad[best_edge].item())\n",
    "\n",
    "sleep(1)\n",
    "# compute execution time\n",
    "exec_time = int(time.time() - start_time)\n",
    "exec_time = time.strftime(\"%Hh %Mm %Ss\", time.gmtime(exec_time))\n",
    "print('-> Execution time: {}'.format(exec_time))\n",
    "\n",
    "# convert results to dataframes for visualisation\n",
    "results = pd.DataFrame(results, columns = ['perturbs', 'iters', 'loss'])\n",
    "perturbations = pd.DataFrame(perturbations)\n",
    "losses = results[results.iters == T - 1][['perturbs', 'loss']].copy()\n",
    "\n",
    "# save results in CSV format\n",
    "filename = 'netflix_meta_Delta={}_T={}_LR={}_Factors={}'.format(Delta, T, lr, n_factors) + ('_manual' if manual_gradients else '_auto') + ('_r' if retain_graph else '_c')\n",
    "if save_results:\n",
    "    # results.to_csv('results/results_' + filename + '.csv')\n",
    "    perturbations.to_csv('results/perturbations_' + filename + '.csv')\n",
    "    losses.to_csv('results/losses_' + filename + '.csv')"
   ]
  },
  {
   "cell_type": "code",
   "execution_count": 43,
   "metadata": {},
   "outputs": [
    {
     "data": {
      "text/html": [
       "<div>\n",
       "<style scoped>\n",
       "    .dataframe tbody tr th:only-of-type {\n",
       "        vertical-align: middle;\n",
       "    }\n",
       "\n",
       "    .dataframe tbody tr th {\n",
       "        vertical-align: top;\n",
       "    }\n",
       "\n",
       "    .dataframe thead th {\n",
       "        text-align: right;\n",
       "    }\n",
       "</style>\n",
       "<table border=\"1\" class=\"dataframe\">\n",
       "  <thead>\n",
       "    <tr style=\"text-align: right;\">\n",
       "      <th></th>\n",
       "      <th>edges</th>\n",
       "      <th>metagrad</th>\n",
       "      <th>accuracy_before</th>\n",
       "      <th>accuracy_after</th>\n",
       "      <th>loss_before</th>\n",
       "      <th>loss_after</th>\n",
       "    </tr>\n",
       "  </thead>\n",
       "  <tbody>\n",
       "    <tr>\n",
       "      <th>0</th>\n",
       "      <td>1624784</td>\n",
       "      <td>0.000004</td>\n",
       "      <td>0.815561</td>\n",
       "      <td>0.815561</td>\n",
       "      <td>0.401888</td>\n",
       "      <td>0.401888</td>\n",
       "    </tr>\n",
       "  </tbody>\n",
       "</table>\n",
       "</div>"
      ],
      "text/plain": [
       "     edges  metagrad  accuracy_before  accuracy_after  loss_before  loss_after\n",
       "0  1624784  0.000004         0.815561        0.815561     0.401888    0.401888"
      ]
     },
     "execution_count": 43,
     "metadata": {},
     "output_type": "execute_result"
    }
   ],
   "source": [
    "perturbations"
   ]
  },
  {
   "cell_type": "markdown",
   "metadata": {},
   "source": [
    "#### **More plots**"
   ]
  },
  {
   "cell_type": "code",
   "execution_count": 17,
   "metadata": {},
   "outputs": [
    {
     "data": {
      "text/html": [
       "<div>\n",
       "<style scoped>\n",
       "    .dataframe tbody tr th:only-of-type {\n",
       "        vertical-align: middle;\n",
       "    }\n",
       "\n",
       "    .dataframe tbody tr th {\n",
       "        vertical-align: top;\n",
       "    }\n",
       "\n",
       "    .dataframe thead th {\n",
       "        text-align: right;\n",
       "    }\n",
       "</style>\n",
       "<table border=\"1\" class=\"dataframe\">\n",
       "  <thead>\n",
       "    <tr style=\"text-align: right;\">\n",
       "      <th></th>\n",
       "      <th># Perturbations</th>\n",
       "      <th>Perturbed edge</th>\n",
       "      <th>Meta gradient</th>\n",
       "      <th>Accuracy including perturbed edges</th>\n",
       "      <th>Accuracy excluding perturbed edges</th>\n",
       "      <th>Loss including perturbed edges</th>\n",
       "      <th>Loss excluding perturbed edges</th>\n",
       "    </tr>\n",
       "  </thead>\n",
       "  <tbody>\n",
       "    <tr>\n",
       "      <th>0</th>\n",
       "      <td>0</td>\n",
       "      <td>85658</td>\n",
       "      <td>0.000174</td>\n",
       "      <td>0.913585</td>\n",
       "      <td>0.913585</td>\n",
       "      <td>0.306598</td>\n",
       "      <td>0.306598</td>\n",
       "    </tr>\n",
       "    <tr>\n",
       "      <th>1</th>\n",
       "      <td>1</td>\n",
       "      <td>105403</td>\n",
       "      <td>0.000163</td>\n",
       "      <td>0.913573</td>\n",
       "      <td>0.913579</td>\n",
       "      <td>0.306671</td>\n",
       "      <td>0.306626</td>\n",
       "    </tr>\n",
       "    <tr>\n",
       "      <th>2</th>\n",
       "      <td>2</td>\n",
       "      <td>96880</td>\n",
       "      <td>0.000158</td>\n",
       "      <td>0.913532</td>\n",
       "      <td>0.913543</td>\n",
       "      <td>0.306727</td>\n",
       "      <td>0.306656</td>\n",
       "    </tr>\n",
       "    <tr>\n",
       "      <th>3</th>\n",
       "      <td>3</td>\n",
       "      <td>124502</td>\n",
       "      <td>0.000154</td>\n",
       "      <td>0.913473</td>\n",
       "      <td>0.913489</td>\n",
       "      <td>0.306788</td>\n",
       "      <td>0.306669</td>\n",
       "    </tr>\n",
       "    <tr>\n",
       "      <th>4</th>\n",
       "      <td>4</td>\n",
       "      <td>58013</td>\n",
       "      <td>0.000150</td>\n",
       "      <td>0.913449</td>\n",
       "      <td>0.913470</td>\n",
       "      <td>0.306846</td>\n",
       "      <td>0.306681</td>\n",
       "    </tr>\n",
       "    <tr>\n",
       "      <th>...</th>\n",
       "      <td>...</td>\n",
       "      <td>...</td>\n",
       "      <td>...</td>\n",
       "      <td>...</td>\n",
       "      <td>...</td>\n",
       "      <td>...</td>\n",
       "      <td>...</td>\n",
       "    </tr>\n",
       "    <tr>\n",
       "      <th>9995</th>\n",
       "      <td>9995</td>\n",
       "      <td>131129</td>\n",
       "      <td>0.000030</td>\n",
       "      <td>0.858530</td>\n",
       "      <td>0.874909</td>\n",
       "      <td>0.388090</td>\n",
       "      <td>0.356909</td>\n",
       "    </tr>\n",
       "    <tr>\n",
       "      <th>9996</th>\n",
       "      <td>9996</td>\n",
       "      <td>104427</td>\n",
       "      <td>0.000030</td>\n",
       "      <td>0.858536</td>\n",
       "      <td>0.874940</td>\n",
       "      <td>0.387579</td>\n",
       "      <td>0.356365</td>\n",
       "    </tr>\n",
       "    <tr>\n",
       "      <th>9997</th>\n",
       "      <td>9997</td>\n",
       "      <td>157554</td>\n",
       "      <td>0.000033</td>\n",
       "      <td>0.858506</td>\n",
       "      <td>0.874927</td>\n",
       "      <td>0.387595</td>\n",
       "      <td>0.356376</td>\n",
       "    </tr>\n",
       "    <tr>\n",
       "      <th>9998</th>\n",
       "      <td>9998</td>\n",
       "      <td>84849</td>\n",
       "      <td>0.000030</td>\n",
       "      <td>0.858488</td>\n",
       "      <td>0.874913</td>\n",
       "      <td>0.387601</td>\n",
       "      <td>0.356384</td>\n",
       "    </tr>\n",
       "    <tr>\n",
       "      <th>9999</th>\n",
       "      <td>9999</td>\n",
       "      <td>54510</td>\n",
       "      <td>0.000030</td>\n",
       "      <td>0.858476</td>\n",
       "      <td>0.874894</td>\n",
       "      <td>0.387638</td>\n",
       "      <td>0.356407</td>\n",
       "    </tr>\n",
       "  </tbody>\n",
       "</table>\n",
       "<p>10000 rows × 7 columns</p>\n",
       "</div>"
      ],
      "text/plain": [
       "      # Perturbations  Perturbed edge  Meta gradient  \\\n",
       "0                   0           85658       0.000174   \n",
       "1                   1          105403       0.000163   \n",
       "2                   2           96880       0.000158   \n",
       "3                   3          124502       0.000154   \n",
       "4                   4           58013       0.000150   \n",
       "...               ...             ...            ...   \n",
       "9995             9995          131129       0.000030   \n",
       "9996             9996          104427       0.000030   \n",
       "9997             9997          157554       0.000033   \n",
       "9998             9998           84849       0.000030   \n",
       "9999             9999           54510       0.000030   \n",
       "\n",
       "      Accuracy including perturbed edges  Accuracy excluding perturbed edges  \\\n",
       "0                               0.913585                            0.913585   \n",
       "1                               0.913573                            0.913579   \n",
       "2                               0.913532                            0.913543   \n",
       "3                               0.913473                            0.913489   \n",
       "4                               0.913449                            0.913470   \n",
       "...                                  ...                                 ...   \n",
       "9995                            0.858530                            0.874909   \n",
       "9996                            0.858536                            0.874940   \n",
       "9997                            0.858506                            0.874927   \n",
       "9998                            0.858488                            0.874913   \n",
       "9999                            0.858476                            0.874894   \n",
       "\n",
       "      Loss including perturbed edges  Loss excluding perturbed edges  \n",
       "0                           0.306598                        0.306598  \n",
       "1                           0.306671                        0.306626  \n",
       "2                           0.306727                        0.306656  \n",
       "3                           0.306788                        0.306669  \n",
       "4                           0.306846                        0.306681  \n",
       "...                              ...                             ...  \n",
       "9995                        0.388090                        0.356909  \n",
       "9996                        0.387579                        0.356365  \n",
       "9997                        0.387595                        0.356376  \n",
       "9998                        0.387601                        0.356384  \n",
       "9999                        0.387638                        0.356407  \n",
       "\n",
       "[10000 rows x 7 columns]"
      ]
     },
     "execution_count": 17,
     "metadata": {},
     "output_type": "execute_result"
    }
   ],
   "source": [
    "perturbations_reset = perturbations.reset_index()\n",
    "perturbations_reset.columns = ['# Perturbations', 'Perturbed edge', 'Meta gradient', 'Accuracy including perturbed edges', 'Accuracy excluding perturbed edges', 'Loss including perturbed edges', 'Loss excluding perturbed edges']\n",
    "perturbations_reset"
   ]
  },
  {
   "cell_type": "code",
   "execution_count": 18,
   "metadata": {},
   "outputs": [
    {
     "data": {
      "text/plain": [
       "'steam_meta_Delta=10000_T=300_LR=100_Factors=64_manual_r'"
      ]
     },
     "execution_count": 18,
     "metadata": {},
     "output_type": "execute_result"
    }
   ],
   "source": [
    "filename"
   ]
  },
  {
   "cell_type": "code",
   "execution_count": 19,
   "metadata": {},
   "outputs": [
    {
     "data": {
      "image/png": "[encoded data removed]",
      "text/plain": [
       "<Figure size 648x504 with 1 Axes>"
      ]
     },
     "metadata": {},
     "output_type": "display_data"
    },
    {
     "data": {
      "image/png": "[encoded data removed]",
      "text/plain": [
       "<Figure size 648x504 with 1 Axes>"
      ]
     },
     "metadata": {},
     "output_type": "display_data"
    }
   ],
   "source": [
    "sns.set_theme()\n",
    "figsize = (9, 7)\n",
    "\n",
    "# Loss plot\n",
    "\n",
    "plt.figure(figsize = figsize)\n",
    "sns.lineplot(data = perturbations_reset, x = '# Perturbations', y = 'Loss including perturbed edges', color = 'blue').set_title('Comparison of training loss before v/s after perturbations')\n",
    "fig = sns.lineplot(data = perturbations_reset, x = '# Perturbations', y = 'Loss excluding perturbed edges', color = 'green').get_figure()\n",
    "plt.xlabel('Number of perturbations')\n",
    "plt.ylabel('Training loss')\n",
    "plt.legend(labels = ['Loss including perturbed edges', 'Loss excluding perturbed edges'], loc = 'upper left')\n",
    "fig.savefig('plots/losses_' + filename)\n",
    "plt.show()\n",
    "\n",
    "# Accuracy plot\n",
    "plt.figure(figsize = figsize)\n",
    "sns.lineplot(data = perturbations_reset, x = '# Perturbations', y = 'Accuracy including perturbed edges', color = 'blue').set_title('Comparison of training accuracy before v/s after perturbations')\n",
    "fig = sns.lineplot(data = perturbations_reset, x = '# Perturbations', y = 'Accuracy excluding perturbed edges', color = 'green').get_figure()\n",
    "plt.xlabel('Number of perturbations')\n",
    "plt.ylabel('Training accuracy')\n",
    "plt.legend(labels = ['Accuracy including perturbed edges', 'Accuracy excluding perturbed edges'])\n",
    "fig.savefig('plots/accuracy_' + filename)\n",
    "plt.show()"
   ]
  }
 ],
 "metadata": {
  "interpreter": {
   "hash": "6f38835821387ecea7238337192aa99e87ed1a9c9c1fa6562e207de7e0c31193"
  },
  "kernelspec": {
   "display_name": "Python 3.7.11 ('PyG': conda)",
   "language": "python",
   "name": "python3"
  },
  "language_info": {
   "codemirror_mode": {
    "name": "ipython",
    "version": 3
   },
   "file_extension": ".py",
   "mimetype": "text/x-python",
   "name": "python",
   "nbconvert_exporter": "python",
   "pygments_lexer": "ipython3",
   "version": "3.7.11"
  },
  "orig_nbformat": 4
 },
 "nbformat": 4,
 "nbformat_minor": 2
}
