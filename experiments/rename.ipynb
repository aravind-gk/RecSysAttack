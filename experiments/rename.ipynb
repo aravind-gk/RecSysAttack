{
 "cells": [
  {
   "cell_type": "code",
   "execution_count": 7,
   "metadata": {},
   "outputs": [],
   "source": [
    "import os\n",
    "from glob import glob"
   ]
  },
  {
   "cell_type": "markdown",
   "metadata": {},
   "source": [
    "#### **Main code used for renaming**"
   ]
  },
  {
   "cell_type": "code",
   "execution_count": 38,
   "metadata": {},
   "outputs": [],
   "source": [
    "def rename_file(file: str, folder: str):\n",
    "    algorithms = ['meta', 'base']\n",
    "    metrics = ['acc', 'AUROC', 'loss']\n",
    "    for algo in algorithms:\n",
    "        for metric in metrics:\n",
    "            if algo in file  and metric in file:\n",
    "                if 'unseen' in file:\n",
    "                    new_file = folder + algo + '-unseen-' + metric.lower() + '.png'\n",
    "                else:\n",
    "                    new_file = folder + algo + '-training-' + metric.lower() + '.png'\n",
    "                os.rename(file, new_file)\n",
    "                return"
   ]
  },
  {
   "cell_type": "code",
   "execution_count": 39,
   "metadata": {},
   "outputs": [],
   "source": [
    "for case in range(1, 13):\n",
    "    folder = 'case-{}/'.format(case)\n",
    "    for file in glob(folder + '*'):\n",
    "        rename_file(file, folder)"
   ]
  },
  {
   "cell_type": "markdown",
   "metadata": {},
   "source": [
    "#### **Other code**"
   ]
  },
  {
   "cell_type": "code",
   "execution_count": 27,
   "metadata": {},
   "outputs": [
    {
     "name": "stdout",
     "output_type": "stream",
     "text": [
      "case-1/\n",
      "case-2/\n",
      "case-3/\n",
      "case-4/\n",
      "case-5/\n",
      "case-6/\n",
      "case-7/\n",
      "case-8/\n",
      "case-9/\n",
      "case-10/\n",
      "case-11/\n",
      "case-12/\n"
     ]
    }
   ],
   "source": [
    "for case in range(1, 13):\n",
    "    folder = 'case-{}/'.format(case)\n",
    "    print(folder)\n",
    "    "
   ]
  },
  {
   "cell_type": "code",
   "execution_count": 13,
   "metadata": {},
   "outputs": [
    {
     "data": {
      "text/plain": [
       "['case-1/accuracy-unseen-CFD(16,adam)-CFD(16,adam)-meta-similar(200)-D=5000-T(25,25)-lr(0.3,0.3)-seed(0,1)-drop(0.3,0.3).png',\n",
       " 'case-1/AUROC-CFD(16,adam)-CFD(16,adam)-meta-similar(200)-D=5000-T(25,25)-lr(0.3,0.3)-seed(0,1)-drop(0.3,0.3).png',\n",
       " 'case-1/losses-CFD(16,adam)-CFD(16,adam)-base-similar(200)-D=5000-T(25,25)-lr(0.3,0.3)-seed(0,1)-drop(0.3,0.3).png',\n",
       " 'case-1/accuracy-CFD(16,adam)-CFD(16,adam)-meta-similar(200)-D=5000-T(25,25)-lr(0.3,0.3)-seed(0,1)-drop(0.3,0.3).png',\n",
       " 'case-1/losses-unseen-CFD(16,adam)-CFD(16,adam)-meta-similar(200)-D=5000-T(25,25)-lr(0.3,0.3)-seed(0,1)-drop(0.3,0.3).png',\n",
       " 'case-1/AUROC-unseen-CFD(16,adam)-CFD(16,adam)-meta-similar(200)-D=5000-T(25,25)-lr(0.3,0.3)-seed(0,1)-drop(0.3,0.3).png',\n",
       " 'case-1/AUROC-CFD(16,adam)-CFD(16,adam)-base-similar(200)-D=5000-T(25,25)-lr(0.3,0.3)-seed(0,1)-drop(0.3,0.3).png',\n",
       " 'case-1/accuracy-unseen-CFD(16,adam)-CFD(16,adam)-base-similar(200)-D=5000-T(25,25)-lr(0.3,0.3)-seed(0,1)-drop(0.3,0.3).png',\n",
       " 'case-1/accuracy-CFD(16,adam)-CFD(16,adam)-base-similar(200)-D=5000-T(25,25)-lr(0.3,0.3)-seed(0,1)-drop(0.3,0.3).png',\n",
       " 'case-1/losses-unseen-CFD(16,adam)-CFD(16,adam)-base-similar(200)-D=5000-T(25,25)-lr(0.3,0.3)-seed(0,1)-drop(0.3,0.3).png',\n",
       " 'case-1/AUROC-unseen-CFD(16,adam)-CFD(16,adam)-base-similar(200)-D=5000-T(25,25)-lr(0.3,0.3)-seed(0,1)-drop(0.3,0.3).png',\n",
       " 'case-1/losses-CFD(16,adam)-CFD(16,adam)-meta-similar(200)-D=5000-T(25,25)-lr(0.3,0.3)-seed(0,1)-drop(0.3,0.3).png']"
      ]
     },
     "execution_count": 13,
     "metadata": {},
     "output_type": "execute_result"
    }
   ],
   "source": [
    "glob('case-1/*')"
   ]
  },
  {
   "cell_type": "code",
   "execution_count": 33,
   "metadata": {},
   "outputs": [
    {
     "data": {
      "text/plain": [
       "'case-12/'"
      ]
     },
     "execution_count": 33,
     "metadata": {},
     "output_type": "execute_result"
    }
   ],
   "source": [
    "folder"
   ]
  },
  {
   "cell_type": "code",
   "execution_count": 37,
   "metadata": {},
   "outputs": [
    {
     "data": {
      "text/plain": [
       "['case-12/losses-CFD(64,sgd)-CFD(64,sgd)-base-similar(943)-D=10000-T(150,150)-lr(1000,1000)-seed(0,25)-drop(0.3,0.3).png',\n",
       " 'case-12/losses-CFD(64,sgd)-CFD(64,sgd)-meta-similar(943)-D=10000-T(150,150)-lr(1000,1000)-seed(0,25)-drop(0.3,0.3).png',\n",
       " 'case-12/accuracy-CFD(64,sgd)-CFD(64,sgd)-meta-similar(943)-D=10000-T(150,150)-lr(1000,1000)-seed(0,25)-drop(0.3,0.3).png',\n",
       " 'case-12/accuracy-CFD(64,sgd)-CFD(64,sgd)-base-similar(943)-D=10000-T(150,150)-lr(1000,1000)-seed(0,25)-drop(0.3,0.3).png',\n",
       " 'case-12/losses-unseen-CFD(64,sgd)-CFD(64,sgd)-meta-similar(943)-D=10000-T(150,150)-lr(1000,1000)-seed(0,25)-drop(0.3,0.3).png',\n",
       " 'case-12/AUROC-CFD(64,sgd)-CFD(64,sgd)-base-similar(943)-D=10000-T(150,150)-lr(1000,1000)-seed(0,25)-drop(0.3,0.3).png',\n",
       " 'case-12/losses-unseen-CFD(64,sgd)-CFD(64,sgd)-base-similar(943)-D=10000-T(150,150)-lr(1000,1000)-seed(0,25)-drop(0.3,0.3).png',\n",
       " 'case-12/AUROC-CFD(64,sgd)-CFD(64,sgd)-meta-similar(943)-D=10000-T(150,150)-lr(1000,1000)-seed(0,25)-drop(0.3,0.3).png',\n",
       " 'case-12/AUROC-unseen-CFD(64,sgd)-CFD(64,sgd)-base-similar(943)-D=10000-T(150,150)-lr(1000,1000)-seed(0,25)-drop(0.3,0.3).png',\n",
       " 'case-12/AUROC-unseen-CFD(64,sgd)-CFD(64,sgd)-meta-similar(943)-D=10000-T(150,150)-lr(1000,1000)-seed(0,25)-drop(0.3,0.3).png',\n",
       " 'case-12/accuracy-unseen-CFD(64,sgd)-CFD(64,sgd)-base-similar(943)-D=10000-T(150,150)-lr(1000,1000)-seed(0,25)-drop(0.3,0.3).png',\n",
       " 'case-12/accuracy-unseen-CFD(64,sgd)-CFD(64,sgd)-meta-similar(943)-D=10000-T(150,150)-lr(1000,1000)-seed(0,25)-drop(0.3,0.3).png']"
      ]
     },
     "execution_count": 37,
     "metadata": {},
     "output_type": "execute_result"
    }
   ],
   "source": [
    "glob(folder + '*')"
   ]
  }
 ],
 "metadata": {
  "interpreter": {
   "hash": "31f2aee4e71d21fbe5cf8b01ff0e069b9275f58929596ceb00d14d90e3e16cd6"
  },
  "kernelspec": {
   "display_name": "Python 3.8.10 64-bit",
   "language": "python",
   "name": "python3"
  },
  "language_info": {
   "codemirror_mode": {
    "name": "ipython",
    "version": 3
   },
   "file_extension": ".py",
   "mimetype": "text/x-python",
   "name": "python",
   "nbconvert_exporter": "python",
   "pygments_lexer": "ipython3",
   "version": "3.8.9"
  },
  "orig_nbformat": 4
 },
 "nbformat": 4,
 "nbformat_minor": 2
}
