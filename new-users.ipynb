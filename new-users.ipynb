{
 "cells": [
  {
   "cell_type": "markdown",
   "metadata": {},
   "source": [
    "#### **Library imports**"
   ]
  },
  {
   "cell_type": "code",
   "execution_count": 95,
   "metadata": {},
   "outputs": [],
   "source": [
    "# Library imports\n",
    "import pyforest\n",
    "import numpy as np\n",
    "import pandas as pd\n",
    "import os\n",
    "from matplotlib import pyplot as plt\n",
    "from tqdm import tqdm\n",
    "from pprint import pprint\n",
    "from time import sleep\n",
    "import time\n",
    "import seaborn as sns\n",
    "from sklearn.metrics import roc_auc_score\n",
    "\n",
    "from turtle import forward\n",
    "import torch.nn as nn\n",
    "import torch.nn.functional as F\n",
    "import math\n",
    "import torch\n",
    "from torch.nn.parameter import Parameter\n",
    "from torch.nn.modules.module import Module\n",
    "from torch.utils.data import DataLoader, TensorDataset\n",
    "\n",
    "import models \n",
    "from models import get_accuracy\n",
    "import inspect"
   ]
  },
  {
   "cell_type": "markdown",
   "metadata": {},
   "source": [
    "#### **Load dataset**"
   ]
  },
  {
   "cell_type": "code",
   "execution_count": 96,
   "metadata": {},
   "outputs": [
    {
     "data": {
      "text/plain": [
       "(993, 1682, 243719, 40381)"
      ]
     },
     "execution_count": 96,
     "metadata": {},
     "output_type": "execute_result"
    }
   ],
   "source": [
    "dataset = 'movielens'\n",
    "n_users = 943\n",
    "n_items = 1682\n",
    "n_new_users = 50\n",
    "\n",
    "# load original training edges\n",
    "train_edges = np.load('data/' + dataset + '/train_edges.npy')\n",
    "test_edges = np.load('data/' + dataset + '/test_edges.npy')\n",
    "\n",
    "# create list of new edges\n",
    "new_users_edges = []\n",
    "for u in range(n_users, n_users + n_new_users):\n",
    "    for i in range(n_items):\n",
    "        new_users_edges.append([u, i, 0])\n",
    "\n",
    "# shuffle the new user edges so that it's not in any particular order\n",
    "new_users_edges = np.array(new_users_edges)\n",
    "np.random.seed(0)\n",
    "np.random.shuffle(new_users_edges)\n",
    "\n",
    "# concatenate with original training edges\n",
    "train_edges = np.concatenate((train_edges, new_users_edges))\n",
    "np.random.seed(0)\n",
    "np.random.shuffle(train_edges)\n",
    "\n",
    "# proceed with creating users, items and ratings as usual\n",
    "user_list_train = train_edges[:, 0]\n",
    "user_list_test = test_edges[:, 0]\n",
    "item_list_train = train_edges[:, 1]\n",
    "item_list_test = test_edges[:, 1]\n",
    "rating_list_train = train_edges[:, 2].astype('float32')\n",
    "rating_list_test = test_edges[:, 2].astype('float32')\n",
    "\n",
    "# compute new n_users, n_items and n_samples\n",
    "n_users = max(user_list_train.max(), user_list_test.max()) + 1 \n",
    "n_items = max(item_list_train.max(), item_list_test.max()) + 1\n",
    "n_samples_train = len(rating_list_train)\n",
    "n_samples_test = len(rating_list_test)\n",
    "\n",
    "n_users, n_items, n_samples_train, n_samples_test"
   ]
  },
  {
   "cell_type": "markdown",
   "metadata": {},
   "source": [
    "#### **Code for surrogate attack using new users**"
   ]
  },
  {
   "cell_type": "code",
   "execution_count": 127,
   "metadata": {},
   "outputs": [
    {
     "name": "stdout",
     "output_type": "stream",
     "text": [
      "-> Algorithm:  meta-new\n",
      "\n",
      "-> T (surrogate):  25\n",
      "-> T (target):  25\n",
      "-> Delta: 5000 (2.05%)\n",
      "-> Embedding size (surrogate):  8\n",
      "-> Embedding size (target):  8\n",
      "-> Device:  cuda:6\n",
      "\n",
      "-> Surrogate:  CFD\n",
      "-> Target:  CFD\n",
      "-> Surrogate optimizer:  adam\n",
      "-> Target optimizer:  adam\n",
      "-> Surrogate learning rate:  0.3\n",
      "-> Target learning rate:  0.3\n",
      "-> Surrogate seed:  0\n",
      "-> Target seed:  3\n",
      "\n",
      "-> Retain graph:  True\n",
      "-> Create graph:  False\n",
      "-> Save results:  True\n"
     ]
    },
    {
     "name": "stderr",
     "output_type": "stream",
     "text": [
      "-> Perturbations:   8%|▊         | 410/5000 [03:28<35:15,  2.17it/s]"
     ]
    }
   ],
   "source": [
    "# model settings\n",
    "algorithm = 'meta-new'\n",
    "surrogate = 'CFD'\n",
    "target = 'CFD'\n",
    "opt_surrogate = 'adam'\n",
    "opt_target = 'adam'\n",
    "lr_surrogate = 0.3\n",
    "lr_target = 0.3\n",
    "seed_surrogate = 0\n",
    "seed_target = 3\n",
    "dropout_surrogate = 0.3\n",
    "dropout_target = 0.3\n",
    "\n",
    "# start execution\n",
    "start_time = time.time()\n",
    "\n",
    "# GPU settings (set use_gpu = -1 if you want to use CPU)\n",
    "use_gpu = 6\n",
    "if use_gpu == -1:\n",
    "    device = 'cpu'\n",
    "else:\n",
    "    device = torch.device('cuda:{}'.format(str(use_gpu)) if torch.cuda.is_available() else 'cpu')\n",
    "\n",
    "# some hyperparameters\n",
    "T_surrogate = 25\n",
    "T_target = 25\n",
    "Delta = 5000 # 5% ~ 10K perturbations for movielens\n",
    "n_factors_surrogate = 8\n",
    "n_factors_target = 8\n",
    "save_results = True\n",
    "retain_graph = True \n",
    "create_graph = False\n",
    "\n",
    "if Delta < 100:\n",
    "    save_results = False\n",
    "\n",
    "# initialize list of perturbations\n",
    "perturbations = dict()\n",
    "perturbations['edges'] = []\n",
    "perturbations['metagrad'] = []\n",
    "\n",
    "perturbations['accuracy-before-surrogate'] = []\n",
    "perturbations['accuracy-after-surrogate'] = []\n",
    "perturbations['accuracy-unseen-surrogate'] = []\n",
    "\n",
    "perturbations['loss-before-surrogate'] = []\n",
    "perturbations['loss-after-surrogate'] = []\n",
    "perturbations['loss-unseen-surrogate'] = []\n",
    "\n",
    "perturbations['accuracy-before-target'] = []\n",
    "perturbations['accuracy-after-target'] = []\n",
    "perturbations['accuracy-unseen-target'] = []\n",
    "\n",
    "perturbations['loss-before-target'] = []\n",
    "perturbations['loss-after-target'] = []\n",
    "perturbations['loss-unseen-target'] = []\n",
    "\n",
    "perturbations['auc-before-surrogate'] = []\n",
    "perturbations['auc-after-surrogate'] = []\n",
    "perturbations['auc-unseen-surrogate'] = []\n",
    "\n",
    "perturbations['auc-before-target'] = []\n",
    "perturbations['auc-after-target'] = []\n",
    "perturbations['auc-unseen-target'] = []\n",
    "\n",
    "# print hyperparam configuration\n",
    "print('-> Algorithm: ', algorithm)\n",
    "print()\n",
    "print('-> T (surrogate): ', T_surrogate)\n",
    "print('-> T (target): ', T_target)\n",
    "print('-> Delta: {} ({}%)'.format(Delta, round(Delta * 100 / n_samples_train, 2)))\n",
    "print('-> Embedding size (surrogate): ', n_factors_surrogate)\n",
    "print('-> Embedding size (target): ', n_factors_target)\n",
    "print('-> Device: ', device)\n",
    "print()\n",
    "print('-> Surrogate: ', surrogate)\n",
    "print('-> Target: ', target)\n",
    "print('-> Surrogate optimizer: ', opt_surrogate)\n",
    "print('-> Target optimizer: ', opt_target)\n",
    "print('-> Surrogate learning rate: ', lr_surrogate)\n",
    "print('-> Target learning rate: ', lr_target)\n",
    "print('-> Surrogate seed: ', seed_surrogate)\n",
    "print('-> Target seed: ', seed_target)\n",
    "print()\n",
    "print('-> Retain graph: ', retain_graph)\n",
    "print('-> Create graph: ', create_graph)\n",
    "print('-> Save results: ', save_results)\n",
    "\n",
    "# load users, items and ratings as tensors\n",
    "users = torch.tensor(user_list_train, device = device)\n",
    "items = torch.tensor(item_list_train, device = device)\n",
    "ratings = torch.tensor(rating_list_train, device = device, requires_grad = True)\n",
    "\n",
    "# only those edges are allowed to be perturbed whose mask entry is False\n",
    "mask = torch.ones_like(ratings).bool()\n",
    "mask[users >= 943] = False\n",
    "\n",
    "# perturbs keeps track of perturbed edges by marking them as False\n",
    "perturbs = torch.ones_like(ratings).bool()\n",
    "\n",
    "# generate tensors out of validation data\n",
    "users_test = torch.tensor(user_list_test, device = device)\n",
    "items_test = torch.tensor(item_list_test, device = device)\n",
    "ratings_test = torch.tensor(rating_list_test, device = device)\n",
    "\n",
    "# sample random negative edges to perturb for baseline\n",
    "if 'base' in algorithm:\n",
    "    edges = mask.int().detach().to('cpu').numpy()\n",
    "    neg_edges = np.where(edges == 0)[0]\n",
    "    np.random.seed(0)\n",
    "    edges_to_perturb = np.random.choice(neg_edges, size=Delta, replace = False) # sample Delta edges randomly and perturb one by one inside loop \n",
    "\n",
    "# for each perturbation do the following\n",
    "for delta in tqdm(range(Delta), desc='-> Perturbations'):\n",
    "\n",
    "    # define surrogate model and it's parameters\n",
    "    torch.manual_seed(seed_surrogate)\n",
    "    model = getattr(models, surrogate)(n_users, n_items, n_factors_surrogate, dropout_surrogate).to(device)\n",
    "\n",
    "    # define optimizer and loss function\n",
    "    if 'adam' in opt_surrogate:\n",
    "        optimizer = torch.optim.Adam(model.parameters(), lr = lr_surrogate)\n",
    "    else:\n",
    "        optimizer = torch.optim.SGD(model.parameters(), lr = lr_surrogate)\n",
    "    loss_fn = nn.BCELoss(reduction = 'mean')\n",
    "\n",
    "    # inner loop training process\n",
    "    model.train()\n",
    "    for i in range(T_surrogate):\n",
    "        y_hat = model(users, items).reshape(ratings.shape)\n",
    "        loss = loss_fn(y_hat, ratings)\n",
    "        optimizer.zero_grad()\n",
    "        loss.backward(retain_graph=retain_graph, create_graph=create_graph)\n",
    "        optimizer.step()\n",
    "    model.eval()\n",
    "\n",
    "    # compute and store accuracy of model after T training steps\n",
    "    with torch.no_grad():\n",
    "        # training accuracy and loss including perturbed edges\n",
    "        y_hat = model(users, items).reshape(ratings.shape)\n",
    "        perturbations['accuracy-before-surrogate'].append(get_accuracy(y_hat, ratings))\n",
    "        perturbations['loss-before-surrogate'].append(loss_fn(y_hat, ratings).item())\n",
    "\n",
    "        # compute training AUROC including perturbed edges\n",
    "        y_pred = y_hat.detach().clone().to('cpu').numpy()\n",
    "        y_actual = ratings.detach().clone().to('cpu').numpy() \n",
    "        perturbations['auc-before-surrogate'].append(roc_auc_score(y_actual, y_pred))\n",
    "\n",
    "        # training accuracy and loss excluding perturbed edges\n",
    "        y_hat_masked = torch.masked_select(y_hat, perturbs)\n",
    "        ratings_masked = torch.masked_select(ratings, perturbs)\n",
    "        perturbations['accuracy-after-surrogate'].append(get_accuracy(y_hat_masked, ratings_masked))\n",
    "        perturbations['loss-after-surrogate'].append(loss_fn(y_hat_masked, ratings_masked).item())\n",
    "\n",
    "        # compute training AUROC excluding perturbed edges\n",
    "        y_pred = y_hat_masked.detach().clone().to('cpu').numpy()\n",
    "        y_actual = ratings_masked.detach().clone().to('cpu').numpy()\n",
    "        perturbations['auc-after-surrogate'].append(roc_auc_score(y_actual, y_pred))\n",
    "\n",
    "    # compute and store accuracy of surrogate model on unseen data\n",
    "    with torch.no_grad():\n",
    "        y_hat = model(users_test, items_test).reshape(ratings_test.shape)\n",
    "        perturbations['accuracy-unseen-surrogate'].append(get_accuracy(y_hat, ratings_test))\n",
    "        perturbations['loss-unseen-surrogate'].append(loss_fn(y_hat, ratings_test).item())\n",
    "\n",
    "        # compute unseen AUROC\n",
    "        y_pred = y_hat.detach().clone().to('cpu').numpy()\n",
    "        y_actual = ratings_test.detach().clone().to('cpu').numpy()\n",
    "        perturbations['auc-unseen-surrogate'].append(roc_auc_score(y_actual, y_pred))\n",
    "\n",
    "    # compute meta gradient\n",
    "    if 'meta' in algorithm:\n",
    "        meta_grad = torch.autograd.grad(loss, ratings)[0]\n",
    "\n",
    "    # define evaluation model\n",
    "    torch.manual_seed(seed_target)\n",
    "    eval_model = getattr(models, target)(n_users, n_items, n_factors_target, dropout_target).to(device)\n",
    "\n",
    "    # define optimizer and loss function for evaluation\n",
    "    if 'adam' in opt_target:\n",
    "        optimizer_eval = torch.optim.Adam(eval_model.parameters(), lr = lr_target)\n",
    "    else:\n",
    "        optimizer_eval = torch.optim.SGD(eval_model.parameters(), lr = lr_target)\n",
    "    loss_fn_eval = nn.BCELoss(reduction = 'mean')\n",
    "\n",
    "    # detach ratings and perturbs for eval model\n",
    "    ratings_eval = ratings.detach().clone()\n",
    "    perturbs_eval = perturbs.detach().clone()\n",
    "\n",
    "    # inner train  evaluation model\n",
    "    eval_model.train()\n",
    "    for i in range(T_target):\n",
    "        y_hat = eval_model(users, items).reshape(ratings_eval.shape)\n",
    "        loss_eval = loss_fn_eval(y_hat, ratings_eval)\n",
    "        optimizer_eval.zero_grad()\n",
    "        loss_eval.backward(retain_graph=retain_graph, create_graph=create_graph)\n",
    "        optimizer_eval.step()\n",
    "    eval_model.eval()\n",
    "\n",
    "    # compute and store accuracy of eval model after T training steps\n",
    "    with torch.no_grad():\n",
    "        # training accuracy and loss including perturbed edges\n",
    "        y_hat = eval_model(users, items).reshape(ratings_eval.shape)\n",
    "        perturbations['accuracy-before-target'].append(get_accuracy(y_hat, ratings_eval))\n",
    "        perturbations['loss-before-target'].append(loss_fn_eval(y_hat, ratings_eval).item())\n",
    "\n",
    "        # compute training AUROC including perturbed edges\n",
    "        y_pred = y_hat.detach().clone().to('cpu').numpy()\n",
    "        y_actual = ratings_eval.detach().clone().to('cpu').numpy() \n",
    "        perturbations['auc-before-target'].append(roc_auc_score(y_actual, y_pred))\n",
    "\n",
    "        # training accuracy and loss excluding perturbed edges\n",
    "        y_hat_masked = torch.masked_select(y_hat, perturbs_eval)\n",
    "        ratings_masked = torch.masked_select(ratings_eval, perturbs_eval)\n",
    "        perturbations['accuracy-after-target'].append(get_accuracy(y_hat_masked, ratings_masked))\n",
    "        perturbations['loss-after-target'].append(loss_fn_eval(y_hat_masked, ratings_masked).item())\n",
    "\n",
    "        # compute training AUROC excluding perturbed edges\n",
    "        y_pred = y_hat_masked.detach().clone().to('cpu').numpy()\n",
    "        y_actual = ratings_masked.detach().clone().to('cpu').numpy()\n",
    "        perturbations['auc-after-target'].append(roc_auc_score(y_actual, y_pred))\n",
    "\n",
    "    # compute and store accuracy of target model on unseen data\n",
    "    with torch.no_grad():\n",
    "        y_hat = eval_model(users_test, items_test).reshape(ratings_test.shape)\n",
    "        perturbations['accuracy-unseen-target'].append(get_accuracy(y_hat, ratings_test))\n",
    "        perturbations['loss-unseen-target'].append(loss_fn(y_hat, ratings_test).item())\n",
    "\n",
    "        # compute unseen AUROC\n",
    "        y_pred = y_hat.detach().clone().to('cpu').numpy()\n",
    "        y_actual = ratings_test.detach().clone().to('cpu').numpy()\n",
    "        perturbations['auc-unseen-target'].append(roc_auc_score(y_actual, y_pred))\n",
    "\n",
    "    # select best edge and perform perturbation\n",
    "    with torch.no_grad():\n",
    "        if 'meta' in algorithm:\n",
    "            meta_grad[mask == True] = 0\n",
    "            best_edge = meta_grad.argmax().item()\n",
    "            \n",
    "            if mask[best_edge] == False:\n",
    "                ratings[best_edge] = 1\n",
    "                perturbs[best_edge] = False\n",
    "                mask[best_edge] = True\n",
    "            else:\n",
    "                print('Perturbation #{}: No more edges left to perturb'.format(delta))\n",
    "\n",
    "            perturbations['edges'].append(best_edge)\n",
    "            perturbations['metagrad'].append(meta_grad[best_edge].item())\n",
    "\n",
    "        else:\n",
    "            best_edge = edges_to_perturb[delta]\n",
    "            ratings[best_edge] = 1 \n",
    "            perturbs[best_edge] = False\n",
    "            mask[best_edge] = True\n",
    "\n",
    "            perturbations['edges'].append(best_edge)\n",
    "            perturbations['metagrad'].append(-1)\n",
    "\n",
    "sleep(1)\n",
    "# compute execution time\n",
    "exec_time = int(time.time() - start_time)\n",
    "exec_time = time.strftime(\"%Hh %Mm %Ss\", time.gmtime(exec_time))\n",
    "print('-> Execution time: {}'.format(exec_time))\n",
    "\n",
    "# process results\n",
    "perturbations = pd.DataFrame(perturbations)\n",
    "filename = '{}({},{})-{}({},{})-{}-D={}-T({},{})-lr({},{})-seed({},{})-drop({},{})'.format(surrogate, n_factors_surrogate, opt_surrogate, target, n_factors_target, opt_target, algorithm, Delta, T_surrogate, T_target, lr_surrogate, lr_target, seed_surrogate, seed_target, dropout_surrogate, dropout_target)\n",
    "print('-> File name: {}'.format(filename))\n",
    "if save_results:\n",
    "    perturbations.to_csv('results/' + dataset + '/' + filename + '.csv')\n"
   ]
  },
  {
   "cell_type": "code",
   "execution_count": 120,
   "metadata": {},
   "outputs": [
    {
     "data": {
      "text/html": [
       "<div>\n",
       "<style scoped>\n",
       "    .dataframe tbody tr th:only-of-type {\n",
       "        vertical-align: middle;\n",
       "    }\n",
       "\n",
       "    .dataframe tbody tr th {\n",
       "        vertical-align: top;\n",
       "    }\n",
       "\n",
       "    .dataframe thead th {\n",
       "        text-align: right;\n",
       "    }\n",
       "</style>\n",
       "<table border=\"1\" class=\"dataframe\">\n",
       "  <thead>\n",
       "    <tr style=\"text-align: right;\">\n",
       "      <th></th>\n",
       "      <th>edges</th>\n",
       "      <th>metagrad</th>\n",
       "      <th>accuracy-before-surrogate</th>\n",
       "      <th>accuracy-after-surrogate</th>\n",
       "      <th>accuracy-unseen-surrogate</th>\n",
       "      <th>loss-before-surrogate</th>\n",
       "      <th>loss-after-surrogate</th>\n",
       "      <th>loss-unseen-surrogate</th>\n",
       "      <th>accuracy-before-target</th>\n",
       "      <th>accuracy-after-target</th>\n",
       "      <th>accuracy-unseen-target</th>\n",
       "      <th>loss-before-target</th>\n",
       "      <th>loss-after-target</th>\n",
       "      <th>loss-unseen-target</th>\n",
       "      <th>auc-before-surrogate</th>\n",
       "      <th>auc-after-surrogate</th>\n",
       "      <th>auc-unseen-surrogate</th>\n",
       "      <th>auc-before-target</th>\n",
       "      <th>auc-after-target</th>\n",
       "      <th>auc-unseen-target</th>\n",
       "    </tr>\n",
       "  </thead>\n",
       "  <tbody>\n",
       "    <tr>\n",
       "      <th>0</th>\n",
       "      <td>227870</td>\n",
       "      <td>0.000323</td>\n",
       "      <td>0.871774</td>\n",
       "      <td>0.871774</td>\n",
       "      <td>0.759516</td>\n",
       "      <td>0.276180</td>\n",
       "      <td>0.276180</td>\n",
       "      <td>0.492364</td>\n",
       "      <td>0.870810</td>\n",
       "      <td>0.870810</td>\n",
       "      <td>0.753151</td>\n",
       "      <td>0.278706</td>\n",
       "      <td>0.278706</td>\n",
       "      <td>0.507470</td>\n",
       "      <td>0.945497</td>\n",
       "      <td>0.945497</td>\n",
       "      <td>0.846032</td>\n",
       "      <td>0.944665</td>\n",
       "      <td>0.944665</td>\n",
       "      <td>0.839982</td>\n",
       "    </tr>\n",
       "    <tr>\n",
       "      <th>1</th>\n",
       "      <td>2803</td>\n",
       "      <td>0.000321</td>\n",
       "      <td>0.871783</td>\n",
       "      <td>0.871786</td>\n",
       "      <td>0.759491</td>\n",
       "      <td>0.276305</td>\n",
       "      <td>0.276177</td>\n",
       "      <td>0.492368</td>\n",
       "      <td>0.870818</td>\n",
       "      <td>0.870822</td>\n",
       "      <td>0.753127</td>\n",
       "      <td>0.278773</td>\n",
       "      <td>0.278705</td>\n",
       "      <td>0.507474</td>\n",
       "      <td>0.945487</td>\n",
       "      <td>0.945499</td>\n",
       "      <td>0.846031</td>\n",
       "      <td>0.944657</td>\n",
       "      <td>0.944666</td>\n",
       "      <td>0.839971</td>\n",
       "    </tr>\n",
       "    <tr>\n",
       "      <th>2</th>\n",
       "      <td>73856</td>\n",
       "      <td>0.000305</td>\n",
       "      <td>0.871783</td>\n",
       "      <td>0.871790</td>\n",
       "      <td>0.759491</td>\n",
       "      <td>0.276414</td>\n",
       "      <td>0.276183</td>\n",
       "      <td>0.492327</td>\n",
       "      <td>0.870831</td>\n",
       "      <td>0.870838</td>\n",
       "      <td>0.753151</td>\n",
       "      <td>0.278800</td>\n",
       "      <td>0.278689</td>\n",
       "      <td>0.507412</td>\n",
       "      <td>0.945473</td>\n",
       "      <td>0.945496</td>\n",
       "      <td>0.846040</td>\n",
       "      <td>0.944656</td>\n",
       "      <td>0.944673</td>\n",
       "      <td>0.839975</td>\n",
       "    </tr>\n",
       "    <tr>\n",
       "      <th>3</th>\n",
       "      <td>76868</td>\n",
       "      <td>0.000291</td>\n",
       "      <td>0.871795</td>\n",
       "      <td>0.871806</td>\n",
       "      <td>0.759516</td>\n",
       "      <td>0.276535</td>\n",
       "      <td>0.276187</td>\n",
       "      <td>0.492343</td>\n",
       "      <td>0.870835</td>\n",
       "      <td>0.870846</td>\n",
       "      <td>0.752978</td>\n",
       "      <td>0.278887</td>\n",
       "      <td>0.278681</td>\n",
       "      <td>0.507407</td>\n",
       "      <td>0.945461</td>\n",
       "      <td>0.945495</td>\n",
       "      <td>0.846030</td>\n",
       "      <td>0.944651</td>\n",
       "      <td>0.944677</td>\n",
       "      <td>0.839972</td>\n",
       "    </tr>\n",
       "    <tr>\n",
       "      <th>4</th>\n",
       "      <td>18745</td>\n",
       "      <td>0.000290</td>\n",
       "      <td>0.871787</td>\n",
       "      <td>0.871801</td>\n",
       "      <td>0.759565</td>\n",
       "      <td>0.276637</td>\n",
       "      <td>0.276186</td>\n",
       "      <td>0.492249</td>\n",
       "      <td>0.870839</td>\n",
       "      <td>0.870853</td>\n",
       "      <td>0.752978</td>\n",
       "      <td>0.278981</td>\n",
       "      <td>0.278682</td>\n",
       "      <td>0.507334</td>\n",
       "      <td>0.945451</td>\n",
       "      <td>0.945496</td>\n",
       "      <td>0.846040</td>\n",
       "      <td>0.944641</td>\n",
       "      <td>0.944678</td>\n",
       "      <td>0.839968</td>\n",
       "    </tr>\n",
       "    <tr>\n",
       "      <th>5</th>\n",
       "      <td>201211</td>\n",
       "      <td>0.000286</td>\n",
       "      <td>0.871791</td>\n",
       "      <td>0.871809</td>\n",
       "      <td>0.759615</td>\n",
       "      <td>0.276752</td>\n",
       "      <td>0.276178</td>\n",
       "      <td>0.492256</td>\n",
       "      <td>0.870822</td>\n",
       "      <td>0.870840</td>\n",
       "      <td>0.753003</td>\n",
       "      <td>0.279039</td>\n",
       "      <td>0.278671</td>\n",
       "      <td>0.507329</td>\n",
       "      <td>0.945442</td>\n",
       "      <td>0.945498</td>\n",
       "      <td>0.846035</td>\n",
       "      <td>0.944638</td>\n",
       "      <td>0.944683</td>\n",
       "      <td>0.839968</td>\n",
       "    </tr>\n",
       "    <tr>\n",
       "      <th>6</th>\n",
       "      <td>183264</td>\n",
       "      <td>0.000285</td>\n",
       "      <td>0.871803</td>\n",
       "      <td>0.871825</td>\n",
       "      <td>0.759590</td>\n",
       "      <td>0.276831</td>\n",
       "      <td>0.276171</td>\n",
       "      <td>0.492247</td>\n",
       "      <td>0.870843</td>\n",
       "      <td>0.870865</td>\n",
       "      <td>0.753077</td>\n",
       "      <td>0.279094</td>\n",
       "      <td>0.278672</td>\n",
       "      <td>0.507335</td>\n",
       "      <td>0.945437</td>\n",
       "      <td>0.945503</td>\n",
       "      <td>0.846045</td>\n",
       "      <td>0.944630</td>\n",
       "      <td>0.944684</td>\n",
       "      <td>0.839969</td>\n",
       "    </tr>\n",
       "    <tr>\n",
       "      <th>7</th>\n",
       "      <td>234858</td>\n",
       "      <td>0.000284</td>\n",
       "      <td>0.871811</td>\n",
       "      <td>0.871836</td>\n",
       "      <td>0.759540</td>\n",
       "      <td>0.276929</td>\n",
       "      <td>0.276167</td>\n",
       "      <td>0.492248</td>\n",
       "      <td>0.870843</td>\n",
       "      <td>0.870868</td>\n",
       "      <td>0.752978</td>\n",
       "      <td>0.279199</td>\n",
       "      <td>0.278674</td>\n",
       "      <td>0.507335</td>\n",
       "      <td>0.945428</td>\n",
       "      <td>0.945505</td>\n",
       "      <td>0.846049</td>\n",
       "      <td>0.944619</td>\n",
       "      <td>0.944683</td>\n",
       "      <td>0.839970</td>\n",
       "    </tr>\n",
       "    <tr>\n",
       "      <th>8</th>\n",
       "      <td>54525</td>\n",
       "      <td>0.000283</td>\n",
       "      <td>0.871799</td>\n",
       "      <td>0.871828</td>\n",
       "      <td>0.759639</td>\n",
       "      <td>0.276987</td>\n",
       "      <td>0.276156</td>\n",
       "      <td>0.492192</td>\n",
       "      <td>0.870827</td>\n",
       "      <td>0.870855</td>\n",
       "      <td>0.753077</td>\n",
       "      <td>0.279248</td>\n",
       "      <td>0.278655</td>\n",
       "      <td>0.507251</td>\n",
       "      <td>0.945424</td>\n",
       "      <td>0.945510</td>\n",
       "      <td>0.846057</td>\n",
       "      <td>0.944620</td>\n",
       "      <td>0.944693</td>\n",
       "      <td>0.840000</td>\n",
       "    </tr>\n",
       "    <tr>\n",
       "      <th>9</th>\n",
       "      <td>112889</td>\n",
       "      <td>0.000282</td>\n",
       "      <td>0.871783</td>\n",
       "      <td>0.871815</td>\n",
       "      <td>0.759590</td>\n",
       "      <td>0.277066</td>\n",
       "      <td>0.276159</td>\n",
       "      <td>0.492168</td>\n",
       "      <td>0.870794</td>\n",
       "      <td>0.870826</td>\n",
       "      <td>0.753052</td>\n",
       "      <td>0.279282</td>\n",
       "      <td>0.278652</td>\n",
       "      <td>0.507229</td>\n",
       "      <td>0.945414</td>\n",
       "      <td>0.945509</td>\n",
       "      <td>0.846056</td>\n",
       "      <td>0.944614</td>\n",
       "      <td>0.944694</td>\n",
       "      <td>0.840003</td>\n",
       "    </tr>\n",
       "  </tbody>\n",
       "</table>\n",
       "</div>"
      ],
      "text/plain": [
       "    edges  metagrad  ...  auc-after-target  auc-unseen-target\n",
       "0  227870  0.000323  ...          0.944665           0.839982\n",
       "1    2803  0.000321  ...          0.944666           0.839971\n",
       "2   73856  0.000305  ...          0.944673           0.839975\n",
       "3   76868  0.000291  ...          0.944677           0.839972\n",
       "4   18745  0.000290  ...          0.944678           0.839968\n",
       "5  201211  0.000286  ...          0.944683           0.839968\n",
       "6  183264  0.000285  ...          0.944684           0.839969\n",
       "7  234858  0.000284  ...          0.944683           0.839970\n",
       "8   54525  0.000283  ...          0.944693           0.840000\n",
       "9  112889  0.000282  ...          0.944694           0.840003\n",
       "\n",
       "[10 rows x 20 columns]"
      ]
     },
     "execution_count": 120,
     "metadata": {},
     "output_type": "execute_result"
    }
   ],
   "source": [
    "perturbations"
   ]
  },
  {
   "cell_type": "code",
   "execution_count": 122,
   "metadata": {},
   "outputs": [
    {
     "data": {
      "text/plain": [
       "array([ 979, 1634,    0])"
      ]
     },
     "execution_count": 122,
     "metadata": {},
     "output_type": "execute_result"
    }
   ],
   "source": [
    "train_edges[227870]"
   ]
  },
  {
   "cell_type": "code",
   "execution_count": 125,
   "metadata": {},
   "outputs": [
    {
     "name": "stdout",
     "output_type": "stream",
     "text": [
      "edge #227870: [ 979 1634    0], 1.0\n",
      "edge #2803: [ 975 1353    0], 1.0\n",
      "edge #73856: [ 975 1485    0], 1.0\n",
      "edge #76868: [ 979 1499    0], 1.0\n",
      "edge #18745: [ 992 1623    0], 1.0\n",
      "edge #201211: [ 975 1553    0], 1.0\n",
      "edge #183264: [969 776   0], 1.0\n",
      "edge #234858: [ 950 1591    0], 1.0\n",
      "edge #54525: [ 975 1161    0], 1.0\n",
      "edge #112889: [ 983 1580    0], 1.0\n"
     ]
    }
   ],
   "source": [
    "for edge in perturbations.edges.unique():\n",
    "    print('edge #{}: {}, {}'.format(edge, train_edges[edge], ratings[edge]))\n",
    "# it seems all perturbed edges belong to new users only\n",
    "# so far so good"
   ]
  },
  {
   "cell_type": "code",
   "execution_count": 89,
   "metadata": {},
   "outputs": [
    {
     "data": {
      "text/plain": [
       "tensor([False, False,  True,  ..., False,  True, False], device='cuda:6')"
      ]
     },
     "execution_count": 89,
     "metadata": {},
     "output_type": "execute_result"
    }
   ],
   "source": [
    "mask"
   ]
  },
  {
   "cell_type": "code",
   "execution_count": 92,
   "metadata": {},
   "outputs": [
    {
     "data": {
      "text/plain": [
       "tensor([0, 0, 1,  ..., 0, 1, 0], device='cuda:6', dtype=torch.int32)"
      ]
     },
     "execution_count": 92,
     "metadata": {},
     "output_type": "execute_result"
    }
   ],
   "source": [
    "mask.int()"
   ]
  },
  {
   "cell_type": "code",
   "execution_count": 88,
   "metadata": {},
   "outputs": [
    {
     "data": {
      "text/plain": [
       "array([0, 0, 1, ..., 0, 1, 0], dtype=int32)"
      ]
     },
     "execution_count": 88,
     "metadata": {},
     "output_type": "execute_result"
    }
   ],
   "source": [
    "temp = mask.int().detach().to('cpu').numpy()\n",
    "temp"
   ]
  },
  {
   "cell_type": "code",
   "execution_count": 94,
   "metadata": {},
   "outputs": [
    {
     "data": {
      "text/plain": [
       "array([     0,      1,      5, ..., 243714, 243716, 243718])"
      ]
     },
     "execution_count": 94,
     "metadata": {},
     "output_type": "execute_result"
    }
   ],
   "source": [
    "np.where(temp == 0)[0]"
   ]
  },
  {
   "cell_type": "code",
   "execution_count": null,
   "metadata": {},
   "outputs": [],
   "source": []
  },
  {
   "cell_type": "code",
   "execution_count": null,
   "metadata": {},
   "outputs": [],
   "source": []
  },
  {
   "cell_type": "code",
   "execution_count": 60,
   "metadata": {},
   "outputs": [
    {
     "data": {
      "text/plain": [
       "tensor([948, 947, 393,  ..., 965, 455, 963], device='cuda:6')"
      ]
     },
     "execution_count": 60,
     "metadata": {},
     "output_type": "execute_result"
    }
   ],
   "source": [
    "users"
   ]
  },
  {
   "cell_type": "code",
   "execution_count": 61,
   "metadata": {},
   "outputs": [
    {
     "data": {
      "text/plain": [
       "tensor([0., 0., 1.,  ..., 0., 1., 0.], device='cuda:6', requires_grad=True)"
      ]
     },
     "execution_count": 61,
     "metadata": {},
     "output_type": "execute_result"
    }
   ],
   "source": [
    "ratings"
   ]
  },
  {
   "cell_type": "code",
   "execution_count": 63,
   "metadata": {},
   "outputs": [
    {
     "data": {
      "text/plain": [
       "tensor([False, False,  True,  ..., False,  True, False], device='cuda:6')"
      ]
     },
     "execution_count": 63,
     "metadata": {},
     "output_type": "execute_result"
    }
   ],
   "source": [
    "ratings == 1.0"
   ]
  },
  {
   "cell_type": "code",
   "execution_count": 64,
   "metadata": {},
   "outputs": [
    {
     "data": {
      "text/plain": [
       "tensor([0, 0, 1,  ..., 0, 1, 0], device='cuda:6', dtype=torch.int32)"
      ]
     },
     "execution_count": 64,
     "metadata": {},
     "output_type": "execute_result"
    }
   ],
   "source": [
    "ratings.int()"
   ]
  },
  {
   "cell_type": "code",
   "execution_count": 65,
   "metadata": {},
   "outputs": [
    {
     "data": {
      "text/plain": [
       "tensor([False, False,  True,  ..., False,  True, False], device='cuda:6')"
      ]
     },
     "execution_count": 65,
     "metadata": {},
     "output_type": "execute_result"
    }
   ],
   "source": [
    "ratings.bool()"
   ]
  },
  {
   "cell_type": "code",
   "execution_count": 66,
   "metadata": {},
   "outputs": [
    {
     "data": {
      "text/plain": [
       "tensor([948, 947, 393,  ..., 965, 455, 963], device='cuda:6')"
      ]
     },
     "execution_count": 66,
     "metadata": {},
     "output_type": "execute_result"
    }
   ],
   "source": [
    "users"
   ]
  },
  {
   "cell_type": "code",
   "execution_count": 70,
   "metadata": {},
   "outputs": [
    {
     "data": {
      "text/plain": [
       "tensor(159619, device='cuda:6')"
      ]
     },
     "execution_count": 70,
     "metadata": {},
     "output_type": "execute_result"
    }
   ],
   "source": [
    "(users <= 942).sum()"
   ]
  },
  {
   "cell_type": "code",
   "execution_count": 71,
   "metadata": {},
   "outputs": [
    {
     "data": {
      "text/plain": [
       "tensor([False, False,  True,  ..., False,  True, False], device='cuda:6')"
      ]
     },
     "execution_count": 71,
     "metadata": {},
     "output_type": "execute_result"
    }
   ],
   "source": [
    "users <= 942"
   ]
  },
  {
   "cell_type": "code",
   "execution_count": 73,
   "metadata": {},
   "outputs": [
    {
     "data": {
      "text/plain": [
       "tensor([0., 0., 1.,  ..., 0., 1., 0.], device='cuda:6', requires_grad=True)"
      ]
     },
     "execution_count": 73,
     "metadata": {},
     "output_type": "execute_result"
    }
   ],
   "source": [
    "ratings"
   ]
  },
  {
   "cell_type": "code",
   "execution_count": 78,
   "metadata": {},
   "outputs": [
    {
     "data": {
      "text/plain": [
       "tensor([False, False,  True,  ..., False,  True, False], device='cuda:6')"
      ]
     },
     "execution_count": 78,
     "metadata": {},
     "output_type": "execute_result"
    }
   ],
   "source": [
    "mask = torch.ones_like(ratings).bool()\n",
    "mask[users >= 943] = False\n",
    "mask"
   ]
  },
  {
   "cell_type": "code",
   "execution_count": 79,
   "metadata": {},
   "outputs": [
    {
     "data": {
      "text/plain": [
       "tensor([False, False,  True,  ..., False,  True, False], device='cuda:6')"
      ]
     },
     "execution_count": 79,
     "metadata": {},
     "output_type": "execute_result"
    }
   ],
   "source": [
    "mask == True"
   ]
  },
  {
   "cell_type": "code",
   "execution_count": 80,
   "metadata": {},
   "outputs": [
    {
     "data": {
      "text/plain": [
       "tensor([948, 947, 393,  ..., 965, 455, 963], device='cuda:6')"
      ]
     },
     "execution_count": 80,
     "metadata": {},
     "output_type": "execute_result"
    }
   ],
   "source": [
    "temp = users.clone()\n",
    "temp"
   ]
  },
  {
   "cell_type": "code",
   "execution_count": 83,
   "metadata": {},
   "outputs": [
    {
     "data": {
      "text/plain": [
       "tensor([ -1,  -1, 393,  ...,  -1, 455,  -1], device='cuda:6')"
      ]
     },
     "execution_count": 83,
     "metadata": {},
     "output_type": "execute_result"
    }
   ],
   "source": [
    "temp[mask == False] = -1\n",
    "temp"
   ]
  },
  {
   "cell_type": "code",
   "execution_count": 50,
   "metadata": {},
   "outputs": [
    {
     "data": {
      "application/javascript": "\n        if (window._pyforest_update_imports_cell) { window._pyforest_update_imports_cell('import torch\\nimport numpy as np'); }\n    ",
      "text/plain": [
       "<IPython.core.display.Javascript object>"
      ]
     },
     "metadata": {},
     "output_type": "display_data"
    },
    {
     "ename": "NameError",
     "evalue": "name 'device' is not defined",
     "output_type": "error",
     "traceback": [
      "\u001b[0;31m---------------------------------------------------------------------------\u001b[0m",
      "\u001b[0;31mNameError\u001b[0m                                 Traceback (most recent call last)",
      "\u001b[0;32m/tmp/ipykernel_2630916/4254167323.py\u001b[0m in \u001b[0;36m<module>\u001b[0;34m\u001b[0m\n\u001b[1;32m      1\u001b[0m \u001b[0;31m# load users, items and ratings as tensors\u001b[0m\u001b[0;34m\u001b[0m\u001b[0;34m\u001b[0m\u001b[0;34m\u001b[0m\u001b[0m\n\u001b[0;32m----> 2\u001b[0;31m \u001b[0musers\u001b[0m \u001b[0;34m=\u001b[0m \u001b[0mtorch\u001b[0m\u001b[0;34m.\u001b[0m\u001b[0mtensor\u001b[0m\u001b[0;34m(\u001b[0m\u001b[0muser_list_train\u001b[0m\u001b[0;34m,\u001b[0m \u001b[0mdevice\u001b[0m \u001b[0;34m=\u001b[0m \u001b[0mdevice\u001b[0m\u001b[0;34m)\u001b[0m\u001b[0;34m\u001b[0m\u001b[0;34m\u001b[0m\u001b[0m\n\u001b[0m\u001b[1;32m      3\u001b[0m \u001b[0mitems\u001b[0m \u001b[0;34m=\u001b[0m \u001b[0mtorch\u001b[0m\u001b[0;34m.\u001b[0m\u001b[0mtensor\u001b[0m\u001b[0;34m(\u001b[0m\u001b[0mitem_list_train\u001b[0m\u001b[0;34m,\u001b[0m \u001b[0mdevice\u001b[0m \u001b[0;34m=\u001b[0m \u001b[0mdevice\u001b[0m\u001b[0;34m)\u001b[0m\u001b[0;34m\u001b[0m\u001b[0;34m\u001b[0m\u001b[0m\n\u001b[1;32m      4\u001b[0m \u001b[0mratings\u001b[0m \u001b[0;34m=\u001b[0m \u001b[0mtorch\u001b[0m\u001b[0;34m.\u001b[0m\u001b[0mtensor\u001b[0m\u001b[0;34m(\u001b[0m\u001b[0mrating_list_train\u001b[0m\u001b[0;34m,\u001b[0m \u001b[0mdevice\u001b[0m \u001b[0;34m=\u001b[0m \u001b[0mdevice\u001b[0m\u001b[0;34m,\u001b[0m \u001b[0mrequires_grad\u001b[0m \u001b[0;34m=\u001b[0m \u001b[0;32mTrue\u001b[0m\u001b[0;34m)\u001b[0m\u001b[0;34m\u001b[0m\u001b[0;34m\u001b[0m\u001b[0m\n",
      "\u001b[0;31mNameError\u001b[0m: name 'device' is not defined"
     ]
    }
   ],
   "source": [
    "# load users, items and ratings as tensors\n",
    "users = torch.tensor(user_list_train, device = device)\n",
    "items = torch.tensor(item_list_train, device = device)\n",
    "ratings = torch.tensor(rating_list_train, device = device, requires_grad = True)"
   ]
  }
 ],
 "metadata": {
  "interpreter": {
   "hash": "6f38835821387ecea7238337192aa99e87ed1a9c9c1fa6562e207de7e0c31193"
  },
  "kernelspec": {
   "display_name": "Python 3.7.11 ('PyG': conda)",
   "language": "python",
   "name": "python3"
  },
  "language_info": {
   "codemirror_mode": {
    "name": "ipython",
    "version": 3
   },
   "file_extension": ".py",
   "mimetype": "text/x-python",
   "name": "python",
   "nbconvert_exporter": "python",
   "pygments_lexer": "ipython3",
   "version": "3.7.11"
  },
  "orig_nbformat": 4
 },
 "nbformat": 4,
 "nbformat_minor": 2
}
