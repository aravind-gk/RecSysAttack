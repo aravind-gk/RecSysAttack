{
 "cells": [
  {
   "cell_type": "markdown",
   "metadata": {},
   "source": [
    "#### **Library imports**"
   ]
  },
  {
   "cell_type": "code",
   "execution_count": 1,
   "metadata": {},
   "outputs": [],
   "source": [
    "# Library imports\n",
    "import pyforest\n",
    "import numpy as np\n",
    "import pandas as pd\n",
    "import os\n",
    "from matplotlib import pyplot as plt\n",
    "from tqdm import tqdm\n",
    "from pprint import pprint\n",
    "from time import sleep\n",
    "import time\n",
    "import seaborn as sns\n",
    "from sklearn.metrics import roc_auc_score\n",
    "\n",
    "from turtle import forward\n",
    "import torch.nn as nn\n",
    "import torch.nn.functional as F\n",
    "import math\n",
    "import torch\n",
    "from torch.nn.parameter import Parameter\n",
    "from torch.nn.modules.module import Module\n",
    "from torch.utils.data import DataLoader, TensorDataset\n",
    "\n",
    "import models \n",
    "from models import get_accuracy\n",
    "import inspect"
   ]
  },
  {
   "cell_type": "markdown",
   "metadata": {},
   "source": [
    "#### **Create similar users from training data**"
   ]
  },
  {
   "cell_type": "code",
   "execution_count": 70,
   "metadata": {},
   "outputs": [
    {
     "name": "stdout",
     "output_type": "stream",
     "text": [
      "chosen 200 similar users: [345 876 558 667 236 261 651 312  14 674  97 230 566  77  55 492 278 818\n",
      " 658 647 337  31 893 914 294 733 687 320 440 193 144 578 866 311 925 815\n",
      " 809 700 122 409 571 342 204 231 524  65 317 670 767 214 521 366 145 752\n",
      " 427 483 380 747 726 666 308 901 630 200 408 683 549 601 443 249 727 271\n",
      " 403 736  60 596 826 251 744 101 772 142 399 869 240 548 424 653 730   8\n",
      " 912 175 577 264 942 929 495 346 447 306  34 247 196 103 362 695 722 332\n",
      "  27 141  30 813 425 479 293 648 817 316 279 390 628 436 891 729 202 769\n",
      " 649 493 506 750 325 384 941 828 604 814 724 418 741 932 890 916 758 432\n",
      " 927 295   5 304 936 682 745 907 150 773 520 827 253 267 884 460 751 834\n",
      " 113 940  37 908 367 158 154  40 283 266 854 922 356 567 742 887 585 478\n",
      " 350 412 939  62  79 642 181 935 564 298 934 857 285   2 711 389 330 632\n",
      "  85 386]\n",
      "train edges shape:  (159619, 3)\n",
      "similar users train edges shape:  (31860, 3)\n",
      "new train edges shape:  (191479, 3)\n"
     ]
    },
    {
     "data": {
      "text/plain": [
       "(1143, 1682, 191479, 40381)"
      ]
     },
     "execution_count": 70,
     "metadata": {},
     "output_type": "execute_result"
    }
   ],
   "source": [
    "dataset = 'movielens'\n",
    "n_users = 943\n",
    "n_items = 1682\n",
    "n_similar_users = 200 # hyperparameter\n",
    "\n",
    "# load original training edges\n",
    "train_edges = np.load('data/' + dataset + '/train_edges.npy')\n",
    "test_edges = np.load('data/' + dataset + '/test_edges.npy')\n",
    "\n",
    "# create dicts of positive and negative edges for sampling later (only training edges, not test edges)\n",
    "positive_edges = dict()\n",
    "negative_edges = dict() \n",
    "\n",
    "for u in range(n_users):\n",
    "    positive_edges[u] = []\n",
    "    negative_edges[u] = []\n",
    "\n",
    "n_train_edges = train_edges.shape[0]\n",
    "\n",
    "for i in range(n_train_edges):\n",
    "    u = train_edges[i, 0]\n",
    "    v = train_edges[i, 1]\n",
    "    y = train_edges[i, 2]\n",
    "    if y == 1:\n",
    "        positive_edges[u].append(v)\n",
    "    else:\n",
    "        negative_edges[u].append(v)\n",
    "\n",
    "np.random.seed(0)\n",
    "similar_users = np.random.choice(n_users, n_similar_users, replace=False)\n",
    "print('chosen {} similar users: {}'.format(n_similar_users, similar_users))\n",
    "\n",
    "# 100% similarity for similar users \n",
    "similar_users_train_edges = []\n",
    "for j in range(len(similar_users)):\n",
    "    u = similar_users[j]\n",
    "    for item in positive_edges[u]:\n",
    "        similar_users_train_edges.append([j + n_users, item, 1])\n",
    "    for item in negative_edges[u]:\n",
    "        similar_users_train_edges.append([j + n_users, item, 0])\n",
    "\n",
    "similar_users_train_edges = np.array(similar_users_train_edges)\n",
    "np.random.seed(0)\n",
    "np.random.shuffle(similar_users_train_edges)\n",
    "np.random.shuffle(similar_users_train_edges)\n",
    "\n",
    "# similar_users_train_edges \n",
    "train_edges_new = np.concatenate((train_edges, similar_users_train_edges), axis=0)\n",
    "np.random.seed(0)\n",
    "np.random.shuffle(train_edges_new)\n",
    "print('train edges shape: ', train_edges.shape)\n",
    "print('similar users train edges shape: ', similar_users_train_edges.shape)\n",
    "print('new train edges shape: ', train_edges_new.shape)\n",
    "\n",
    "# proceed with creating users, items and ratings as usual\n",
    "user_list_train = train_edges_new[:, 0]\n",
    "user_list_test = test_edges[:, 0]\n",
    "item_list_train = train_edges_new[:, 1]\n",
    "item_list_test = test_edges[:, 1]\n",
    "rating_list_train = train_edges_new[:, 2].astype('float32')\n",
    "rating_list_test = test_edges[:, 2].astype('float32')\n",
    "\n",
    "# compute new n_users, n_items and n_samples\n",
    "n_users = max(user_list_train.max(), user_list_test.max()) + 1 \n",
    "n_items = max(item_list_train.max(), item_list_test.max()) + 1\n",
    "n_samples_train = len(rating_list_train)\n",
    "n_samples_test = len(rating_list_test)\n",
    "\n",
    "n_users, n_items, n_samples_train, n_samples_test"
   ]
  },
  {
   "cell_type": "markdown",
   "metadata": {},
   "source": [
    "#### **Code for surrogate attack using new users**"
   ]
  },
  {
   "cell_type": "code",
   "execution_count": 81,
   "metadata": {},
   "outputs": [
    {
     "name": "stdout",
     "output_type": "stream",
     "text": [
      "-> Algorithm:  meta-similar(200)\n",
      "\n",
      "-> T (surrogate):  25\n",
      "-> T (target):  25\n",
      "-> Delta: 10000 (5.22%)\n",
      "-> Embedding size (surrogate):  16\n",
      "-> Embedding size (target):  16\n",
      "-> Device:  cuda:3\n",
      "\n",
      "-> Surrogate:  CF\n",
      "-> Target:  CF\n",
      "-> Surrogate optimizer:  adam\n",
      "-> Target optimizer:  adam\n",
      "-> Surrogate learning rate:  0.2\n",
      "-> Target learning rate:  0.2\n",
      "-> Surrogate dropout:  0\n",
      "-> Target dropout:  0\n",
      "-> Surrogate seed:  0\n",
      "-> Target seed:  1\n",
      "\n",
      "-> Retain graph:  True\n",
      "-> Create graph:  False\n",
      "-> Save results:  True\n"
     ]
    },
    {
     "name": "stderr",
     "output_type": "stream",
     "text": [
      "-> Perturbations:  99%|█████████▊| 9851/10000 [54:00<00:47,  3.13it/s]"
     ]
    },
    {
     "name": "stdout",
     "output_type": "stream",
     "text": [
      "Perturbation #9850: No more edges left to perturb\n"
     ]
    },
    {
     "name": "stderr",
     "output_type": "stream",
     "text": [
      "-> Perturbations:  99%|█████████▊| 9852/10000 [54:00<00:47,  3.11it/s]"
     ]
    },
    {
     "name": "stdout",
     "output_type": "stream",
     "text": [
      "Perturbation #9851: No more edges left to perturb\n"
     ]
    },
    {
     "name": "stderr",
     "output_type": "stream",
     "text": [
      "-> Perturbations:  99%|█████████▊| 9853/10000 [54:00<00:47,  3.11it/s]"
     ]
    },
    {
     "name": "stdout",
     "output_type": "stream",
     "text": [
      "Perturbation #9852: No more edges left to perturb\n"
     ]
    },
    {
     "name": "stderr",
     "output_type": "stream",
     "text": [
      "-> Perturbations:  99%|█████████▊| 9854/10000 [54:01<00:46,  3.13it/s]"
     ]
    },
    {
     "name": "stdout",
     "output_type": "stream",
     "text": [
      "Perturbation #9853: No more edges left to perturb\n"
     ]
    },
    {
     "name": "stderr",
     "output_type": "stream",
     "text": [
      "-> Perturbations:  99%|█████████▊| 9855/10000 [54:01<00:46,  3.11it/s]"
     ]
    },
    {
     "name": "stdout",
     "output_type": "stream",
     "text": [
      "Perturbation #9854: No more edges left to perturb\n"
     ]
    },
    {
     "name": "stderr",
     "output_type": "stream",
     "text": [
      "-> Perturbations:  99%|█████████▊| 9856/10000 [54:01<00:46,  3.10it/s]"
     ]
    },
    {
     "name": "stdout",
     "output_type": "stream",
     "text": [
      "Perturbation #9855: No more edges left to perturb\n"
     ]
    },
    {
     "name": "stderr",
     "output_type": "stream",
     "text": [
      "-> Perturbations:  99%|█████████▊| 9857/10000 [54:02<00:46,  3.06it/s]"
     ]
    },
    {
     "name": "stdout",
     "output_type": "stream",
     "text": [
      "Perturbation #9856: No more edges left to perturb\n"
     ]
    },
    {
     "name": "stderr",
     "output_type": "stream",
     "text": [
      "-> Perturbations:  99%|█████████▊| 9858/10000 [54:02<00:45,  3.11it/s]"
     ]
    },
    {
     "name": "stdout",
     "output_type": "stream",
     "text": [
      "Perturbation #9857: No more edges left to perturb\n"
     ]
    },
    {
     "name": "stderr",
     "output_type": "stream",
     "text": [
      "-> Perturbations:  99%|█████████▊| 9859/10000 [54:02<00:45,  3.12it/s]"
     ]
    },
    {
     "name": "stdout",
     "output_type": "stream",
     "text": [
      "Perturbation #9858: No more edges left to perturb\n"
     ]
    },
    {
     "name": "stderr",
     "output_type": "stream",
     "text": [
      "-> Perturbations:  99%|█████████▊| 9860/10000 [54:03<00:44,  3.12it/s]"
     ]
    },
    {
     "name": "stdout",
     "output_type": "stream",
     "text": [
      "Perturbation #9859: No more edges left to perturb\n"
     ]
    },
    {
     "name": "stderr",
     "output_type": "stream",
     "text": [
      "-> Perturbations:  99%|█████████▊| 9861/10000 [54:03<00:43,  3.16it/s]"
     ]
    },
    {
     "name": "stdout",
     "output_type": "stream",
     "text": [
      "Perturbation #9860: No more edges left to perturb\n"
     ]
    },
    {
     "name": "stderr",
     "output_type": "stream",
     "text": [
      "-> Perturbations:  99%|█████████▊| 9862/10000 [54:03<00:43,  3.17it/s]"
     ]
    },
    {
     "name": "stdout",
     "output_type": "stream",
     "text": [
      "Perturbation #9861: No more edges left to perturb\n"
     ]
    },
    {
     "name": "stderr",
     "output_type": "stream",
     "text": [
      "-> Perturbations:  99%|█████████▊| 9863/10000 [54:04<00:43,  3.17it/s]"
     ]
    },
    {
     "name": "stdout",
     "output_type": "stream",
     "text": [
      "Perturbation #9862: No more edges left to perturb\n"
     ]
    },
    {
     "name": "stderr",
     "output_type": "stream",
     "text": [
      "-> Perturbations:  99%|█████████▊| 9864/10000 [54:04<00:43,  3.16it/s]"
     ]
    },
    {
     "name": "stdout",
     "output_type": "stream",
     "text": [
      "Perturbation #9863: No more edges left to perturb\n"
     ]
    },
    {
     "name": "stderr",
     "output_type": "stream",
     "text": [
      "-> Perturbations:  99%|█████████▊| 9865/10000 [54:04<00:42,  3.14it/s]"
     ]
    },
    {
     "name": "stdout",
     "output_type": "stream",
     "text": [
      "Perturbation #9864: No more edges left to perturb\n"
     ]
    },
    {
     "name": "stderr",
     "output_type": "stream",
     "text": [
      "-> Perturbations:  99%|█████████▊| 9866/10000 [54:05<00:42,  3.13it/s]"
     ]
    },
    {
     "name": "stdout",
     "output_type": "stream",
     "text": [
      "Perturbation #9865: No more edges left to perturb\n"
     ]
    },
    {
     "name": "stderr",
     "output_type": "stream",
     "text": [
      "-> Perturbations:  99%|█████████▊| 9867/10000 [54:05<00:42,  3.16it/s]"
     ]
    },
    {
     "name": "stdout",
     "output_type": "stream",
     "text": [
      "Perturbation #9866: No more edges left to perturb\n"
     ]
    },
    {
     "name": "stderr",
     "output_type": "stream",
     "text": [
      "-> Perturbations:  99%|█████████▊| 9868/10000 [54:05<00:41,  3.16it/s]"
     ]
    },
    {
     "name": "stdout",
     "output_type": "stream",
     "text": [
      "Perturbation #9867: No more edges left to perturb\n"
     ]
    },
    {
     "name": "stderr",
     "output_type": "stream",
     "text": [
      "-> Perturbations:  99%|█████████▊| 9869/10000 [54:06<00:41,  3.13it/s]"
     ]
    },
    {
     "name": "stdout",
     "output_type": "stream",
     "text": [
      "Perturbation #9868: No more edges left to perturb\n"
     ]
    },
    {
     "name": "stderr",
     "output_type": "stream",
     "text": [
      "-> Perturbations:  99%|█████████▊| 9870/10000 [54:06<00:42,  3.08it/s]"
     ]
    },
    {
     "name": "stdout",
     "output_type": "stream",
     "text": [
      "Perturbation #9869: No more edges left to perturb\n"
     ]
    },
    {
     "name": "stderr",
     "output_type": "stream",
     "text": [
      "-> Perturbations:  99%|█████████▊| 9871/10000 [54:06<00:42,  3.04it/s]"
     ]
    },
    {
     "name": "stdout",
     "output_type": "stream",
     "text": [
      "Perturbation #9870: No more edges left to perturb\n"
     ]
    },
    {
     "name": "stderr",
     "output_type": "stream",
     "text": [
      "-> Perturbations:  99%|█████████▊| 9872/10000 [54:07<00:41,  3.06it/s]"
     ]
    },
    {
     "name": "stdout",
     "output_type": "stream",
     "text": [
      "Perturbation #9871: No more edges left to perturb\n"
     ]
    },
    {
     "name": "stderr",
     "output_type": "stream",
     "text": [
      "-> Perturbations:  99%|█████████▊| 9873/10000 [54:07<00:41,  3.07it/s]"
     ]
    },
    {
     "name": "stdout",
     "output_type": "stream",
     "text": [
      "Perturbation #9872: No more edges left to perturb\n"
     ]
    },
    {
     "name": "stderr",
     "output_type": "stream",
     "text": [
      "-> Perturbations:  99%|█████████▊| 9874/10000 [54:07<00:40,  3.09it/s]"
     ]
    },
    {
     "name": "stdout",
     "output_type": "stream",
     "text": [
      "Perturbation #9873: No more edges left to perturb\n"
     ]
    },
    {
     "name": "stderr",
     "output_type": "stream",
     "text": [
      "-> Perturbations:  99%|█████████▉| 9875/10000 [54:07<00:40,  3.08it/s]"
     ]
    },
    {
     "name": "stdout",
     "output_type": "stream",
     "text": [
      "Perturbation #9874: No more edges left to perturb\n"
     ]
    },
    {
     "name": "stderr",
     "output_type": "stream",
     "text": [
      "-> Perturbations:  99%|█████████▉| 9876/10000 [54:08<00:40,  3.08it/s]"
     ]
    },
    {
     "name": "stdout",
     "output_type": "stream",
     "text": [
      "Perturbation #9875: No more edges left to perturb\n"
     ]
    },
    {
     "name": "stderr",
     "output_type": "stream",
     "text": [
      "-> Perturbations:  99%|█████████▉| 9877/10000 [54:08<00:40,  3.07it/s]"
     ]
    },
    {
     "name": "stdout",
     "output_type": "stream",
     "text": [
      "Perturbation #9876: No more edges left to perturb\n"
     ]
    },
    {
     "name": "stderr",
     "output_type": "stream",
     "text": [
      "-> Perturbations:  99%|█████████▉| 9878/10000 [54:08<00:39,  3.11it/s]"
     ]
    },
    {
     "name": "stdout",
     "output_type": "stream",
     "text": [
      "Perturbation #9877: No more edges left to perturb\n"
     ]
    },
    {
     "name": "stderr",
     "output_type": "stream",
     "text": [
      "-> Perturbations:  99%|█████████▉| 9879/10000 [54:09<00:39,  3.06it/s]"
     ]
    },
    {
     "name": "stdout",
     "output_type": "stream",
     "text": [
      "Perturbation #9878: No more edges left to perturb\n"
     ]
    },
    {
     "name": "stderr",
     "output_type": "stream",
     "text": [
      "-> Perturbations:  99%|█████████▉| 9880/10000 [54:09<00:38,  3.08it/s]"
     ]
    },
    {
     "name": "stdout",
     "output_type": "stream",
     "text": [
      "Perturbation #9879: No more edges left to perturb\n"
     ]
    },
    {
     "name": "stderr",
     "output_type": "stream",
     "text": [
      "-> Perturbations:  99%|█████████▉| 9881/10000 [54:09<00:38,  3.10it/s]"
     ]
    },
    {
     "name": "stdout",
     "output_type": "stream",
     "text": [
      "Perturbation #9880: No more edges left to perturb\n"
     ]
    },
    {
     "name": "stderr",
     "output_type": "stream",
     "text": [
      "-> Perturbations:  99%|█████████▉| 9882/10000 [54:10<00:37,  3.14it/s]"
     ]
    },
    {
     "name": "stdout",
     "output_type": "stream",
     "text": [
      "Perturbation #9881: No more edges left to perturb\n"
     ]
    },
    {
     "name": "stderr",
     "output_type": "stream",
     "text": [
      "-> Perturbations:  99%|█████████▉| 9883/10000 [54:10<00:37,  3.11it/s]"
     ]
    },
    {
     "name": "stdout",
     "output_type": "stream",
     "text": [
      "Perturbation #9882: No more edges left to perturb\n"
     ]
    },
    {
     "name": "stderr",
     "output_type": "stream",
     "text": [
      "-> Perturbations:  99%|█████████▉| 9884/10000 [54:10<00:36,  3.15it/s]"
     ]
    },
    {
     "name": "stdout",
     "output_type": "stream",
     "text": [
      "Perturbation #9883: No more edges left to perturb\n"
     ]
    },
    {
     "name": "stderr",
     "output_type": "stream",
     "text": [
      "-> Perturbations:  99%|█████████▉| 9885/10000 [54:11<00:36,  3.15it/s]"
     ]
    },
    {
     "name": "stdout",
     "output_type": "stream",
     "text": [
      "Perturbation #9884: No more edges left to perturb\n"
     ]
    },
    {
     "name": "stderr",
     "output_type": "stream",
     "text": [
      "-> Perturbations:  99%|█████████▉| 9886/10000 [54:11<00:36,  3.13it/s]"
     ]
    },
    {
     "name": "stdout",
     "output_type": "stream",
     "text": [
      "Perturbation #9885: No more edges left to perturb\n"
     ]
    },
    {
     "name": "stderr",
     "output_type": "stream",
     "text": [
      "-> Perturbations:  99%|█████████▉| 9887/10000 [54:11<00:36,  3.08it/s]"
     ]
    },
    {
     "name": "stdout",
     "output_type": "stream",
     "text": [
      "Perturbation #9886: No more edges left to perturb\n"
     ]
    },
    {
     "name": "stderr",
     "output_type": "stream",
     "text": [
      "-> Perturbations:  99%|█████████▉| 9888/10000 [54:12<00:36,  3.07it/s]"
     ]
    },
    {
     "name": "stdout",
     "output_type": "stream",
     "text": [
      "Perturbation #9887: No more edges left to perturb\n"
     ]
    },
    {
     "name": "stderr",
     "output_type": "stream",
     "text": [
      "-> Perturbations:  99%|█████████▉| 9889/10000 [54:12<00:36,  3.07it/s]"
     ]
    },
    {
     "name": "stdout",
     "output_type": "stream",
     "text": [
      "Perturbation #9888: No more edges left to perturb\n"
     ]
    },
    {
     "name": "stderr",
     "output_type": "stream",
     "text": [
      "-> Perturbations:  99%|█████████▉| 9890/10000 [54:12<00:35,  3.06it/s]"
     ]
    },
    {
     "name": "stdout",
     "output_type": "stream",
     "text": [
      "Perturbation #9889: No more edges left to perturb\n"
     ]
    },
    {
     "name": "stderr",
     "output_type": "stream",
     "text": [
      "-> Perturbations:  99%|█████████▉| 9891/10000 [54:13<00:35,  3.11it/s]"
     ]
    },
    {
     "name": "stdout",
     "output_type": "stream",
     "text": [
      "Perturbation #9890: No more edges left to perturb\n"
     ]
    },
    {
     "name": "stderr",
     "output_type": "stream",
     "text": [
      "-> Perturbations:  99%|█████████▉| 9892/10000 [54:13<00:34,  3.11it/s]"
     ]
    },
    {
     "name": "stdout",
     "output_type": "stream",
     "text": [
      "Perturbation #9891: No more edges left to perturb\n"
     ]
    },
    {
     "name": "stderr",
     "output_type": "stream",
     "text": [
      "-> Perturbations:  99%|█████████▉| 9893/10000 [54:13<00:34,  3.10it/s]"
     ]
    },
    {
     "name": "stdout",
     "output_type": "stream",
     "text": [
      "Perturbation #9892: No more edges left to perturb\n"
     ]
    },
    {
     "name": "stderr",
     "output_type": "stream",
     "text": [
      "-> Perturbations:  99%|█████████▉| 9894/10000 [54:14<00:34,  3.09it/s]"
     ]
    },
    {
     "name": "stdout",
     "output_type": "stream",
     "text": [
      "Perturbation #9893: No more edges left to perturb\n"
     ]
    },
    {
     "name": "stderr",
     "output_type": "stream",
     "text": [
      "-> Perturbations:  99%|█████████▉| 9895/10000 [54:14<00:33,  3.12it/s]"
     ]
    },
    {
     "name": "stdout",
     "output_type": "stream",
     "text": [
      "Perturbation #9894: No more edges left to perturb\n"
     ]
    },
    {
     "name": "stderr",
     "output_type": "stream",
     "text": [
      "-> Perturbations:  99%|█████████▉| 9896/10000 [54:14<00:33,  3.13it/s]"
     ]
    },
    {
     "name": "stdout",
     "output_type": "stream",
     "text": [
      "Perturbation #9895: No more edges left to perturb\n"
     ]
    },
    {
     "name": "stderr",
     "output_type": "stream",
     "text": [
      "-> Perturbations:  99%|█████████▉| 9897/10000 [54:15<00:32,  3.14it/s]"
     ]
    },
    {
     "name": "stdout",
     "output_type": "stream",
     "text": [
      "Perturbation #9896: No more edges left to perturb\n"
     ]
    },
    {
     "name": "stderr",
     "output_type": "stream",
     "text": [
      "-> Perturbations:  99%|█████████▉| 9898/10000 [54:15<00:32,  3.15it/s]"
     ]
    },
    {
     "name": "stdout",
     "output_type": "stream",
     "text": [
      "Perturbation #9897: No more edges left to perturb\n"
     ]
    },
    {
     "name": "stderr",
     "output_type": "stream",
     "text": [
      "-> Perturbations:  99%|█████████▉| 9899/10000 [54:15<00:32,  3.13it/s]"
     ]
    },
    {
     "name": "stdout",
     "output_type": "stream",
     "text": [
      "Perturbation #9898: No more edges left to perturb\n"
     ]
    },
    {
     "name": "stderr",
     "output_type": "stream",
     "text": [
      "-> Perturbations:  99%|█████████▉| 9900/10000 [54:16<00:32,  3.08it/s]"
     ]
    },
    {
     "name": "stdout",
     "output_type": "stream",
     "text": [
      "Perturbation #9899: No more edges left to perturb\n"
     ]
    },
    {
     "name": "stderr",
     "output_type": "stream",
     "text": [
      "-> Perturbations:  99%|█████████▉| 9901/10000 [54:16<00:32,  3.08it/s]"
     ]
    },
    {
     "name": "stdout",
     "output_type": "stream",
     "text": [
      "Perturbation #9900: No more edges left to perturb\n"
     ]
    },
    {
     "name": "stderr",
     "output_type": "stream",
     "text": [
      "-> Perturbations:  99%|█████████▉| 9902/10000 [54:16<00:31,  3.11it/s]"
     ]
    },
    {
     "name": "stdout",
     "output_type": "stream",
     "text": [
      "Perturbation #9901: No more edges left to perturb\n"
     ]
    },
    {
     "name": "stderr",
     "output_type": "stream",
     "text": [
      "-> Perturbations:  99%|█████████▉| 9903/10000 [54:16<00:31,  3.12it/s]"
     ]
    },
    {
     "name": "stdout",
     "output_type": "stream",
     "text": [
      "Perturbation #9902: No more edges left to perturb\n"
     ]
    },
    {
     "name": "stderr",
     "output_type": "stream",
     "text": [
      "-> Perturbations:  99%|█████████▉| 9904/10000 [54:17<00:30,  3.12it/s]"
     ]
    },
    {
     "name": "stdout",
     "output_type": "stream",
     "text": [
      "Perturbation #9903: No more edges left to perturb\n"
     ]
    },
    {
     "name": "stderr",
     "output_type": "stream",
     "text": [
      "-> Perturbations:  99%|█████████▉| 9905/10000 [54:17<00:30,  3.14it/s]"
     ]
    },
    {
     "name": "stdout",
     "output_type": "stream",
     "text": [
      "Perturbation #9904: No more edges left to perturb\n"
     ]
    },
    {
     "name": "stderr",
     "output_type": "stream",
     "text": [
      "-> Perturbations:  99%|█████████▉| 9906/10000 [54:17<00:29,  3.18it/s]"
     ]
    },
    {
     "name": "stdout",
     "output_type": "stream",
     "text": [
      "Perturbation #9905: No more edges left to perturb\n"
     ]
    },
    {
     "name": "stderr",
     "output_type": "stream",
     "text": [
      "-> Perturbations:  99%|█████████▉| 9907/10000 [54:18<00:29,  3.18it/s]"
     ]
    },
    {
     "name": "stdout",
     "output_type": "stream",
     "text": [
      "Perturbation #9906: No more edges left to perturb\n"
     ]
    },
    {
     "name": "stderr",
     "output_type": "stream",
     "text": [
      "-> Perturbations:  99%|█████████▉| 9908/10000 [54:18<00:28,  3.21it/s]"
     ]
    },
    {
     "name": "stdout",
     "output_type": "stream",
     "text": [
      "Perturbation #9907: No more edges left to perturb\n"
     ]
    },
    {
     "name": "stderr",
     "output_type": "stream",
     "text": [
      "-> Perturbations:  99%|█████████▉| 9909/10000 [54:18<00:28,  3.21it/s]"
     ]
    },
    {
     "name": "stdout",
     "output_type": "stream",
     "text": [
      "Perturbation #9908: No more edges left to perturb\n"
     ]
    },
    {
     "name": "stderr",
     "output_type": "stream",
     "text": [
      "-> Perturbations:  99%|█████████▉| 9910/10000 [54:19<00:28,  3.21it/s]"
     ]
    },
    {
     "name": "stdout",
     "output_type": "stream",
     "text": [
      "Perturbation #9909: No more edges left to perturb\n"
     ]
    },
    {
     "name": "stderr",
     "output_type": "stream",
     "text": [
      "-> Perturbations:  99%|█████████▉| 9911/10000 [54:19<00:27,  3.21it/s]"
     ]
    },
    {
     "name": "stdout",
     "output_type": "stream",
     "text": [
      "Perturbation #9910: No more edges left to perturb\n"
     ]
    },
    {
     "name": "stderr",
     "output_type": "stream",
     "text": [
      "-> Perturbations:  99%|█████████▉| 9912/10000 [54:19<00:27,  3.16it/s]"
     ]
    },
    {
     "name": "stdout",
     "output_type": "stream",
     "text": [
      "Perturbation #9911: No more edges left to perturb\n"
     ]
    },
    {
     "name": "stderr",
     "output_type": "stream",
     "text": [
      "-> Perturbations:  99%|█████████▉| 9913/10000 [54:20<00:27,  3.20it/s]"
     ]
    },
    {
     "name": "stdout",
     "output_type": "stream",
     "text": [
      "Perturbation #9912: No more edges left to perturb\n"
     ]
    },
    {
     "name": "stderr",
     "output_type": "stream",
     "text": [
      "-> Perturbations:  99%|█████████▉| 9914/10000 [54:20<00:27,  3.17it/s]"
     ]
    },
    {
     "name": "stdout",
     "output_type": "stream",
     "text": [
      "Perturbation #9913: No more edges left to perturb\n"
     ]
    },
    {
     "name": "stderr",
     "output_type": "stream",
     "text": [
      "-> Perturbations:  99%|█████████▉| 9915/10000 [54:20<00:26,  3.17it/s]"
     ]
    },
    {
     "name": "stdout",
     "output_type": "stream",
     "text": [
      "Perturbation #9914: No more edges left to perturb\n"
     ]
    },
    {
     "name": "stderr",
     "output_type": "stream",
     "text": [
      "-> Perturbations:  99%|█████████▉| 9916/10000 [54:21<00:26,  3.18it/s]"
     ]
    },
    {
     "name": "stdout",
     "output_type": "stream",
     "text": [
      "Perturbation #9915: No more edges left to perturb\n"
     ]
    },
    {
     "name": "stderr",
     "output_type": "stream",
     "text": [
      "-> Perturbations:  99%|█████████▉| 9917/10000 [54:21<00:26,  3.17it/s]"
     ]
    },
    {
     "name": "stdout",
     "output_type": "stream",
     "text": [
      "Perturbation #9916: No more edges left to perturb\n"
     ]
    },
    {
     "name": "stderr",
     "output_type": "stream",
     "text": [
      "-> Perturbations:  99%|█████████▉| 9918/10000 [54:21<00:26,  3.12it/s]"
     ]
    },
    {
     "name": "stdout",
     "output_type": "stream",
     "text": [
      "Perturbation #9917: No more edges left to perturb\n"
     ]
    },
    {
     "name": "stderr",
     "output_type": "stream",
     "text": [
      "-> Perturbations:  99%|█████████▉| 9919/10000 [54:22<00:26,  3.08it/s]"
     ]
    },
    {
     "name": "stdout",
     "output_type": "stream",
     "text": [
      "Perturbation #9918: No more edges left to perturb\n"
     ]
    },
    {
     "name": "stderr",
     "output_type": "stream",
     "text": [
      "-> Perturbations:  99%|█████████▉| 9920/10000 [54:22<00:25,  3.08it/s]"
     ]
    },
    {
     "name": "stdout",
     "output_type": "stream",
     "text": [
      "Perturbation #9919: No more edges left to perturb\n"
     ]
    },
    {
     "name": "stderr",
     "output_type": "stream",
     "text": [
      "-> Perturbations:  99%|█████████▉| 9921/10000 [54:22<00:25,  3.11it/s]"
     ]
    },
    {
     "name": "stdout",
     "output_type": "stream",
     "text": [
      "Perturbation #9920: No more edges left to perturb\n"
     ]
    },
    {
     "name": "stderr",
     "output_type": "stream",
     "text": [
      "-> Perturbations:  99%|█████████▉| 9922/10000 [54:22<00:24,  3.13it/s]"
     ]
    },
    {
     "name": "stdout",
     "output_type": "stream",
     "text": [
      "Perturbation #9921: No more edges left to perturb\n"
     ]
    },
    {
     "name": "stderr",
     "output_type": "stream",
     "text": [
      "-> Perturbations:  99%|█████████▉| 9923/10000 [54:23<00:24,  3.14it/s]"
     ]
    },
    {
     "name": "stdout",
     "output_type": "stream",
     "text": [
      "Perturbation #9922: No more edges left to perturb\n"
     ]
    },
    {
     "name": "stderr",
     "output_type": "stream",
     "text": [
      "-> Perturbations:  99%|█████████▉| 9924/10000 [54:23<00:24,  3.17it/s]"
     ]
    },
    {
     "name": "stdout",
     "output_type": "stream",
     "text": [
      "Perturbation #9923: No more edges left to perturb\n"
     ]
    },
    {
     "name": "stderr",
     "output_type": "stream",
     "text": [
      "-> Perturbations:  99%|█████████▉| 9925/10000 [54:23<00:23,  3.16it/s]"
     ]
    },
    {
     "name": "stdout",
     "output_type": "stream",
     "text": [
      "Perturbation #9924: No more edges left to perturb\n"
     ]
    },
    {
     "name": "stderr",
     "output_type": "stream",
     "text": [
      "-> Perturbations:  99%|█████████▉| 9926/10000 [54:24<00:23,  3.11it/s]"
     ]
    },
    {
     "name": "stdout",
     "output_type": "stream",
     "text": [
      "Perturbation #9925: No more edges left to perturb\n"
     ]
    },
    {
     "name": "stderr",
     "output_type": "stream",
     "text": [
      "-> Perturbations:  99%|█████████▉| 9927/10000 [54:24<00:23,  3.12it/s]"
     ]
    },
    {
     "name": "stdout",
     "output_type": "stream",
     "text": [
      "Perturbation #9926: No more edges left to perturb\n"
     ]
    },
    {
     "name": "stderr",
     "output_type": "stream",
     "text": [
      "-> Perturbations:  99%|█████████▉| 9928/10000 [54:24<00:22,  3.14it/s]"
     ]
    },
    {
     "name": "stdout",
     "output_type": "stream",
     "text": [
      "Perturbation #9927: No more edges left to perturb\n"
     ]
    },
    {
     "name": "stderr",
     "output_type": "stream",
     "text": [
      "-> Perturbations:  99%|█████████▉| 9929/10000 [54:25<00:22,  3.15it/s]"
     ]
    },
    {
     "name": "stdout",
     "output_type": "stream",
     "text": [
      "Perturbation #9928: No more edges left to perturb\n"
     ]
    },
    {
     "name": "stderr",
     "output_type": "stream",
     "text": [
      "-> Perturbations:  99%|█████████▉| 9930/10000 [54:25<00:22,  3.13it/s]"
     ]
    },
    {
     "name": "stdout",
     "output_type": "stream",
     "text": [
      "Perturbation #9929: No more edges left to perturb\n"
     ]
    },
    {
     "name": "stderr",
     "output_type": "stream",
     "text": [
      "-> Perturbations:  99%|█████████▉| 9931/10000 [54:25<00:22,  3.13it/s]"
     ]
    },
    {
     "name": "stdout",
     "output_type": "stream",
     "text": [
      "Perturbation #9930: No more edges left to perturb\n"
     ]
    },
    {
     "name": "stderr",
     "output_type": "stream",
     "text": [
      "-> Perturbations:  99%|█████████▉| 9932/10000 [54:26<00:21,  3.15it/s]"
     ]
    },
    {
     "name": "stdout",
     "output_type": "stream",
     "text": [
      "Perturbation #9931: No more edges left to perturb\n"
     ]
    },
    {
     "name": "stderr",
     "output_type": "stream",
     "text": [
      "-> Perturbations:  99%|█████████▉| 9933/10000 [54:26<00:21,  3.16it/s]"
     ]
    },
    {
     "name": "stdout",
     "output_type": "stream",
     "text": [
      "Perturbation #9932: No more edges left to perturb\n"
     ]
    },
    {
     "name": "stderr",
     "output_type": "stream",
     "text": [
      "-> Perturbations:  99%|█████████▉| 9934/10000 [54:26<00:20,  3.19it/s]"
     ]
    },
    {
     "name": "stdout",
     "output_type": "stream",
     "text": [
      "Perturbation #9933: No more edges left to perturb\n"
     ]
    },
    {
     "name": "stderr",
     "output_type": "stream",
     "text": [
      "-> Perturbations:  99%|█████████▉| 9935/10000 [54:27<00:20,  3.14it/s]"
     ]
    },
    {
     "name": "stdout",
     "output_type": "stream",
     "text": [
      "Perturbation #9934: No more edges left to perturb\n"
     ]
    },
    {
     "name": "stderr",
     "output_type": "stream",
     "text": [
      "-> Perturbations:  99%|█████████▉| 9936/10000 [54:27<00:20,  3.09it/s]"
     ]
    },
    {
     "name": "stdout",
     "output_type": "stream",
     "text": [
      "Perturbation #9935: No more edges left to perturb\n"
     ]
    },
    {
     "name": "stderr",
     "output_type": "stream",
     "text": [
      "-> Perturbations:  99%|█████████▉| 9937/10000 [54:27<00:20,  3.06it/s]"
     ]
    },
    {
     "name": "stdout",
     "output_type": "stream",
     "text": [
      "Perturbation #9936: No more edges left to perturb\n"
     ]
    },
    {
     "name": "stderr",
     "output_type": "stream",
     "text": [
      "-> Perturbations:  99%|█████████▉| 9938/10000 [54:28<00:20,  3.02it/s]"
     ]
    },
    {
     "name": "stdout",
     "output_type": "stream",
     "text": [
      "Perturbation #9937: No more edges left to perturb\n"
     ]
    },
    {
     "name": "stderr",
     "output_type": "stream",
     "text": [
      "-> Perturbations:  99%|█████████▉| 9939/10000 [54:28<00:20,  2.97it/s]"
     ]
    },
    {
     "name": "stdout",
     "output_type": "stream",
     "text": [
      "Perturbation #9938: No more edges left to perturb\n"
     ]
    },
    {
     "name": "stderr",
     "output_type": "stream",
     "text": [
      "-> Perturbations:  99%|█████████▉| 9940/10000 [54:28<00:20,  2.97it/s]"
     ]
    },
    {
     "name": "stdout",
     "output_type": "stream",
     "text": [
      "Perturbation #9939: No more edges left to perturb\n"
     ]
    },
    {
     "name": "stderr",
     "output_type": "stream",
     "text": [
      "-> Perturbations:  99%|█████████▉| 9941/10000 [54:29<00:19,  2.97it/s]"
     ]
    },
    {
     "name": "stdout",
     "output_type": "stream",
     "text": [
      "Perturbation #9940: No more edges left to perturb\n"
     ]
    },
    {
     "name": "stderr",
     "output_type": "stream",
     "text": [
      "-> Perturbations:  99%|█████████▉| 9942/10000 [54:29<00:19,  2.97it/s]"
     ]
    },
    {
     "name": "stdout",
     "output_type": "stream",
     "text": [
      "Perturbation #9941: No more edges left to perturb\n"
     ]
    },
    {
     "name": "stderr",
     "output_type": "stream",
     "text": [
      "-> Perturbations:  99%|█████████▉| 9943/10000 [54:29<00:19,  2.98it/s]"
     ]
    },
    {
     "name": "stdout",
     "output_type": "stream",
     "text": [
      "Perturbation #9942: No more edges left to perturb\n"
     ]
    },
    {
     "name": "stderr",
     "output_type": "stream",
     "text": [
      "-> Perturbations:  99%|█████████▉| 9944/10000 [54:30<00:18,  2.99it/s]"
     ]
    },
    {
     "name": "stdout",
     "output_type": "stream",
     "text": [
      "Perturbation #9943: No more edges left to perturb\n"
     ]
    },
    {
     "name": "stderr",
     "output_type": "stream",
     "text": [
      "-> Perturbations:  99%|█████████▉| 9945/10000 [54:30<00:18,  2.97it/s]"
     ]
    },
    {
     "name": "stdout",
     "output_type": "stream",
     "text": [
      "Perturbation #9944: No more edges left to perturb\n"
     ]
    },
    {
     "name": "stderr",
     "output_type": "stream",
     "text": [
      "-> Perturbations:  99%|█████████▉| 9946/10000 [54:30<00:18,  2.99it/s]"
     ]
    },
    {
     "name": "stdout",
     "output_type": "stream",
     "text": [
      "Perturbation #9945: No more edges left to perturb\n"
     ]
    },
    {
     "name": "stderr",
     "output_type": "stream",
     "text": [
      "-> Perturbations:  99%|█████████▉| 9947/10000 [54:31<00:17,  3.04it/s]"
     ]
    },
    {
     "name": "stdout",
     "output_type": "stream",
     "text": [
      "Perturbation #9946: No more edges left to perturb\n"
     ]
    },
    {
     "name": "stderr",
     "output_type": "stream",
     "text": [
      "-> Perturbations:  99%|█████████▉| 9948/10000 [54:31<00:16,  3.06it/s]"
     ]
    },
    {
     "name": "stdout",
     "output_type": "stream",
     "text": [
      "Perturbation #9947: No more edges left to perturb\n"
     ]
    },
    {
     "name": "stderr",
     "output_type": "stream",
     "text": [
      "-> Perturbations:  99%|█████████▉| 9949/10000 [54:31<00:16,  3.10it/s]"
     ]
    },
    {
     "name": "stdout",
     "output_type": "stream",
     "text": [
      "Perturbation #9948: No more edges left to perturb\n"
     ]
    },
    {
     "name": "stderr",
     "output_type": "stream",
     "text": [
      "-> Perturbations: 100%|█████████▉| 9950/10000 [54:32<00:15,  3.14it/s]"
     ]
    },
    {
     "name": "stdout",
     "output_type": "stream",
     "text": [
      "Perturbation #9949: No more edges left to perturb\n"
     ]
    },
    {
     "name": "stderr",
     "output_type": "stream",
     "text": [
      "-> Perturbations: 100%|█████████▉| 9951/10000 [54:32<00:15,  3.17it/s]"
     ]
    },
    {
     "name": "stdout",
     "output_type": "stream",
     "text": [
      "Perturbation #9950: No more edges left to perturb\n"
     ]
    },
    {
     "name": "stderr",
     "output_type": "stream",
     "text": [
      "-> Perturbations: 100%|█████████▉| 9952/10000 [54:32<00:15,  3.17it/s]"
     ]
    },
    {
     "name": "stdout",
     "output_type": "stream",
     "text": [
      "Perturbation #9951: No more edges left to perturb\n"
     ]
    },
    {
     "name": "stderr",
     "output_type": "stream",
     "text": [
      "-> Perturbations: 100%|█████████▉| 9953/10000 [54:33<00:14,  3.14it/s]"
     ]
    },
    {
     "name": "stdout",
     "output_type": "stream",
     "text": [
      "Perturbation #9952: No more edges left to perturb\n"
     ]
    },
    {
     "name": "stderr",
     "output_type": "stream",
     "text": [
      "-> Perturbations: 100%|█████████▉| 9954/10000 [54:33<00:14,  3.12it/s]"
     ]
    },
    {
     "name": "stdout",
     "output_type": "stream",
     "text": [
      "Perturbation #9953: No more edges left to perturb\n"
     ]
    },
    {
     "name": "stderr",
     "output_type": "stream",
     "text": [
      "-> Perturbations: 100%|█████████▉| 9955/10000 [54:33<00:14,  3.09it/s]"
     ]
    },
    {
     "name": "stdout",
     "output_type": "stream",
     "text": [
      "Perturbation #9954: No more edges left to perturb\n"
     ]
    },
    {
     "name": "stderr",
     "output_type": "stream",
     "text": [
      "-> Perturbations: 100%|█████████▉| 9956/10000 [54:34<00:14,  3.09it/s]"
     ]
    },
    {
     "name": "stdout",
     "output_type": "stream",
     "text": [
      "Perturbation #9955: No more edges left to perturb\n"
     ]
    },
    {
     "name": "stderr",
     "output_type": "stream",
     "text": [
      "-> Perturbations: 100%|█████████▉| 9957/10000 [54:34<00:13,  3.08it/s]"
     ]
    },
    {
     "name": "stdout",
     "output_type": "stream",
     "text": [
      "Perturbation #9956: No more edges left to perturb\n"
     ]
    },
    {
     "name": "stderr",
     "output_type": "stream",
     "text": [
      "-> Perturbations: 100%|█████████▉| 9958/10000 [54:34<00:13,  3.03it/s]"
     ]
    },
    {
     "name": "stdout",
     "output_type": "stream",
     "text": [
      "Perturbation #9957: No more edges left to perturb\n"
     ]
    },
    {
     "name": "stderr",
     "output_type": "stream",
     "text": [
      "-> Perturbations: 100%|█████████▉| 9959/10000 [54:35<00:13,  3.05it/s]"
     ]
    },
    {
     "name": "stdout",
     "output_type": "stream",
     "text": [
      "Perturbation #9958: No more edges left to perturb\n"
     ]
    },
    {
     "name": "stderr",
     "output_type": "stream",
     "text": [
      "-> Perturbations: 100%|█████████▉| 9960/10000 [54:35<00:13,  3.02it/s]"
     ]
    },
    {
     "name": "stdout",
     "output_type": "stream",
     "text": [
      "Perturbation #9959: No more edges left to perturb\n"
     ]
    },
    {
     "name": "stderr",
     "output_type": "stream",
     "text": [
      "-> Perturbations: 100%|█████████▉| 9961/10000 [54:35<00:13,  2.98it/s]"
     ]
    },
    {
     "name": "stdout",
     "output_type": "stream",
     "text": [
      "Perturbation #9960: No more edges left to perturb\n"
     ]
    },
    {
     "name": "stderr",
     "output_type": "stream",
     "text": [
      "-> Perturbations: 100%|█████████▉| 9962/10000 [54:36<00:13,  2.90it/s]"
     ]
    },
    {
     "name": "stdout",
     "output_type": "stream",
     "text": [
      "Perturbation #9961: No more edges left to perturb\n"
     ]
    },
    {
     "name": "stderr",
     "output_type": "stream",
     "text": [
      "-> Perturbations: 100%|█████████▉| 9963/10000 [54:36<00:12,  2.93it/s]"
     ]
    },
    {
     "name": "stdout",
     "output_type": "stream",
     "text": [
      "Perturbation #9962: No more edges left to perturb\n"
     ]
    },
    {
     "name": "stderr",
     "output_type": "stream",
     "text": [
      "-> Perturbations: 100%|█████████▉| 9964/10000 [54:36<00:12,  2.99it/s]"
     ]
    },
    {
     "name": "stdout",
     "output_type": "stream",
     "text": [
      "Perturbation #9963: No more edges left to perturb\n"
     ]
    },
    {
     "name": "stderr",
     "output_type": "stream",
     "text": [
      "-> Perturbations: 100%|█████████▉| 9965/10000 [54:37<00:11,  3.03it/s]"
     ]
    },
    {
     "name": "stdout",
     "output_type": "stream",
     "text": [
      "Perturbation #9964: No more edges left to perturb\n"
     ]
    },
    {
     "name": "stderr",
     "output_type": "stream",
     "text": [
      "-> Perturbations: 100%|█████████▉| 9966/10000 [54:37<00:11,  3.05it/s]"
     ]
    },
    {
     "name": "stdout",
     "output_type": "stream",
     "text": [
      "Perturbation #9965: No more edges left to perturb\n"
     ]
    },
    {
     "name": "stderr",
     "output_type": "stream",
     "text": [
      "-> Perturbations: 100%|█████████▉| 9967/10000 [54:37<00:10,  3.07it/s]"
     ]
    },
    {
     "name": "stdout",
     "output_type": "stream",
     "text": [
      "Perturbation #9966: No more edges left to perturb\n"
     ]
    },
    {
     "name": "stderr",
     "output_type": "stream",
     "text": [
      "-> Perturbations: 100%|█████████▉| 9968/10000 [54:38<00:10,  3.06it/s]"
     ]
    },
    {
     "name": "stdout",
     "output_type": "stream",
     "text": [
      "Perturbation #9967: No more edges left to perturb\n"
     ]
    },
    {
     "name": "stderr",
     "output_type": "stream",
     "text": [
      "-> Perturbations: 100%|█████████▉| 9969/10000 [54:38<00:10,  3.00it/s]"
     ]
    },
    {
     "name": "stdout",
     "output_type": "stream",
     "text": [
      "Perturbation #9968: No more edges left to perturb\n"
     ]
    },
    {
     "name": "stderr",
     "output_type": "stream",
     "text": [
      "-> Perturbations: 100%|█████████▉| 9970/10000 [54:38<00:10,  2.99it/s]"
     ]
    },
    {
     "name": "stdout",
     "output_type": "stream",
     "text": [
      "Perturbation #9969: No more edges left to perturb\n"
     ]
    },
    {
     "name": "stderr",
     "output_type": "stream",
     "text": [
      "-> Perturbations: 100%|█████████▉| 9971/10000 [54:39<00:09,  2.95it/s]"
     ]
    },
    {
     "name": "stdout",
     "output_type": "stream",
     "text": [
      "Perturbation #9970: No more edges left to perturb\n"
     ]
    },
    {
     "name": "stderr",
     "output_type": "stream",
     "text": [
      "-> Perturbations: 100%|█████████▉| 9972/10000 [54:39<00:09,  2.92it/s]"
     ]
    },
    {
     "name": "stdout",
     "output_type": "stream",
     "text": [
      "Perturbation #9971: No more edges left to perturb\n"
     ]
    },
    {
     "name": "stderr",
     "output_type": "stream",
     "text": [
      "-> Perturbations: 100%|█████████▉| 9973/10000 [54:39<00:09,  2.91it/s]"
     ]
    },
    {
     "name": "stdout",
     "output_type": "stream",
     "text": [
      "Perturbation #9972: No more edges left to perturb\n"
     ]
    },
    {
     "name": "stderr",
     "output_type": "stream",
     "text": [
      "-> Perturbations: 100%|█████████▉| 9974/10000 [54:40<00:08,  2.90it/s]"
     ]
    },
    {
     "name": "stdout",
     "output_type": "stream",
     "text": [
      "Perturbation #9973: No more edges left to perturb\n"
     ]
    },
    {
     "name": "stderr",
     "output_type": "stream",
     "text": [
      "-> Perturbations: 100%|█████████▉| 9975/10000 [54:40<00:08,  2.86it/s]"
     ]
    },
    {
     "name": "stdout",
     "output_type": "stream",
     "text": [
      "Perturbation #9974: No more edges left to perturb\n"
     ]
    },
    {
     "name": "stderr",
     "output_type": "stream",
     "text": [
      "-> Perturbations: 100%|█████████▉| 9976/10000 [54:40<00:08,  2.90it/s]"
     ]
    },
    {
     "name": "stdout",
     "output_type": "stream",
     "text": [
      "Perturbation #9975: No more edges left to perturb\n"
     ]
    },
    {
     "name": "stderr",
     "output_type": "stream",
     "text": [
      "-> Perturbations: 100%|█████████▉| 9977/10000 [54:41<00:07,  2.92it/s]"
     ]
    },
    {
     "name": "stdout",
     "output_type": "stream",
     "text": [
      "Perturbation #9976: No more edges left to perturb\n"
     ]
    },
    {
     "name": "stderr",
     "output_type": "stream",
     "text": [
      "-> Perturbations: 100%|█████████▉| 9978/10000 [54:41<00:07,  2.99it/s]"
     ]
    },
    {
     "name": "stdout",
     "output_type": "stream",
     "text": [
      "Perturbation #9977: No more edges left to perturb\n"
     ]
    },
    {
     "name": "stderr",
     "output_type": "stream",
     "text": [
      "-> Perturbations: 100%|█████████▉| 9979/10000 [54:41<00:06,  3.02it/s]"
     ]
    },
    {
     "name": "stdout",
     "output_type": "stream",
     "text": [
      "Perturbation #9978: No more edges left to perturb\n"
     ]
    },
    {
     "name": "stderr",
     "output_type": "stream",
     "text": [
      "-> Perturbations: 100%|█████████▉| 9980/10000 [54:42<00:06,  3.08it/s]"
     ]
    },
    {
     "name": "stdout",
     "output_type": "stream",
     "text": [
      "Perturbation #9979: No more edges left to perturb\n"
     ]
    },
    {
     "name": "stderr",
     "output_type": "stream",
     "text": [
      "-> Perturbations: 100%|█████████▉| 9981/10000 [54:42<00:06,  3.10it/s]"
     ]
    },
    {
     "name": "stdout",
     "output_type": "stream",
     "text": [
      "Perturbation #9980: No more edges left to perturb\n"
     ]
    },
    {
     "name": "stderr",
     "output_type": "stream",
     "text": [
      "-> Perturbations: 100%|█████████▉| 9982/10000 [54:42<00:05,  3.13it/s]"
     ]
    },
    {
     "name": "stdout",
     "output_type": "stream",
     "text": [
      "Perturbation #9981: No more edges left to perturb\n"
     ]
    },
    {
     "name": "stderr",
     "output_type": "stream",
     "text": [
      "-> Perturbations: 100%|█████████▉| 9983/10000 [54:43<00:05,  3.10it/s]"
     ]
    },
    {
     "name": "stdout",
     "output_type": "stream",
     "text": [
      "Perturbation #9982: No more edges left to perturb\n"
     ]
    },
    {
     "name": "stderr",
     "output_type": "stream",
     "text": [
      "-> Perturbations: 100%|█████████▉| 9984/10000 [54:43<00:05,  3.11it/s]"
     ]
    },
    {
     "name": "stdout",
     "output_type": "stream",
     "text": [
      "Perturbation #9983: No more edges left to perturb\n"
     ]
    },
    {
     "name": "stderr",
     "output_type": "stream",
     "text": [
      "-> Perturbations: 100%|█████████▉| 9985/10000 [54:43<00:04,  3.12it/s]"
     ]
    },
    {
     "name": "stdout",
     "output_type": "stream",
     "text": [
      "Perturbation #9984: No more edges left to perturb\n"
     ]
    },
    {
     "name": "stderr",
     "output_type": "stream",
     "text": [
      "-> Perturbations: 100%|█████████▉| 9986/10000 [54:44<00:04,  3.08it/s]"
     ]
    },
    {
     "name": "stdout",
     "output_type": "stream",
     "text": [
      "Perturbation #9985: No more edges left to perturb\n"
     ]
    },
    {
     "name": "stderr",
     "output_type": "stream",
     "text": [
      "-> Perturbations: 100%|█████████▉| 9987/10000 [54:44<00:04,  3.04it/s]"
     ]
    },
    {
     "name": "stdout",
     "output_type": "stream",
     "text": [
      "Perturbation #9986: No more edges left to perturb\n"
     ]
    },
    {
     "name": "stderr",
     "output_type": "stream",
     "text": [
      "-> Perturbations: 100%|█████████▉| 9988/10000 [54:44<00:03,  3.00it/s]"
     ]
    },
    {
     "name": "stdout",
     "output_type": "stream",
     "text": [
      "Perturbation #9987: No more edges left to perturb\n"
     ]
    },
    {
     "name": "stderr",
     "output_type": "stream",
     "text": [
      "-> Perturbations: 100%|█████████▉| 9989/10000 [54:45<00:03,  2.98it/s]"
     ]
    },
    {
     "name": "stdout",
     "output_type": "stream",
     "text": [
      "Perturbation #9988: No more edges left to perturb\n"
     ]
    },
    {
     "name": "stderr",
     "output_type": "stream",
     "text": [
      "-> Perturbations: 100%|█████████▉| 9990/10000 [54:45<00:03,  3.02it/s]"
     ]
    },
    {
     "name": "stdout",
     "output_type": "stream",
     "text": [
      "Perturbation #9989: No more edges left to perturb\n"
     ]
    },
    {
     "name": "stderr",
     "output_type": "stream",
     "text": [
      "-> Perturbations: 100%|█████████▉| 9991/10000 [54:45<00:02,  3.03it/s]"
     ]
    },
    {
     "name": "stdout",
     "output_type": "stream",
     "text": [
      "Perturbation #9990: No more edges left to perturb\n"
     ]
    },
    {
     "name": "stderr",
     "output_type": "stream",
     "text": [
      "-> Perturbations: 100%|█████████▉| 9992/10000 [54:46<00:02,  2.98it/s]"
     ]
    },
    {
     "name": "stdout",
     "output_type": "stream",
     "text": [
      "Perturbation #9991: No more edges left to perturb\n"
     ]
    },
    {
     "name": "stderr",
     "output_type": "stream",
     "text": [
      "-> Perturbations: 100%|█████████▉| 9993/10000 [54:46<00:02,  2.94it/s]"
     ]
    },
    {
     "name": "stdout",
     "output_type": "stream",
     "text": [
      "Perturbation #9992: No more edges left to perturb\n"
     ]
    },
    {
     "name": "stderr",
     "output_type": "stream",
     "text": [
      "-> Perturbations: 100%|█████████▉| 9994/10000 [54:46<00:02,  2.96it/s]"
     ]
    },
    {
     "name": "stdout",
     "output_type": "stream",
     "text": [
      "Perturbation #9993: No more edges left to perturb\n"
     ]
    },
    {
     "name": "stderr",
     "output_type": "stream",
     "text": [
      "-> Perturbations: 100%|█████████▉| 9995/10000 [54:47<00:01,  3.00it/s]"
     ]
    },
    {
     "name": "stdout",
     "output_type": "stream",
     "text": [
      "Perturbation #9994: No more edges left to perturb\n"
     ]
    },
    {
     "name": "stderr",
     "output_type": "stream",
     "text": [
      "-> Perturbations: 100%|█████████▉| 9996/10000 [54:47<00:01,  2.96it/s]"
     ]
    },
    {
     "name": "stdout",
     "output_type": "stream",
     "text": [
      "Perturbation #9995: No more edges left to perturb\n"
     ]
    },
    {
     "name": "stderr",
     "output_type": "stream",
     "text": [
      "-> Perturbations: 100%|█████████▉| 9997/10000 [54:47<00:01,  2.92it/s]"
     ]
    },
    {
     "name": "stdout",
     "output_type": "stream",
     "text": [
      "Perturbation #9996: No more edges left to perturb\n"
     ]
    },
    {
     "name": "stderr",
     "output_type": "stream",
     "text": [
      "-> Perturbations: 100%|█████████▉| 9998/10000 [54:48<00:00,  3.01it/s]"
     ]
    },
    {
     "name": "stdout",
     "output_type": "stream",
     "text": [
      "Perturbation #9997: No more edges left to perturb\n"
     ]
    },
    {
     "name": "stderr",
     "output_type": "stream",
     "text": [
      "-> Perturbations: 100%|█████████▉| 9999/10000 [54:48<00:00,  3.05it/s]"
     ]
    },
    {
     "name": "stdout",
     "output_type": "stream",
     "text": [
      "Perturbation #9998: No more edges left to perturb\n"
     ]
    },
    {
     "name": "stderr",
     "output_type": "stream",
     "text": [
      "-> Perturbations: 100%|██████████| 10000/10000 [54:48<00:00,  3.04it/s]"
     ]
    },
    {
     "name": "stdout",
     "output_type": "stream",
     "text": [
      "Perturbation #9999: No more edges left to perturb\n"
     ]
    },
    {
     "name": "stderr",
     "output_type": "stream",
     "text": [
      "\n"
     ]
    },
    {
     "name": "stdout",
     "output_type": "stream",
     "text": [
      "-> Execution time: 00h 54m 49s\n",
      "-> File name: CF(16,adam)-CF(16,adam)-meta-similar(200)-D=10000-T(25,25)-lr(0.2,0.2)-seed(0,1)-drop(0,0)\n"
     ]
    }
   ],
   "source": [
    "# model settings\n",
    "algorithm = 'meta-similar({})'.format(n_similar_users)\n",
    "surrogate = 'CF'\n",
    "target = 'CF'\n",
    "opt_surrogate = 'adam'\n",
    "opt_target = 'adam'\n",
    "lr_surrogate = 0.2\n",
    "lr_target = 0.2\n",
    "seed_surrogate = 0\n",
    "seed_target = 1\n",
    "dropout_surrogate = 0\n",
    "dropout_target = 0\n",
    "\n",
    "# start execution\n",
    "start_time = time.time()\n",
    "\n",
    "# GPU settings (set use_gpu = -1 if you want to use CPU)\n",
    "use_gpu = 3\n",
    "if use_gpu == -1:\n",
    "    device = 'cpu'\n",
    "else:\n",
    "    device = torch.device('cuda:{}'.format(str(use_gpu)) if torch.cuda.is_available() else 'cpu')\n",
    "\n",
    "# some hyperparameters\n",
    "T_surrogate = 25\n",
    "T_target = 25\n",
    "Delta = 10000 # 5% ~ 10K perturbations for movielens\n",
    "n_factors_surrogate = 16\n",
    "n_factors_target = 16\n",
    "save_results = True\n",
    "retain_graph = True \n",
    "create_graph = False\n",
    "\n",
    "if Delta < 100:\n",
    "    save_results = False\n",
    "\n",
    "# initialize list of perturbations\n",
    "perturbations = dict()\n",
    "perturbations['edges'] = []\n",
    "perturbations['metagrad'] = []\n",
    "\n",
    "perturbations['accuracy-before-surrogate'] = []\n",
    "perturbations['accuracy-after-surrogate'] = []\n",
    "perturbations['accuracy-unseen-surrogate'] = []\n",
    "\n",
    "perturbations['loss-before-surrogate'] = []\n",
    "perturbations['loss-after-surrogate'] = []\n",
    "perturbations['loss-unseen-surrogate'] = []\n",
    "\n",
    "perturbations['accuracy-before-target'] = []\n",
    "perturbations['accuracy-after-target'] = []\n",
    "perturbations['accuracy-unseen-target'] = []\n",
    "\n",
    "perturbations['loss-before-target'] = []\n",
    "perturbations['loss-after-target'] = []\n",
    "perturbations['loss-unseen-target'] = []\n",
    "\n",
    "perturbations['auc-before-surrogate'] = []\n",
    "perturbations['auc-after-surrogate'] = []\n",
    "perturbations['auc-unseen-surrogate'] = []\n",
    "\n",
    "perturbations['auc-before-target'] = []\n",
    "perturbations['auc-after-target'] = []\n",
    "perturbations['auc-unseen-target'] = []\n",
    "\n",
    "# print hyperparam configuration\n",
    "print('-> Algorithm: ', algorithm)\n",
    "print()\n",
    "print('-> T (surrogate): ', T_surrogate)\n",
    "print('-> T (target): ', T_target)\n",
    "print('-> Delta: {} ({}%)'.format(Delta, round(Delta * 100 / n_samples_train, 2)))\n",
    "print('-> Embedding size (surrogate): ', n_factors_surrogate)\n",
    "print('-> Embedding size (target): ', n_factors_target)\n",
    "print('-> Device: ', device)\n",
    "print()\n",
    "print('-> Surrogate: ', surrogate)\n",
    "print('-> Target: ', target)\n",
    "print('-> Surrogate optimizer: ', opt_surrogate)\n",
    "print('-> Target optimizer: ', opt_target)\n",
    "print('-> Surrogate learning rate: ', lr_surrogate)\n",
    "print('-> Target learning rate: ', lr_target)\n",
    "print('-> Surrogate dropout: ', dropout_surrogate)\n",
    "print('-> Target dropout: ', dropout_target)\n",
    "print('-> Surrogate seed: ', seed_surrogate)\n",
    "print('-> Target seed: ', seed_target)\n",
    "print()\n",
    "print('-> Retain graph: ', retain_graph)\n",
    "print('-> Create graph: ', create_graph)\n",
    "print('-> Save results: ', save_results)\n",
    "\n",
    "# load users, items and ratings as tensors\n",
    "users = torch.tensor(user_list_train, device = device)\n",
    "items = torch.tensor(item_list_train, device = device)\n",
    "ratings = torch.tensor(rating_list_train, device = device, requires_grad = True)\n",
    "\n",
    "# only those edges are allowed to be perturbed whose mask entry is False\n",
    "mask = torch.ones_like(ratings).bool()\n",
    "mask[users >= 943] = False # perturbations only allowed for newly injected similar users\n",
    "mask[ratings == 1] = True # positive edges cannot be perturbed even for new users\n",
    "\n",
    "# perturbs keeps track of perturbed edges by marking them as False\n",
    "perturbs = torch.ones_like(ratings).bool()\n",
    "\n",
    "# generate tensors out of validation data\n",
    "users_test = torch.tensor(user_list_test, device = device)\n",
    "items_test = torch.tensor(item_list_test, device = device)\n",
    "ratings_test = torch.tensor(rating_list_test, device = device)\n",
    "\n",
    "# sample random negative edges to perturb for baseline\n",
    "if 'base' in algorithm:\n",
    "    edges = mask.int().detach().to('cpu').numpy()\n",
    "    neg_edges = np.where(edges == 0)[0]\n",
    "    np.random.seed(0)\n",
    "    edges_to_perturb = np.random.choice(neg_edges, size=Delta, replace = False) # sample Delta edges randomly and perturb one by one inside loop \n",
    "\n",
    "# for each perturbation do the following\n",
    "for delta in tqdm(range(Delta), desc='-> Perturbations'):\n",
    "\n",
    "    # define surrogate model and it's parameters\n",
    "    torch.manual_seed(seed_surrogate)\n",
    "    model = getattr(models, surrogate)(n_users, n_items, n_factors_surrogate, dropout_surrogate).to(device)\n",
    "\n",
    "    # define optimizer and loss function\n",
    "    if 'adam' in opt_surrogate:\n",
    "        optimizer = torch.optim.Adam(model.parameters(), lr = lr_surrogate)\n",
    "    else:\n",
    "        optimizer = torch.optim.SGD(model.parameters(), lr = lr_surrogate)\n",
    "    loss_fn = nn.BCELoss(reduction = 'mean')\n",
    "\n",
    "    # inner loop training process\n",
    "    model.train()\n",
    "    for i in range(T_surrogate):\n",
    "        y_hat = model(users, items).reshape(ratings.shape)\n",
    "        loss = loss_fn(y_hat, ratings)\n",
    "        optimizer.zero_grad()\n",
    "        loss.backward(retain_graph=retain_graph, create_graph=create_graph)\n",
    "        optimizer.step()\n",
    "    model.eval()\n",
    "\n",
    "    # compute and store accuracy of model after T training steps\n",
    "    with torch.no_grad():\n",
    "        # training accuracy and loss including perturbed edges\n",
    "        y_hat = model(users, items).reshape(ratings.shape)\n",
    "        perturbations['accuracy-before-surrogate'].append(get_accuracy(y_hat, ratings))\n",
    "        perturbations['loss-before-surrogate'].append(loss_fn(y_hat, ratings).item())\n",
    "\n",
    "        # compute training AUROC including perturbed edges\n",
    "        y_pred = y_hat.detach().clone().to('cpu').numpy()\n",
    "        y_actual = ratings.detach().clone().to('cpu').numpy() \n",
    "        perturbations['auc-before-surrogate'].append(roc_auc_score(y_actual, y_pred))\n",
    "\n",
    "        # training accuracy and loss excluding perturbed edges\n",
    "        y_hat_masked = torch.masked_select(y_hat, perturbs)\n",
    "        ratings_masked = torch.masked_select(ratings, perturbs)\n",
    "        perturbations['accuracy-after-surrogate'].append(get_accuracy(y_hat_masked, ratings_masked))\n",
    "        perturbations['loss-after-surrogate'].append(loss_fn(y_hat_masked, ratings_masked).item())\n",
    "\n",
    "        # compute training AUROC excluding perturbed edges\n",
    "        y_pred = y_hat_masked.detach().clone().to('cpu').numpy()\n",
    "        y_actual = ratings_masked.detach().clone().to('cpu').numpy()\n",
    "        perturbations['auc-after-surrogate'].append(roc_auc_score(y_actual, y_pred))\n",
    "\n",
    "    # compute and store accuracy of surrogate model on unseen data\n",
    "    with torch.no_grad():\n",
    "        y_hat = model(users_test, items_test).reshape(ratings_test.shape)\n",
    "        perturbations['accuracy-unseen-surrogate'].append(get_accuracy(y_hat, ratings_test))\n",
    "        perturbations['loss-unseen-surrogate'].append(loss_fn(y_hat, ratings_test).item())\n",
    "\n",
    "        # compute unseen AUROC\n",
    "        y_pred = y_hat.detach().clone().to('cpu').numpy()\n",
    "        y_actual = ratings_test.detach().clone().to('cpu').numpy()\n",
    "        perturbations['auc-unseen-surrogate'].append(roc_auc_score(y_actual, y_pred))\n",
    "\n",
    "    # compute meta gradient\n",
    "    if 'meta' in algorithm:\n",
    "        meta_grad = torch.autograd.grad(loss, ratings)[0]\n",
    "\n",
    "    # define evaluation model\n",
    "    torch.manual_seed(seed_target)\n",
    "    eval_model = getattr(models, target)(n_users, n_items, n_factors_target, dropout_target).to(device)\n",
    "\n",
    "    # define optimizer and loss function for evaluation\n",
    "    if 'adam' in opt_target:\n",
    "        optimizer_eval = torch.optim.Adam(eval_model.parameters(), lr = lr_target)\n",
    "    else:\n",
    "        optimizer_eval = torch.optim.SGD(eval_model.parameters(), lr = lr_target)\n",
    "    loss_fn_eval = nn.BCELoss(reduction = 'mean')\n",
    "\n",
    "    # detach ratings and perturbs for eval model\n",
    "    ratings_eval = ratings.detach().clone()\n",
    "    perturbs_eval = perturbs.detach().clone()\n",
    "\n",
    "    # inner train  evaluation model\n",
    "    eval_model.train()\n",
    "    for i in range(T_target):\n",
    "        y_hat = eval_model(users, items).reshape(ratings_eval.shape)\n",
    "        loss_eval = loss_fn_eval(y_hat, ratings_eval)\n",
    "        optimizer_eval.zero_grad()\n",
    "        loss_eval.backward(retain_graph=retain_graph, create_graph=create_graph)\n",
    "        optimizer_eval.step()\n",
    "    eval_model.eval()\n",
    "\n",
    "    # compute and store accuracy of eval model after T training steps\n",
    "    with torch.no_grad():\n",
    "        # training accuracy and loss including perturbed edges\n",
    "        y_hat = eval_model(users, items).reshape(ratings_eval.shape)\n",
    "        perturbations['accuracy-before-target'].append(get_accuracy(y_hat, ratings_eval))\n",
    "        perturbations['loss-before-target'].append(loss_fn_eval(y_hat, ratings_eval).item())\n",
    "\n",
    "        # compute training AUROC including perturbed edges\n",
    "        y_pred = y_hat.detach().clone().to('cpu').numpy()\n",
    "        y_actual = ratings_eval.detach().clone().to('cpu').numpy() \n",
    "        perturbations['auc-before-target'].append(roc_auc_score(y_actual, y_pred))\n",
    "\n",
    "        # training accuracy and loss excluding perturbed edges\n",
    "        y_hat_masked = torch.masked_select(y_hat, perturbs_eval)\n",
    "        ratings_masked = torch.masked_select(ratings_eval, perturbs_eval)\n",
    "        perturbations['accuracy-after-target'].append(get_accuracy(y_hat_masked, ratings_masked))\n",
    "        perturbations['loss-after-target'].append(loss_fn_eval(y_hat_masked, ratings_masked).item())\n",
    "\n",
    "        # compute training AUROC excluding perturbed edges\n",
    "        y_pred = y_hat_masked.detach().clone().to('cpu').numpy()\n",
    "        y_actual = ratings_masked.detach().clone().to('cpu').numpy()\n",
    "        perturbations['auc-after-target'].append(roc_auc_score(y_actual, y_pred))\n",
    "\n",
    "    # compute and store accuracy of target model on unseen data\n",
    "    with torch.no_grad():\n",
    "        y_hat = eval_model(users_test, items_test).reshape(ratings_test.shape)\n",
    "        perturbations['accuracy-unseen-target'].append(get_accuracy(y_hat, ratings_test))\n",
    "        perturbations['loss-unseen-target'].append(loss_fn(y_hat, ratings_test).item())\n",
    "\n",
    "        # compute unseen AUROC\n",
    "        y_pred = y_hat.detach().clone().to('cpu').numpy()\n",
    "        y_actual = ratings_test.detach().clone().to('cpu').numpy()\n",
    "        perturbations['auc-unseen-target'].append(roc_auc_score(y_actual, y_pred))\n",
    "\n",
    "    # select best edge and perform perturbation\n",
    "    with torch.no_grad():\n",
    "        if 'meta' in algorithm:\n",
    "            meta_grad[mask == True] = 0\n",
    "            best_edge = meta_grad.argmax().item()\n",
    "            \n",
    "            if mask[best_edge] == False:\n",
    "                ratings[best_edge] = 1\n",
    "                perturbs[best_edge] = False\n",
    "                mask[best_edge] = True\n",
    "            else:\n",
    "                print('Perturbation #{}: No more edges left to perturb'.format(delta))\n",
    "\n",
    "            perturbations['edges'].append(best_edge)\n",
    "            perturbations['metagrad'].append(meta_grad[best_edge].item())\n",
    "\n",
    "        else:\n",
    "            best_edge = edges_to_perturb[delta]\n",
    "            ratings[best_edge] = 1 \n",
    "            perturbs[best_edge] = False\n",
    "            mask[best_edge] = True\n",
    "\n",
    "            perturbations['edges'].append(best_edge)\n",
    "            perturbations['metagrad'].append(-1)\n",
    "\n",
    "sleep(1)\n",
    "# compute execution time\n",
    "exec_time = int(time.time() - start_time)\n",
    "exec_time = time.strftime(\"%Hh %Mm %Ss\", time.gmtime(exec_time))\n",
    "print('-> Execution time: {}'.format(exec_time))\n",
    "\n",
    "# process results\n",
    "perturbations = pd.DataFrame(perturbations)\n",
    "filename = '{}({},{})-{}({},{})-{}-D={}-T({},{})-lr({},{})-seed({},{})-drop({},{})'.format(surrogate, n_factors_surrogate, opt_surrogate, target, n_factors_target, opt_target, algorithm, Delta, T_surrogate, T_target, lr_surrogate, lr_target, seed_surrogate, seed_target, dropout_surrogate, dropout_target)\n",
    "print('-> File name: {}'.format(filename))\n",
    "if save_results:\n",
    "    perturbations.to_csv('results/' + dataset + '/' + filename + '.csv')\n"
   ]
  },
  {
   "cell_type": "code",
   "execution_count": 82,
   "metadata": {},
   "outputs": [
    {
     "name": "stdout",
     "output_type": "stream",
     "text": [
      "File name:  CF(16,adam)-CF(16,adam)-meta-similar(200)-D=10000-T(25,25)-lr(0.2,0.2)-seed(0,1)-drop(0,0)\n",
      "Max meta-gradient:  0.0001875264715636149\n"
     ]
    },
    {
     "data": {
      "text/html": [
       "<div>\n",
       "<style scoped>\n",
       "    .dataframe tbody tr th:only-of-type {\n",
       "        vertical-align: middle;\n",
       "    }\n",
       "\n",
       "    .dataframe tbody tr th {\n",
       "        vertical-align: top;\n",
       "    }\n",
       "\n",
       "    .dataframe thead th {\n",
       "        text-align: right;\n",
       "    }\n",
       "</style>\n",
       "<table border=\"1\" class=\"dataframe\">\n",
       "  <thead>\n",
       "    <tr style=\"text-align: right;\">\n",
       "      <th></th>\n",
       "      <th>edges</th>\n",
       "      <th>metagrad</th>\n",
       "      <th>accuracy-before-surrogate</th>\n",
       "      <th>accuracy-after-surrogate</th>\n",
       "      <th>accuracy-unseen-surrogate</th>\n",
       "      <th>loss-before-surrogate</th>\n",
       "      <th>loss-after-surrogate</th>\n",
       "      <th>loss-unseen-surrogate</th>\n",
       "      <th>accuracy-before-target</th>\n",
       "      <th>accuracy-after-target</th>\n",
       "      <th>accuracy-unseen-target</th>\n",
       "      <th>loss-before-target</th>\n",
       "      <th>loss-after-target</th>\n",
       "      <th>loss-unseen-target</th>\n",
       "      <th>auc-before-surrogate</th>\n",
       "      <th>auc-after-surrogate</th>\n",
       "      <th>auc-unseen-surrogate</th>\n",
       "      <th>auc-before-target</th>\n",
       "      <th>auc-after-target</th>\n",
       "      <th>auc-unseen-target</th>\n",
       "    </tr>\n",
       "  </thead>\n",
       "  <tbody>\n",
       "    <tr>\n",
       "      <th>0</th>\n",
       "      <td>155353</td>\n",
       "      <td>0.000188</td>\n",
       "      <td>0.894537</td>\n",
       "      <td>0.894537</td>\n",
       "      <td>0.775835</td>\n",
       "      <td>0.244524</td>\n",
       "      <td>0.244524</td>\n",
       "      <td>0.674298</td>\n",
       "      <td>0.895639</td>\n",
       "      <td>0.895639</td>\n",
       "      <td>0.778807</td>\n",
       "      <td>0.244636</td>\n",
       "      <td>0.244636</td>\n",
       "      <td>0.664935</td>\n",
       "      <td>0.962759</td>\n",
       "      <td>0.962759</td>\n",
       "      <td>0.851160</td>\n",
       "      <td>0.962759</td>\n",
       "      <td>0.962759</td>\n",
       "      <td>0.852277</td>\n",
       "    </tr>\n",
       "    <tr>\n",
       "      <th>1</th>\n",
       "      <td>58934</td>\n",
       "      <td>0.000185</td>\n",
       "      <td>0.894552</td>\n",
       "      <td>0.894552</td>\n",
       "      <td>0.775612</td>\n",
       "      <td>0.244555</td>\n",
       "      <td>0.244556</td>\n",
       "      <td>0.674165</td>\n",
       "      <td>0.895634</td>\n",
       "      <td>0.895633</td>\n",
       "      <td>0.778881</td>\n",
       "      <td>0.244655</td>\n",
       "      <td>0.244657</td>\n",
       "      <td>0.664819</td>\n",
       "      <td>0.962750</td>\n",
       "      <td>0.962750</td>\n",
       "      <td>0.851170</td>\n",
       "      <td>0.962753</td>\n",
       "      <td>0.962753</td>\n",
       "      <td>0.852288</td>\n",
       "    </tr>\n",
       "    <tr>\n",
       "      <th>2</th>\n",
       "      <td>105617</td>\n",
       "      <td>0.000185</td>\n",
       "      <td>0.894500</td>\n",
       "      <td>0.894504</td>\n",
       "      <td>0.775538</td>\n",
       "      <td>0.244626</td>\n",
       "      <td>0.244591</td>\n",
       "      <td>0.674341</td>\n",
       "      <td>0.895571</td>\n",
       "      <td>0.895575</td>\n",
       "      <td>0.778955</td>\n",
       "      <td>0.244672</td>\n",
       "      <td>0.244667</td>\n",
       "      <td>0.664618</td>\n",
       "      <td>0.962734</td>\n",
       "      <td>0.962741</td>\n",
       "      <td>0.851113</td>\n",
       "      <td>0.962750</td>\n",
       "      <td>0.962752</td>\n",
       "      <td>0.852320</td>\n",
       "    </tr>\n",
       "    <tr>\n",
       "      <th>3</th>\n",
       "      <td>63668</td>\n",
       "      <td>0.000185</td>\n",
       "      <td>0.894380</td>\n",
       "      <td>0.894384</td>\n",
       "      <td>0.775414</td>\n",
       "      <td>0.244618</td>\n",
       "      <td>0.244584</td>\n",
       "      <td>0.674449</td>\n",
       "      <td>0.895654</td>\n",
       "      <td>0.895658</td>\n",
       "      <td>0.779104</td>\n",
       "      <td>0.244673</td>\n",
       "      <td>0.244669</td>\n",
       "      <td>0.664583</td>\n",
       "      <td>0.962736</td>\n",
       "      <td>0.962743</td>\n",
       "      <td>0.851118</td>\n",
       "      <td>0.962748</td>\n",
       "      <td>0.962750</td>\n",
       "      <td>0.852321</td>\n",
       "    </tr>\n",
       "    <tr>\n",
       "      <th>4</th>\n",
       "      <td>219</td>\n",
       "      <td>0.000173</td>\n",
       "      <td>0.894526</td>\n",
       "      <td>0.894529</td>\n",
       "      <td>0.775439</td>\n",
       "      <td>0.244598</td>\n",
       "      <td>0.244564</td>\n",
       "      <td>0.676520</td>\n",
       "      <td>0.895654</td>\n",
       "      <td>0.895657</td>\n",
       "      <td>0.779129</td>\n",
       "      <td>0.244693</td>\n",
       "      <td>0.244690</td>\n",
       "      <td>0.664414</td>\n",
       "      <td>0.962743</td>\n",
       "      <td>0.962749</td>\n",
       "      <td>0.851144</td>\n",
       "      <td>0.962742</td>\n",
       "      <td>0.962743</td>\n",
       "      <td>0.852360</td>\n",
       "    </tr>\n",
       "    <tr>\n",
       "      <th>...</th>\n",
       "      <td>...</td>\n",
       "      <td>...</td>\n",
       "      <td>...</td>\n",
       "      <td>...</td>\n",
       "      <td>...</td>\n",
       "      <td>...</td>\n",
       "      <td>...</td>\n",
       "      <td>...</td>\n",
       "      <td>...</td>\n",
       "      <td>...</td>\n",
       "      <td>...</td>\n",
       "      <td>...</td>\n",
       "      <td>...</td>\n",
       "      <td>...</td>\n",
       "      <td>...</td>\n",
       "      <td>...</td>\n",
       "      <td>...</td>\n",
       "      <td>...</td>\n",
       "      <td>...</td>\n",
       "      <td>...</td>\n",
       "    </tr>\n",
       "    <tr>\n",
       "      <th>9995</th>\n",
       "      <td>0</td>\n",
       "      <td>0.000000</td>\n",
       "      <td>0.867959</td>\n",
       "      <td>0.864752</td>\n",
       "      <td>0.772269</td>\n",
       "      <td>0.296756</td>\n",
       "      <td>0.296718</td>\n",
       "      <td>0.621621</td>\n",
       "      <td>0.880603</td>\n",
       "      <td>0.879034</td>\n",
       "      <td>0.774300</td>\n",
       "      <td>0.274057</td>\n",
       "      <td>0.276929</td>\n",
       "      <td>0.642305</td>\n",
       "      <td>0.941843</td>\n",
       "      <td>0.944337</td>\n",
       "      <td>0.850848</td>\n",
       "      <td>0.951983</td>\n",
       "      <td>0.952054</td>\n",
       "      <td>0.850247</td>\n",
       "    </tr>\n",
       "    <tr>\n",
       "      <th>9996</th>\n",
       "      <td>0</td>\n",
       "      <td>0.000000</td>\n",
       "      <td>0.867959</td>\n",
       "      <td>0.864752</td>\n",
       "      <td>0.772269</td>\n",
       "      <td>0.296756</td>\n",
       "      <td>0.296718</td>\n",
       "      <td>0.621621</td>\n",
       "      <td>0.880603</td>\n",
       "      <td>0.879034</td>\n",
       "      <td>0.774300</td>\n",
       "      <td>0.274057</td>\n",
       "      <td>0.276929</td>\n",
       "      <td>0.642305</td>\n",
       "      <td>0.941843</td>\n",
       "      <td>0.944337</td>\n",
       "      <td>0.850848</td>\n",
       "      <td>0.951983</td>\n",
       "      <td>0.952054</td>\n",
       "      <td>0.850247</td>\n",
       "    </tr>\n",
       "    <tr>\n",
       "      <th>9997</th>\n",
       "      <td>0</td>\n",
       "      <td>0.000000</td>\n",
       "      <td>0.867959</td>\n",
       "      <td>0.864752</td>\n",
       "      <td>0.772269</td>\n",
       "      <td>0.296756</td>\n",
       "      <td>0.296718</td>\n",
       "      <td>0.621621</td>\n",
       "      <td>0.880603</td>\n",
       "      <td>0.879034</td>\n",
       "      <td>0.774300</td>\n",
       "      <td>0.274057</td>\n",
       "      <td>0.276929</td>\n",
       "      <td>0.642305</td>\n",
       "      <td>0.941843</td>\n",
       "      <td>0.944337</td>\n",
       "      <td>0.850848</td>\n",
       "      <td>0.951983</td>\n",
       "      <td>0.952054</td>\n",
       "      <td>0.850247</td>\n",
       "    </tr>\n",
       "    <tr>\n",
       "      <th>9998</th>\n",
       "      <td>0</td>\n",
       "      <td>0.000000</td>\n",
       "      <td>0.867959</td>\n",
       "      <td>0.864752</td>\n",
       "      <td>0.772269</td>\n",
       "      <td>0.296756</td>\n",
       "      <td>0.296718</td>\n",
       "      <td>0.621621</td>\n",
       "      <td>0.880603</td>\n",
       "      <td>0.879034</td>\n",
       "      <td>0.774300</td>\n",
       "      <td>0.274057</td>\n",
       "      <td>0.276929</td>\n",
       "      <td>0.642305</td>\n",
       "      <td>0.941843</td>\n",
       "      <td>0.944337</td>\n",
       "      <td>0.850848</td>\n",
       "      <td>0.951983</td>\n",
       "      <td>0.952054</td>\n",
       "      <td>0.850247</td>\n",
       "    </tr>\n",
       "    <tr>\n",
       "      <th>9999</th>\n",
       "      <td>0</td>\n",
       "      <td>0.000000</td>\n",
       "      <td>0.867959</td>\n",
       "      <td>0.864752</td>\n",
       "      <td>0.772269</td>\n",
       "      <td>0.296756</td>\n",
       "      <td>0.296718</td>\n",
       "      <td>0.621621</td>\n",
       "      <td>0.880603</td>\n",
       "      <td>0.879034</td>\n",
       "      <td>0.774300</td>\n",
       "      <td>0.274057</td>\n",
       "      <td>0.276929</td>\n",
       "      <td>0.642305</td>\n",
       "      <td>0.941843</td>\n",
       "      <td>0.944337</td>\n",
       "      <td>0.850848</td>\n",
       "      <td>0.951983</td>\n",
       "      <td>0.952054</td>\n",
       "      <td>0.850247</td>\n",
       "    </tr>\n",
       "  </tbody>\n",
       "</table>\n",
       "<p>10000 rows × 20 columns</p>\n",
       "</div>"
      ],
      "text/plain": [
       "       edges  metagrad  accuracy-before-surrogate  accuracy-after-surrogate  \\\n",
       "0     155353  0.000188                   0.894537                  0.894537   \n",
       "1      58934  0.000185                   0.894552                  0.894552   \n",
       "2     105617  0.000185                   0.894500                  0.894504   \n",
       "3      63668  0.000185                   0.894380                  0.894384   \n",
       "4        219  0.000173                   0.894526                  0.894529   \n",
       "...      ...       ...                        ...                       ...   \n",
       "9995       0  0.000000                   0.867959                  0.864752   \n",
       "9996       0  0.000000                   0.867959                  0.864752   \n",
       "9997       0  0.000000                   0.867959                  0.864752   \n",
       "9998       0  0.000000                   0.867959                  0.864752   \n",
       "9999       0  0.000000                   0.867959                  0.864752   \n",
       "\n",
       "      accuracy-unseen-surrogate  loss-before-surrogate  loss-after-surrogate  \\\n",
       "0                      0.775835               0.244524              0.244524   \n",
       "1                      0.775612               0.244555              0.244556   \n",
       "2                      0.775538               0.244626              0.244591   \n",
       "3                      0.775414               0.244618              0.244584   \n",
       "4                      0.775439               0.244598              0.244564   \n",
       "...                         ...                    ...                   ...   \n",
       "9995                   0.772269               0.296756              0.296718   \n",
       "9996                   0.772269               0.296756              0.296718   \n",
       "9997                   0.772269               0.296756              0.296718   \n",
       "9998                   0.772269               0.296756              0.296718   \n",
       "9999                   0.772269               0.296756              0.296718   \n",
       "\n",
       "      loss-unseen-surrogate  accuracy-before-target  accuracy-after-target  \\\n",
       "0                  0.674298                0.895639               0.895639   \n",
       "1                  0.674165                0.895634               0.895633   \n",
       "2                  0.674341                0.895571               0.895575   \n",
       "3                  0.674449                0.895654               0.895658   \n",
       "4                  0.676520                0.895654               0.895657   \n",
       "...                     ...                     ...                    ...   \n",
       "9995               0.621621                0.880603               0.879034   \n",
       "9996               0.621621                0.880603               0.879034   \n",
       "9997               0.621621                0.880603               0.879034   \n",
       "9998               0.621621                0.880603               0.879034   \n",
       "9999               0.621621                0.880603               0.879034   \n",
       "\n",
       "      accuracy-unseen-target  loss-before-target  loss-after-target  \\\n",
       "0                   0.778807            0.244636           0.244636   \n",
       "1                   0.778881            0.244655           0.244657   \n",
       "2                   0.778955            0.244672           0.244667   \n",
       "3                   0.779104            0.244673           0.244669   \n",
       "4                   0.779129            0.244693           0.244690   \n",
       "...                      ...                 ...                ...   \n",
       "9995                0.774300            0.274057           0.276929   \n",
       "9996                0.774300            0.274057           0.276929   \n",
       "9997                0.774300            0.274057           0.276929   \n",
       "9998                0.774300            0.274057           0.276929   \n",
       "9999                0.774300            0.274057           0.276929   \n",
       "\n",
       "      loss-unseen-target  auc-before-surrogate  auc-after-surrogate  \\\n",
       "0               0.664935              0.962759             0.962759   \n",
       "1               0.664819              0.962750             0.962750   \n",
       "2               0.664618              0.962734             0.962741   \n",
       "3               0.664583              0.962736             0.962743   \n",
       "4               0.664414              0.962743             0.962749   \n",
       "...                  ...                   ...                  ...   \n",
       "9995            0.642305              0.941843             0.944337   \n",
       "9996            0.642305              0.941843             0.944337   \n",
       "9997            0.642305              0.941843             0.944337   \n",
       "9998            0.642305              0.941843             0.944337   \n",
       "9999            0.642305              0.941843             0.944337   \n",
       "\n",
       "      auc-unseen-surrogate  auc-before-target  auc-after-target  \\\n",
       "0                 0.851160           0.962759          0.962759   \n",
       "1                 0.851170           0.962753          0.962753   \n",
       "2                 0.851113           0.962750          0.962752   \n",
       "3                 0.851118           0.962748          0.962750   \n",
       "4                 0.851144           0.962742          0.962743   \n",
       "...                    ...                ...               ...   \n",
       "9995              0.850848           0.951983          0.952054   \n",
       "9996              0.850848           0.951983          0.952054   \n",
       "9997              0.850848           0.951983          0.952054   \n",
       "9998              0.850848           0.951983          0.952054   \n",
       "9999              0.850848           0.951983          0.952054   \n",
       "\n",
       "      auc-unseen-target  \n",
       "0              0.852277  \n",
       "1              0.852288  \n",
       "2              0.852320  \n",
       "3              0.852321  \n",
       "4              0.852360  \n",
       "...                 ...  \n",
       "9995           0.850247  \n",
       "9996           0.850247  \n",
       "9997           0.850247  \n",
       "9998           0.850247  \n",
       "9999           0.850247  \n",
       "\n",
       "[10000 rows x 20 columns]"
      ]
     },
     "execution_count": 82,
     "metadata": {},
     "output_type": "execute_result"
    }
   ],
   "source": [
    "print('File name: ', filename)\n",
    "if 'meta' in algorithm:\n",
    "    print('Max meta-gradient: ', perturbations['metagrad'].max())\n",
    "perturbations"
   ]
  },
  {
   "cell_type": "code",
   "execution_count": 83,
   "metadata": {},
   "outputs": [
    {
     "name": "stdout",
     "output_type": "stream",
     "text": [
      "File name:  CF(16,adam)-CF(16,adam)-meta-similar(200)-D=10000-T(25,25)-lr(0.2,0.2)-seed(0,1)-drop(0,0)\n"
     ]
    },
    {
     "data": {
      "image/png": "[encoded data removed]",
      "text/plain": [
       "<Figure size 504x432 with 1 Axes>"
      ]
     },
     "metadata": {},
     "output_type": "display_data"
    },
    {
     "data": {
      "image/png": "[encoded data removed]",
      "text/plain": [
       "<Figure size 504x432 with 1 Axes>"
      ]
     },
     "metadata": {},
     "output_type": "display_data"
    },
    {
     "data": {
      "image/png": "[encoded data removed]",
      "text/plain": [
       "<Figure size 504x432 with 1 Axes>"
      ]
     },
     "metadata": {},
     "output_type": "display_data"
    },
    {
     "data": {
      "image/png": "[encoded data removed]",
      "text/plain": [
       "<Figure size 504x432 with 1 Axes>"
      ]
     },
     "metadata": {},
     "output_type": "display_data"
    },
    {
     "data": {
      "image/png": "[encoded data removed]",
      "text/plain": [
       "<Figure size 504x432 with 1 Axes>"
      ]
     },
     "metadata": {},
     "output_type": "display_data"
    },
    {
     "data": {
      "image/png": "[encoded data removed]",
      "text/plain": [
       "<Figure size 504x432 with 1 Axes>"
      ]
     },
     "metadata": {},
     "output_type": "display_data"
    }
   ],
   "source": [
    "# Process perturbations data\n",
    "perturbations_reset = perturbations.reset_index()\n",
    "perturbations_reset.columns = ['# Perturbations', 'Perturbed edge', 'Meta gradient', 'Accuracy including perturbed edges (surrogate)', 'Accuracy excluding perturbed edges (surrogate)', 'Accuracy unseen (surrogate)', 'Loss including perturbed edges (surrogate)', 'Loss excluding perturbed edges (surrogate)', 'Loss unseen (surrogate)', 'Accuracy including perturbed edges (target)', 'Accuracy excluding perturbed edges (target)', 'Accuracy unseen (target)', 'Loss including perturbed edges (target)', 'Loss excluding perturbed edges (target)', 'Loss unseen (target)', 'AUROC including perturbed edges (surrogate)', 'AUROC excluding perturbed edges (surrogate)', 'AUROC unseen (surrogate)', 'AUROC including perturbed edges (target)', 'AUROC excluding perturbed edges (target)', 'AUROC unseen (target)']\n",
    "perturbations_reset\n",
    "\n",
    "# Figure specifications\n",
    "sns.set_theme()\n",
    "figsize = (7, 6)\n",
    "print('File name: ', filename)\n",
    "\n",
    "# Loss on training data plot\n",
    "plt.figure(figsize = figsize)\n",
    "sns.lineplot(data = perturbations_reset, x = '# Perturbations', y = 'Loss excluding perturbed edges (surrogate)', color = 'blue').set_title('Comparison of loss on training data ({})'.format(algorithm))\n",
    "fig = sns.lineplot(data = perturbations_reset, x = '# Perturbations', y = 'Loss excluding perturbed edges (target)', color = 'green').get_figure()\n",
    "plt.xlabel('Number of perturbations')\n",
    "plt.ylabel('Loss')\n",
    "plt.legend(labels = ['Loss (surrogate)', 'Loss (target)'])\n",
    "if save_results: \n",
    "    fig.savefig('plots/' + dataset + '/losses-' + filename + '.png')\n",
    "plt.show()\n",
    "\n",
    "# Loss on unseen data plot\n",
    "plt.figure(figsize = figsize)\n",
    "sns.lineplot(data = perturbations_reset, x = '# Perturbations', y = 'Loss unseen (surrogate)', color = 'blue').set_title('Comparison of loss on unseen data ({})'.format(algorithm))\n",
    "fig = sns.lineplot(data = perturbations_reset, x = '# Perturbations', y = 'Loss unseen (target)', color = 'green').get_figure()\n",
    "plt.xlabel('Number of perturbations')\n",
    "plt.ylabel('Loss')\n",
    "plt.legend(labels = ['Loss unseen (surrogate)', 'Loss unseen (target)'])\n",
    "if save_results: \n",
    "    fig.savefig('plots/' + dataset + '/losses-unseen-' + filename + '.png')\n",
    "plt.show()\n",
    "\n",
    "# Accuracy on training data plot\n",
    "plt.figure(figsize = figsize)\n",
    "sns.lineplot(data = perturbations_reset, x = '# Perturbations', y = 'Accuracy excluding perturbed edges (surrogate)', color = 'blue').set_title('Comparison of accuracy on training data ({})'.format(algorithm))\n",
    "fig = sns.lineplot(data = perturbations_reset, x = '# Perturbations', y = 'Accuracy excluding perturbed edges (target)', color = 'green').get_figure()\n",
    "plt.xlabel('Number of perturbations')\n",
    "plt.ylabel('Accuracy')\n",
    "plt.legend(labels = ['Accuracy (surrogate)', 'Accuracy (target)'])\n",
    "if save_results:\n",
    "    fig.savefig('plots/' + dataset + '/accuracy-' + filename + '.png')\n",
    "plt.show()\n",
    "\n",
    "# Accuracy on unseen data plot\n",
    "plt.figure(figsize = figsize)\n",
    "sns.lineplot(data = perturbations_reset, x = '# Perturbations', y = 'Accuracy unseen (surrogate)', color = 'blue').set_title('Comparison of accuracy on unseen data ({})'.format(algorithm))\n",
    "fig = sns.lineplot(data = perturbations_reset, x = '# Perturbations', y = 'Accuracy unseen (target)', color = 'green').get_figure()\n",
    "plt.xlabel('Number of perturbations')\n",
    "plt.ylabel('Accuracy')\n",
    "plt.legend(labels = ['Accuracy unseen (surrogate)', 'Accuracy unseen (target)'])\n",
    "if save_results: \n",
    "    fig.savefig('plots/' + dataset + '/accuracy-unseen-' + filename + '.png')\n",
    "plt.show()\n",
    "\n",
    "# AUROC on training data plot\n",
    "plt.figure(figsize = figsize)\n",
    "sns.lineplot(data = perturbations_reset, x = '# Perturbations', y = 'AUROC excluding perturbed edges (surrogate)', color = 'blue').set_title('Comparison of AUROC on training data ({})'.format(algorithm))\n",
    "fig = sns.lineplot(data = perturbations_reset, x = '# Perturbations', y = 'AUROC excluding perturbed edges (target)', color = 'green').get_figure()\n",
    "plt.xlabel('Number of perturbations')\n",
    "plt.ylabel('AUROC')\n",
    "plt.legend(labels = ['AUROC (surrogate)', 'AUROC (target)'])\n",
    "if save_results:\n",
    "    fig.savefig('plots/' + dataset + '/AUROC-' + filename + '.png')\n",
    "plt.show()\n",
    "\n",
    "# AUROC on unseen data plot\n",
    "plt.figure(figsize = figsize)\n",
    "sns.lineplot(data = perturbations_reset, x = '# Perturbations', y = 'AUROC unseen (surrogate)', color = 'blue').set_title('Comparison of AUROC on unseen data ({})'.format(algorithm))\n",
    "fig = sns.lineplot(data = perturbations_reset, x = '# Perturbations', y = 'AUROC unseen (target)', color = 'green').get_figure()\n",
    "plt.xlabel('Number of perturbations')\n",
    "plt.ylabel('AUROC')\n",
    "plt.legend(labels = ['AUROC unseen (surrogate)', 'AUROC unseen (target)'])\n",
    "if save_results:\n",
    "    fig.savefig('plots/' + dataset + '/AUROC-unseen-' + filename + '.png')\n",
    "plt.show()"
   ]
  }
 ],
 "metadata": {
  "interpreter": {
   "hash": "6f38835821387ecea7238337192aa99e87ed1a9c9c1fa6562e207de7e0c31193"
  },
  "kernelspec": {
   "display_name": "Python 3.7.11 ('PyG': conda)",
   "language": "python",
   "name": "python3"
  },
  "language_info": {
   "codemirror_mode": {
    "name": "ipython",
    "version": 3
   },
   "file_extension": ".py",
   "mimetype": "text/x-python",
   "name": "python",
   "nbconvert_exporter": "python",
   "pygments_lexer": "ipython3",
   "version": "3.7.11"
  },
  "orig_nbformat": 4
 },
 "nbformat": 4,
 "nbformat_minor": 2
}
